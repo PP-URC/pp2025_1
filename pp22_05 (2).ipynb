{
  "nbformat": 4,
  "nbformat_minor": 0,
  "metadata": {
    "colab": {
      "provenance": []
    },
    "kernelspec": {
      "name": "python3",
      "display_name": "Python 3"
    },
    "language_info": {
      "name": "python"
    }
  },
  "cells": [
    {
      "cell_type": "code",
      "source": [
        "!git clone https://github.com/PP-URC/pp2025_1.git\n",
        "!ls pp2025_1/data"
      ],
      "metadata": {
        "colab": {
          "base_uri": "https://localhost:8080/"
        },
        "id": "kPG6FiTc3b8v",
        "outputId": "6e88cef1-373f-4ca2-e0ca-cb538db4ea7a"
      },
      "execution_count": 2,
      "outputs": [
        {
          "output_type": "stream",
          "name": "stdout",
          "text": [
            "fatal: destination path 'pp2025_1' already exists and is not an empty directory.\n",
            "delitosXLSX\t\tlines_colors.csv  stations.csv\n",
            "delitos_xlsx_links.txt\tmetro_lines.py\n"
          ]
        }
      ]
    },
    {
      "cell_type": "code",
      "source": [
        "import csv\n",
        "import os\n",
        "import requests\n",
        "import numpy as np\n",
        "import pandas as pd\n",
        "import plotly.express as px\n",
        "import plotly.graph_objects as go\n",
        "import holidays\n",
        "import openpyxl\n",
        "from scipy.optimize import curve_fit\n",
        "\n",
        "stations_path = \"/content/pp2025_1/data/stations.csv\"\n",
        "lines_colors_path = \"pp2025_1/data/lines_colors.csv\"\n",
        "\n",
        "with open(stations_path) as stations_f:\n",
        "    st_reader = csv.reader(stations_f)\n",
        "    next(st_reader)\n",
        "    stations_dict = {}\n",
        "    for entry in st_reader:\n",
        "        station_name = entry[1]\n",
        "        stations_dict.setdefault(station_name, dict())\n",
        "        stations_dict[station_name][\"lat\"] = entry[2]\n",
        "        stations_dict[station_name][\"lon\"] = entry[3]\n",
        "        #stations_dict[station_name].setdefault(\"lines\", list()).append(entry[4])\n",
        "#pprint(stations_dict)\n",
        "\n",
        "\n",
        "with open(lines_colors_path) as colors_f:\n",
        "    colors_reader = csv.reader(colors_f)\n",
        "    next(colors_reader)\n",
        "    line_colors_dict = dict()\n",
        "    for line_color_data in colors_reader:\n",
        "        line_colors_dict[f\"Linea {line_color_data[0]}\"] = line_color_data[2]"
      ],
      "metadata": {
        "collapsed": true,
        "id": "hV4qmTQnFCq4"
      },
      "execution_count": 3,
      "outputs": []
    },
    {
      "cell_type": "code",
      "source": [
        "%%capture\n",
        "%%bash\n",
        "\n",
        "rm /etc/resolv.conf\n",
        "echo \"nameserver 8.8.8.8\" > /etc/resolv.conf\n",
        "echo \"nameserver 8.8.4.4\" >> /etc/resolv.conf\n",
        "cat /etc/resolv.conf"
      ],
      "metadata": {
        "id": "Ha56uwoL-gVt"
      },
      "execution_count": 4,
      "outputs": []
    },
    {
      "cell_type": "code",
      "source": [
        "metro_lines = {\n",
        "    \"Linea 1\": [\n",
        "        \"Observatorio\", \"Tacubaya\", \"Juanacatlán\", \"Chapultepec\", \"Sevilla\",\n",
        "        \"Insurgentes\", \"Cuauhtémoc\", \"Balderas\", \"Salto del Agua\", \"Isabel la Católica\",\n",
        "        \"Pino Suárez\", \"Merced\", \"Candelaria\", \"San Lázaro\", \"Moctezuma\", \"Balbuena\",\n",
        "        \"Boulevard Pto. Aéreo\", \"Gómez Farías\", \"Zaragoza\", \"Pantitlán\"\n",
        "    ],\n",
        "    \"Linea 2\": [\n",
        "        \"Cuatro Caminos\", \"Panteones\", \"Tacuba\", \"Cuitláhuac\", \"Popotla\", \"Colegio Militar\",\n",
        "        \"Normal\", \"San Cosme\", \"Revolución\", \"Hidalgo\", \"Bellas Artes\", \"Allende\",\n",
        "        \"Zócalo\", \"Pino Suárez\", \"San Antonio Abad\", \"Chabacano\", \"Viaducto\", \"Xola\",\n",
        "        \"Villa de Cortés\", \"Nativitas\", \"Portales\", \"Ermita\", \"General Anaya\", \"Tasqueña\"\n",
        "    ],\n",
        "    \"Linea 3\": [\n",
        "        \"Indios Verdes\", \"Deportivo 18 de Marzo\", \"Potrero\", \"La Raza\", \"Tlatelolco\", \"Guerrero\",\n",
        "        \"Hidalgo\", \"Juárez\", \"Balderas\", \"Niños Héroes\", \"Hospital General\", \"Centro Médico\",\n",
        "        \"Etiopía / Plaza de la Transparencia\", \"Eugenia\", \"División del Norte\", \"Zapata\",\n",
        "        \"Coyoacán\", \"Viveros / Derechos Humanos\", \"Miguel Ángel de Quevedo\", \"Copilco\", \"Universidad\"\n",
        "    ],\n",
        "    \"Linea 4\": [\n",
        "        \"Martín Carrera\", \"Talismán\", \"Bondojito\", \"Consulado\", \"Canal del Norte\", \"Morelos\", \"Candelaria\",\n",
        "        \"Fray Servando\", \"Jamaica\", \"Santa Anita\"\n",
        "    ],\n",
        "    \"Linea 5\": [\n",
        "        \"Pantitlán\", \"Hangares\", \"Terminal Aérea\", \"Oceanía\", \"Aragón\", \"Eduardo Molina\",\n",
        "        \"Consulado\", \"Valle Gómez\", \"Misterios\", \"La Raza\", \"Autobuses del Norte\",\n",
        "        \"Instituto del Petróleo\", \"Politécnico\"\n",
        "    ],\n",
        "    \"Linea 6\": [\n",
        "        \"El Rosario\", \"Tezozómoc\", \"Azcapotzalco\", \"Ferrería\", \"Norte 45\",\n",
        "        \"Vallejo\", \"Instituto del Petróleo\", \"Lindavista\", \"Deportivo 18 de Marzo\",\n",
        "        \"La Villa-Basílica\", \"Martín Carrera\"\n",
        "    ],\n",
        "    \"Linea 7\": [\n",
        "        \"El Rosario\", \"Aquiles Serdán\", \"Camarones\", \"Refinería\", \"Tacuba\", \"San Joaquín\",\n",
        "        \"Polanco\", \"Auditorio\", \"Constituyentes\", \"Tacubaya\", \"San Pedro de los Pinos\",\n",
        "        \"San Antonio\", \"Mixcoac\", \"Barranca del Muerto\"\n",
        "    ],\n",
        "    \"Linea 8\": [\n",
        "        \"Garibaldi\", \"Bellas Artes\", \"San Juan de Letrán\", \"Salto del Agua\", \"Doctores\",\n",
        "        \"Obrera\", \"Chabacano\", \"La Viga\", \"Santa Anita\", \"Coyuya\", \"Iztacalco\", \"Apatlaco\",\n",
        "        \"Aculco\", \"Escuadrón 201\", \"Atlalilco\", \"Iztapalapa\", \"Cerro de la Estrella\",\n",
        "        \"UAM-I\", \"Constitución de 1917\"\n",
        "    ],\n",
        "    \"Linea 9\": [\n",
        "        \"Tacubaya\", \"Patriotismo\", \"Chilpancingo\", \"Centro Médico\", \"Lázaro Cárdenas\", \"Chabacano\",\n",
        "        \"Jamaica\", \"Mixiuhca\", \"Velódromo\", \"Ciudad Deportiva\", \"Puebla\", \"Pantitlán\"\n",
        "    ],\n",
        "    \"Linea A\": [\n",
        "        \"Pantitlán\", \"Agrícola Oriental\", \"Canal de San Juan\", \"Tepalcates\", \"Guelatao\",\n",
        "        \"Peñón Viejo\", \"Acatitla\", \"Santa Marta\", \"Los Reyes\", \"La Paz\"\n",
        "    ],\n",
        "    \"Linea B\": [\n",
        "        \"Buenavista\", \"Guerrero\", \"Garibaldi\", \"Lagunilla\", \"Tepito\", \"Morelos\",\n",
        "        \"San Lázaro\", \"Ricardo Flores Magón\", \"Romero Rubio\", \"Oceanía\", \"Deportivo Oceanía\",\n",
        "        \"Bosque de Aragón\", \"Villa de Aragón\", \"Nezahualcóyotl\", \"Impulsora\", \"Río de los Remedios\",\n",
        "        \"Múzquiz\", \"Ecatepec\", \"Olímpica\", \"Plaza Aragón\", \"Ciudad Azteca\"\n",
        "    ],\n",
        "    \"Linea 12\": [\n",
        "        \"Mixcoac\", \"Insurgentes Sur\", \"Hospital 20 de Noviembre\", \"Zapata\", \"Parque de los Venados\",\n",
        "        \"Eje Central\", \"Ermita\", \"Mexicaltzingo\", \"Atlalilco\", \"Culhuacán\", \"San Andrés Tomatlán\",\n",
        "        \"Lomas Estrella\", \"Calle 11\", \"Periférico Oriente\", \"Tezonco\", \"Olivos\", \"Nopalera\",\n",
        "        \"Zapotitlán\", \"Tlaltenco\", \"Tláhuac\"\n",
        "    ]\n",
        "}"
      ],
      "metadata": {
        "id": "Qv2aWFwQRSHg"
      },
      "execution_count": 5,
      "outputs": []
    },
    {
      "cell_type": "code",
      "source": [
        "#https://www.fgjcdmx.gob.mx/transparencia/incidencia-delictiva\n",
        "\n",
        "report_links = [\n",
        "    \"https://www.fgjcdmx.gob.mx/storage/app/media/Transparencia/Incidencia%20Delictiva%202020/1A%20DELITOS%20DE%20ALTO%20IMPACTO%202020.xlsx\",\n",
        "    \"https://www.fgjcdmx.gob.mx/storage/app/media/Transparencia/Incidencia%20delictiva%202021/1A%20DELITOS%20DE%20ALTO%20IMPACTO%202021.xlsx\",\n",
        "    \"https://www.fgjcdmx.gob.mx/storage/app/media/Transparencia/Incidencia%20Delictiva%202022/1A%20DELITOS%20DE%20ALTO%20IMPACTO%202022.xlsx\",\n",
        "    \"https://www.fgjcdmx.gob.mx/storage/app/media/Transparencia/Incidencia%20Delictiva%202023/diciembre/1A%20DELITOS%20DE%20ALTO%20IMPACTO.xlsx\",\n",
        "    \"https://www.fgjcdmx.gob.mx/storage/app/media/Transparencia/Incidencia%20Delictiva%202024/Diciembre/1A%20DELITOS%20DE%20ALTO%20IMPACTO.xlsx\",\n",
        "    \"https://www.fgjcdmx.gob.mx/storage/app/media/Transparencia/Incidencia%20Delictiva%202025/Marzo/1A%20DELITOS%20DE%20ALTO%20IMPACTO.xlsx\"\n",
        "]\n",
        "try:\n",
        "    reports_path = \"/content/reportsXLSX\"\n",
        "    os.makedirs(reports_path, exist_ok=True)\n",
        "\n",
        "    for ind, url in enumerate(report_links):\n",
        "        filename = os.path.basename(url)\n",
        "        filepath = os.path.join(reports_path, f\"(report{ind}){filename}\")\n",
        "        print(f\"Downloading: {filename}\")\n",
        "        response = requests.get(url)\n",
        "        with open(filepath, \"wb\") as f:\n",
        "            f.write(response.content)\n",
        "except ConnectionError:\n",
        "    reports_path = \"/content/pp2025_1/data/delitosXLSX\""
      ],
      "metadata": {
        "colab": {
          "base_uri": "https://localhost:8080/"
        },
        "id": "0E7rvHpg1IpW",
        "outputId": "28c1f512-c7b7-4d06-ae36-34df0f8b4eea"
      },
      "execution_count": 6,
      "outputs": [
        {
          "output_type": "stream",
          "name": "stdout",
          "text": [
            "Downloading: 1A%20DELITOS%20DE%20ALTO%20IMPACTO%202020.xlsx\n",
            "Downloading: 1A%20DELITOS%20DE%20ALTO%20IMPACTO%202021.xlsx\n",
            "Downloading: 1A%20DELITOS%20DE%20ALTO%20IMPACTO%202022.xlsx\n",
            "Downloading: 1A%20DELITOS%20DE%20ALTO%20IMPACTO.xlsx\n",
            "Downloading: 1A%20DELITOS%20DE%20ALTO%20IMPACTO.xlsx\n",
            "Downloading: 1A%20DELITOS%20DE%20ALTO%20IMPACTO.xlsx\n"
          ]
        }
      ]
    },
    {
      "cell_type": "code",
      "source": [
        "dfs = []\n",
        "for filename in os.listdir(reports_path):\n",
        "    file_path = os.path.join(reports_path, filename)\n",
        "    if os.path.isfile(file_path):\n",
        "        print(f\"Processing file: {filename}\")\n",
        "        print(file_path)\n",
        "        wb = openpyxl.load_workbook(filename=file_path)\n",
        "\n",
        "        df = pd.DataFrame(wb.worksheets[0].iter_rows(values_only=True))\n",
        "        dfs.append(df)\n",
        "df = pd.concat(dfs)\n",
        "df.drop(0, inplace=True)\n",
        "df = df.iloc[:, :-1].copy()\n",
        "df.columns = df.iloc[0]\n",
        "df = df.drop(1).copy()"
      ],
      "metadata": {
        "id": "7RdptvEyJCEu",
        "colab": {
          "base_uri": "https://localhost:8080/"
        },
        "outputId": "5fcd299e-eb2c-414a-9f7b-3f2dd9c9cf73",
        "collapsed": true
      },
      "execution_count": 7,
      "outputs": [
        {
          "output_type": "stream",
          "name": "stdout",
          "text": [
            "Processing file: report_4.xlsx\n",
            "/content/reportsXLSX/report_4.xlsx\n",
            "Processing file: report_2.xlsx\n",
            "/content/reportsXLSX/report_2.xlsx\n",
            "Processing file: report_3.xlsx\n",
            "/content/reportsXLSX/report_3.xlsx\n",
            "Processing file: (report3)1A%20DELITOS%20DE%20ALTO%20IMPACTO.xlsx\n",
            "/content/reportsXLSX/(report3)1A%20DELITOS%20DE%20ALTO%20IMPACTO.xlsx\n",
            "Processing file: (report2)1A%20DELITOS%20DE%20ALTO%20IMPACTO%202022.xlsx\n",
            "/content/reportsXLSX/(report2)1A%20DELITOS%20DE%20ALTO%20IMPACTO%202022.xlsx\n",
            "Processing file: (report0)1A%20DELITOS%20DE%20ALTO%20IMPACTO%202020.xlsx\n",
            "/content/reportsXLSX/(report0)1A%20DELITOS%20DE%20ALTO%20IMPACTO%202020.xlsx\n",
            "Processing file: (report4)1A%20DELITOS%20DE%20ALTO%20IMPACTO.xlsx\n",
            "/content/reportsXLSX/(report4)1A%20DELITOS%20DE%20ALTO%20IMPACTO.xlsx\n",
            "Processing file: report_5.xlsx\n",
            "/content/reportsXLSX/report_5.xlsx\n",
            "Processing file: report_0.xlsx\n",
            "/content/reportsXLSX/report_0.xlsx\n",
            "Processing file: (report1)1A%20DELITOS%20DE%20ALTO%20IMPACTO%202021.xlsx\n",
            "/content/reportsXLSX/(report1)1A%20DELITOS%20DE%20ALTO%20IMPACTO%202021.xlsx\n",
            "Processing file: (report5)1A%20DELITOS%20DE%20ALTO%20IMPACTO.xlsx\n",
            "/content/reportsXLSX/(report5)1A%20DELITOS%20DE%20ALTO%20IMPACTO.xlsx\n",
            "Processing file: report_1.xlsx\n",
            "/content/reportsXLSX/report_1.xlsx\n"
          ]
        }
      ]
    },
    {
      "cell_type": "code",
      "source": [
        "df_m = df[df['MODALIDAD - DELITO'].str.contains(\"metro\", case=False)].copy()\n",
        "df_m['FECHA DE LOS HECHOS'] = pd.to_datetime(df_m['FECHA DE LOS HECHOS'], dayfirst=True)\n",
        "df_m['HORA DE LOS HECHOS'] = pd.to_datetime(df_m['HORA DE LOS HECHOS'], dayfirst=True)\n",
        "df_m.loc[:,\"month\"] = df_m[\"FECHA DE LOS HECHOS\"].dt.month\n",
        "df_m.loc[:,\"year\"] = df_m[\"FECHA DE LOS HECHOS\"].dt.year\n",
        "df_m.loc[:,\"day\"] = df_m[\"FECHA DE LOS HECHOS\"].dt.day\n",
        "df_m.loc[:,\"dayofweek\"] = df_m[\"FECHA DE LOS HECHOS\"].dt.dayofweek\n",
        "df_m[\"Hour\"] = df_m['HORA DE LOS HECHOS'].dt.hour\n",
        "df_m = df_m[df_m.year >= 2020].copy()"
      ],
      "metadata": {
        "colab": {
          "base_uri": "https://localhost:8080/"
        },
        "collapsed": true,
        "id": "7LH9ME6Q3aiR",
        "outputId": "03a8f1b1-754d-4d36-e63a-0aee5bf54f91"
      },
      "execution_count": 8,
      "outputs": [
        {
          "output_type": "stream",
          "name": "stderr",
          "text": [
            "<ipython-input-8-937f23d1b574>:3: UserWarning: Could not infer format, so each element will be parsed individually, falling back to `dateutil`. To ensure parsing is consistent and as-expected, please specify a format.\n",
            "  df_m['HORA DE LOS HECHOS'] = pd.to_datetime(df_m['HORA DE LOS HECHOS'], dayfirst=True)\n"
          ]
        }
      ]
    },
    {
      "cell_type": "code",
      "source": [
        "df_stations = pd.DataFrame([st, dat[\"lon\"], dat[\"lat\"]] for st, dat in stations_dict.items())\n",
        "df_stations.columns = [\"Station\", 'Longitude', 'Latitude']\n",
        "print(df_stations.dtypes)\n",
        "df_stations['Longitude'] = pd.to_numeric(df_stations['Longitude'], errors='coerce')\n",
        "df_stations['Latitude'] = pd.to_numeric(df_stations['Latitude'], errors='coerce')\n",
        "df_m['Longitude'] = pd.to_numeric(df_m['COORD X'], errors='coerce')\n",
        "df_m['Latitude'] = pd.to_numeric(df_m['COORD Y'], errors='coerce')\n",
        "print(df_stations.dtypes)"
      ],
      "metadata": {
        "id": "sP0YYtQmcff_",
        "collapsed": true,
        "colab": {
          "base_uri": "https://localhost:8080/"
        },
        "outputId": "90f3f6f8-5849-4296-c7cb-bd9ff4843d3d"
      },
      "execution_count": 9,
      "outputs": [
        {
          "output_type": "stream",
          "name": "stdout",
          "text": [
            "Station      object\n",
            "Longitude    object\n",
            "Latitude     object\n",
            "dtype: object\n",
            "Station       object\n",
            "Longitude    float64\n",
            "Latitude     float64\n",
            "dtype: object\n"
          ]
        }
      ]
    },
    {
      "cell_type": "code",
      "source": [
        "stations_coords = df_stations[['Latitude', 'Longitude']].to_numpy()\n",
        "df_m = df_m.dropna(subset=[\"Longitude\", \"Latitude\"]).copy()\n",
        "# Incident coords as a 2D array: shape (num_incidents, 2)\n",
        "incidents_coords = df_m[['Latitude', 'Longitude']].to_numpy()\n",
        "# Expand dimensions to broadcast subtraction\n",
        "# incidents_coords[:, None, :] shape: (num_incidents, 1, 2)\n",
        "# stations_coords[None, :, :] shape: (1, num_stations, 2)\n",
        "diff = incidents_coords[:, None, :] - stations_coords[None, :, :]  # shape: (num_incidents, num_stations, 2)\n",
        "\n",
        "# Euclidean distance\n",
        "dists = np.sqrt(np.sum(diff ** 2, axis=2))  # shape: (num_incidents, num_stations)\n",
        "closest_station_indices = np.argmin(dists, axis=1)\n",
        "df_m['closest_station'] = df_stations.iloc[closest_station_indices]['Station'].values\n",
        "df_m['distance_to_station'] = dists[np.arange(len(df_m)), closest_station_indices]"
      ],
      "metadata": {
        "collapsed": true,
        "id": "vXDbyz1-J4Mb"
      },
      "execution_count": 10,
      "outputs": []
    },
    {
      "cell_type": "code",
      "execution_count": 37,
      "metadata": {
        "colab": {
          "base_uri": "https://localhost:8080/",
          "height": 817
        },
        "id": "6Fg32i-NAWnq",
        "outputId": "37b4eadf-1b84-4c45-93a7-ec290536ee58"
      },
      "outputs": [
        {
          "output_type": "display_data",
          "data": {
            "text/html": [
              "<html>\n",
              "<head><meta charset=\"utf-8\" /></head>\n",
              "<body>\n",
              "    <div>            <script src=\"https://cdnjs.cloudflare.com/ajax/libs/mathjax/2.7.5/MathJax.js?config=TeX-AMS-MML_SVG\"></script><script type=\"text/javascript\">if (window.MathJax && window.MathJax.Hub && window.MathJax.Hub.Config) {window.MathJax.Hub.Config({SVG: {font: \"STIX-Web\"}});}</script>                <script type=\"text/javascript\">window.PlotlyConfig = {MathJaxConfig: 'local'};</script>\n",
              "        <script charset=\"utf-8\" src=\"https://cdn.plot.ly/plotly-2.35.2.min.js\"></script>                <div id=\"560d4a02-a2d0-4ed9-bec3-a6064dcf7ac6\" class=\"plotly-graph-div\" style=\"height:800px; width:100%;\"></div>            <script type=\"text/javascript\">                                    window.PLOTLYENV=window.PLOTLYENV || {};                                    if (document.getElementById(\"560d4a02-a2d0-4ed9-bec3-a6064dcf7ac6\")) {                    Plotly.newPlot(                        \"560d4a02-a2d0-4ed9-bec3-a6064dcf7ac6\",                        [{\"hoverinfo\":\"text\",\"lat\":[\"19.398298021394\",\"19.40317568567\",null,\"19.40317568567\",\"19.412910337685\",null,\"19.412910337685\",\"19.42084334447\",null,\"19.42084334447\",\"19.421915889653\",null,\"19.421915889653\",\"19.423635994506\",null,\"19.423635994506\",\"19.425902457802\",null,\"19.425902457802\",\"19.427399925133\",null,\"19.427399925133\",\"19.426772609418\",null,\"19.426772609418\",\"19.426529776877\",null,\"19.426529776877\",\"19.425801277079\",null,\"19.425801277079\",\"19.42586198552\",null,\"19.42586198552\",\"19.428836671354\",null,\"19.428836671354\",\"19.430273404868\",null,\"19.430273404868\",\"19.427238037439\",null,\"19.427238037439\",\"19.423231265591\",null,\"19.423231265591\",\"19.419447001456\",null,\"19.419447001456\",\"19.416391194454\",null,\"19.416391194454\",\"19.412282966038\",null,\"19.412282966038\",\"19.415338850268\",null],\"line\":{\"color\":\"#E21565\",\"width\":4},\"lon\":[\"-99.200341701508\",\"-99.187123775482\",null,\"-99.187123775482\",\"-99.182145595551\",null,\"-99.182145595551\",\"-99.175901412964\",null,\"-99.175901412964\",\"-99.17060136795\",null,\"-99.17060136795\",\"-99.162769317627\",null,\"-99.162769317627\",\"-99.154658317566\",null,\"-99.154658317566\",\"-99.149100780487\",null,\"-99.149100780487\",\"-99.142255783081\",null,\"-99.142255783081\",\"-99.137470722198\",null,\"-99.137470722198\",\"-99.132900238037\",null,\"-99.132900238037\",\"-99.125046730042\",null,\"-99.125046730042\",\"-99.11906003952\",null,\"-99.11906003952\",\"-99.114811420441\",null,\"-99.114811420441\",\"-99.110262393951\",null,\"-99.110262393951\",\"-99.102258682251\",null,\"-99.102258682251\",\"-99.095735549927\",null,\"-99.095735549927\",\"-99.090349674225\",null,\"-99.090349674225\",\"-99.082367420197\",null,\"-99.082367420197\",\"-99.072217941284\",null],\"mode\":\"lines\",\"name\":\"Linea 1\",\"showlegend\":true,\"type\":\"scattermapbox\"},{\"hoverinfo\":\"text\",\"lat\":[\"19.459592132589\",\"19.458803085067\",null,\"19.458803085067\",\"19.459349349145\",null,\"19.459349349145\",\"19.457487997333\",null,\"19.457487997333\",\"19.452146608312\",null,\"19.452146608312\",\"19.448970017051\",null,\"19.448970017051\",\"19.445287521322\",null,\"19.445287521322\",\"19.441807283723\",null,\"19.441807283723\",\"19.439905261873\",null,\"19.439905261873\",\"19.437497351185\",null,\"19.437497351185\",\"19.43642490888\",null,\"19.43642490888\",\"19.435575043909\",null,\"19.435575043909\",\"19.433248009916\",null,\"19.433248009916\",\"19.425801277079\",null,\"19.425801277079\",\"19.418738706934\",null,\"19.418738706934\",\"19.408498447018\",null,\"19.408498447018\",\"19.400888666272\",null,\"19.400888666272\",\"19.395221577028\",null,\"19.395221577028\",\"19.387570693515\",null,\"19.387570693515\",\"19.379433645109\",null,\"19.379433645109\",\"19.369919665097\",null,\"19.369919665097\",\"19.360061\",null,\"19.360061\",\"19.353278986282\",null,\"19.353278986282\",\"19.34418865273\",null],\"line\":{\"color\":\"#00ADEF\",\"width\":4},\"lon\":[\"-99.215898513794\",\"-99.203174114227\",null,\"-99.203174114227\",\"-99.189248085022\",null,\"-99.189248085022\",\"-99.182360172272\",null,\"-99.182360172272\",\"-99.174764156342\",null,\"-99.174764156342\",\"-99.171545505524\",null,\"-99.171545505524\",\"-99.167382717133\",null,\"-99.167382717133\",\"-99.161095619202\",null,\"-99.161095619202\",\"-99.155666828156\",null,\"-99.155666828156\",\"-99.147319793701\",null,\"-99.147319793701\",\"-99.141955375671\",null,\"-99.141955375671\",\"-99.137427806854\",null,\"-99.137427806854\",\"-99.133007526398\",null,\"-99.133007526398\",\"-99.132900238037\",null,\"-99.132900238037\",\"-99.134166240692\",null,\"-99.134166240692\",\"-99.135754108429\",null,\"-99.135754108429\",\"-99.136934280396\",null,\"-99.136934280396\",\"-99.137814044952\",null,\"-99.137814044952\",\"-99.138994216919\",null,\"-99.138994216919\",\"-99.140174388885\",null,\"-99.140174388885\",\"-99.141590595245\",null,\"-99.141590595245\",\"-99.143329\",null,\"-99.143329\",\"-99.145002365112\",null,\"-99.145002365112\",\"-99.142642021179\",null],\"mode\":\"lines\",\"name\":\"Linea 2\",\"showlegend\":true,\"type\":\"scattermapbox\"},{\"hoverinfo\":\"text\",\"lat\":[\"19.49539870767\",\"19.483807954006\",null,\"19.483807954006\",\"19.476960321374\",null,\"19.476960321374\",\"19.470881161245\",null,\"19.470881161245\",\"19.45510058004\",null,\"19.45510058004\",\"19.445145885202\",null,\"19.445145885202\",\"19.437497351185\",null,\"19.437497351185\",\"19.433268245138\",null,\"19.433268245138\",\"19.427399925133\",null,\"19.427399925133\",\"19.419952924224\",null,\"19.419952924224\",\"19.413517469231\",null,\"19.413517469231\",\"19.407041282521\",null,\"19.407041282521\",\"19.395626375662\",null,\"19.395626375662\",\"19.385506107787\",null,\"19.385506107787\",\"19.379818241127\",null,\"19.379818241127\",\"19.370507\",null,\"19.370507\",\"19.361457828976\",null,\"19.361457828976\",\"19.353704134251\",null,\"19.353704134251\",\"19.346840895911\",null,\"19.346840895911\",\"19.335907707753\",null,\"19.335907707753\",\"19.324123340778\",null],\"line\":{\"color\":\"#708238\",\"width\":4},\"lon\":[\"-99.119510650635\",\"-99.126591682434\",null,\"-99.126591682434\",\"-99.132192134857\",null,\"-99.132192134857\",\"-99.136912822723\",null,\"-99.136912822723\",\"-99.142813682556\",null,\"-99.142813682556\",\"-99.14538860321\",null,\"-99.14538860321\",\"-99.147319793701\",null,\"-99.147319793701\",\"-99.147899150848\",null,\"-99.147899150848\",\"-99.149100780487\",null,\"-99.149100780487\",\"-99.151010513306\",null,\"-99.151010513306\",\"-99.15399312973\",null,\"-99.15399312973\",\"-99.155623912811\",null,\"-99.155623912811\",\"-99.156267642975\",null,\"-99.156267642975\",\"-99.157469272614\",null,\"-99.157469272614\",\"-99.159100055695\",null,\"-99.159100055695\",\"-99.164829\",null,\"-99.164829\",\"-99.17049407959\",null,\"-99.17049407959\",\"-99.176030158997\",null,\"-99.176030158997\",\"-99.181008338928\",null,\"-99.181008338928\",\"-99.176630973816\",null,\"-99.176630973816\",\"-99.174313545227\",null],\"mode\":\"lines\",\"name\":\"Linea 3\",\"showlegend\":true,\"type\":\"scattermapbox\"},{\"hoverinfo\":\"text\",\"lat\":[\"19.485062141908\",\"19.474360774988\",null,\"19.474360774988\",\"19.464771426131\",null,\"19.464771426131\",\"19.458054497972\",null,\"19.458054497972\",\"19.448868850702\",null,\"19.448868850702\",\"19.438974477102\",null,\"19.438974477102\",\"19.428836671354\",null,\"19.428836671354\",\"19.421673049854\",null,\"19.421673049854\",\"19.409146071493\",null,\"19.409146071493\",\"19.403114968757\",null],\"line\":{\"color\":\"#00B3AD\",\"width\":4},\"lon\":[\"-99.104382991791\",\"-99.108052253723\",null,\"-99.108052253723\",\"-99.111957550049\",null,\"-99.111957550049\",\"-99.113931655884\",null,\"-99.113931655884\",\"-99.116184711456\",null,\"-99.116184711456\",\"-99.118266105652\",null,\"-99.118266105652\",\"-99.11906003952\",null,\"-99.11906003952\",\"-99.120562076569\",null,\"-99.120562076569\",\"-99.121763706207\",null,\"-99.121763706207\",\"-99.122128486633\",null],\"mode\":\"lines\",\"name\":\"Linea 4\",\"showlegend\":true,\"type\":\"scattermapbox\"},{\"hoverinfo\":\"text\",\"lat\":[\"19.415338850268\",\"19.424101431512\",null,\"19.424101431512\",\"19.433814595177\",null,\"19.433814595177\",\"19.445752896274\",null,\"19.445752896274\",\"19.450811233576\",null,\"19.450811233576\",\"19.451013563788\",null,\"19.451013563788\",\"19.458054497972\",null,\"19.458054497972\",\"19.458722156899\",null,\"19.458722156899\",\"19.463405609131\",null,\"19.463405609131\",\"19.470881161245\",null,\"19.470881161245\",\"19.479114777624\",null,\"19.479114777624\",\"19.48939103842\",null,\"19.48939103842\",\"19.50053640278\",null],\"line\":{\"color\":\"#FDDC00\",\"width\":4},\"lon\":[\"-99.072217941284\",\"-99.087431430817\",null,\"-99.087431430817\",\"-99.087710380554\",null,\"-99.087710380554\",\"-99.087216854095\",null,\"-99.087216854095\",\"-99.09637928009\",null,\"-99.09637928009\",\"-99.105434417725\",null,\"-99.105434417725\",\"-99.113931655884\",null,\"-99.113931655884\",\"-99.119317531586\",null,\"-99.119317531586\",\"-99.130798339844\",null,\"-99.130798339844\",\"-99.136912822723\",null,\"-99.136912822723\",\"-99.140689373016\",null,\"-99.140689373016\",\"-99.14528131485\",null,\"-99.14528131485\",\"-99.149658679962\",null],\"mode\":\"lines\",\"name\":\"Linea 5\",\"showlegend\":true,\"type\":\"scattermapbox\"},{\"hoverinfo\":\"text\",\"lat\":[\"19.504622169833\",\"19.495034612851\",null,\"19.495034612851\",\"19.491029515783\",null,\"19.491029515783\",\"19.490989059751\",null,\"19.490989059751\",\"19.488946017013\",null,\"19.488946017013\",\"19.490325927734\",null,\"19.490325927734\",\"19.48939103842\",null,\"19.48939103842\",\"19.487772772896\",null,\"19.487772772896\",\"19.483807954006\",null,\"19.483807954006\",\"19.481542299628\",null,\"19.481542299628\",\"19.485062141908\",null],\"line\":{\"color\":\"#E32329\",\"width\":4},\"lon\":[\"-99.200084209442\",\"-99.196286201477\",null,\"-99.196286201477\",\"-99.186437129974\",null,\"-99.186437129974\",\"-99.173991680145\",null,\"-99.173991680145\",\"-99.162790775299\",null,\"-99.162790775299\",\"-99.155555725098\",null,\"-99.155555725098\",\"-99.14528131485\",null,\"-99.14528131485\",\"-99.134745597839\",null,\"-99.134745597839\",\"-99.126591682434\",null,\"-99.126591682434\",\"-99.11794424057\",null,\"-99.11794424057\",\"-99.104382991791\",null],\"mode\":\"lines\",\"name\":\"Linea 6\",\"showlegend\":true,\"type\":\"scattermapbox\"},{\"hoverinfo\":\"text\",\"lat\":[\"19.504622169833\",\"19.490503586585\",null,\"19.490503586585\",\"19.4792159251\",null,\"19.4792159251\",\"19.470092168667\",null,\"19.470092168667\",\"19.459349349145\",null,\"19.459349349145\",\"19.445833830912\",null,\"19.445833830912\",\"19.433065892805\",null,\"19.433065892805\",\"19.425538206904\",null,\"19.425538206904\",\"19.411918684616\",null,\"19.411918684616\",\"19.40317568567\",null,\"19.40317568567\",\"19.391274737581\",null,\"19.391274737581\",\"19.384514287687\",null,\"19.384514287687\",\"19.37581\",null,\"19.37581\",\"19.360708793614\",null],\"line\":{\"color\":\"#F15A22\",\"width\":4},\"lon\":[\"-99.200084209442\",\"-99.194869995117\",null,\"-99.194869995117\",\"-99.190170764923\",null,\"-99.190170764923\",\"-99.190599918365\",null,\"-99.190599918365\",\"-99.189248085022\",null,\"-99.189248085022\",\"-99.191865921021\",null,\"-99.191865921021\",\"-99.19105052948\",null,\"-99.19105052948\",\"-99.191994667053\",null,\"-99.191994667053\",\"-99.190943241119\",null,\"-99.190943241119\",\"-99.187123775482\",null,\"-99.187123775482\",\"-99.186072349548\",null,\"-99.186072349548\",\"-99.186050891876\",null,\"-99.186050891876\",\"-99.187703\",null,\"-99.187703\",\"-99.190170764923\",null],\"mode\":\"lines\",\"name\":\"Linea 7\",\"showlegend\":true,\"type\":\"scattermapbox\"},{\"hoverinfo\":\"text\",\"lat\":[\"19.444457936575\",\"19.43642490888\",null,\"19.43642490888\",\"19.431243896484\",null,\"19.431243896484\",\"19.426772609418\",null,\"19.426772609418\",\"19.421652813188\",null,\"19.421652813188\",\"19.413330078125\",null,\"19.413330078125\",\"19.408498447018\",null,\"19.408498447018\",\"19.406596035209\",null,\"19.406596035209\",\"19.403114968757\",null,\"19.403114968757\",\"19.398540896103\",null,\"19.398540896103\",\"19.38858273578\",null,\"19.38858273578\",\"19.379231225787\",null,\"19.379231225787\",\"19.37376580902\",null,\"19.37376580902\",\"19.365041004588\",null,\"19.365041004588\",\"19.356174\",null,\"19.356174\",\"19.357935308399\",null,\"19.357935308399\",\"19.356052550682\",null,\"19.356052550682\",\"19.350728075203\",null,\"19.350728075203\",\"19.345727363947\",null],\"line\":{\"color\":\"#007241\",\"width\":4},\"lon\":[\"-99.139766693115\",\"-99.141955375671\",null,\"-99.141955375671\",\"-99.141494750977\",null,\"-99.141494750977\",\"-99.142255783081\",null,\"-99.142255783081\",\"-99.143371582031\",null,\"-99.143371582031\",\"-99.144180297852\",null,\"-99.144180297852\",\"-99.135754108429\",null,\"-99.135754108429\",\"-99.126291275024\",null,\"-99.126291275024\",\"-99.122128486633\",null,\"-99.122128486633\",\"-99.113502502441\",null,\"-99.113502502441\",\"-99.112322330475\",null,\"-99.112322330475\",\"-99.109683036804\",null,\"-99.109683036804\",\"-99.107730388641\",null,\"-99.107730388641\",\"-99.109189510345\",null,\"-99.109189510345\",\"-99.101572\",null,\"-99.101572\",\"-99.093997478485\",null,\"-99.093997478485\",\"-99.085521697998\",null,\"-99.085521697998\",\"-99.074728488922\",null,\"-99.074728488922\",\"-99.063591957092\",null],\"mode\":\"lines\",\"name\":\"Linea 8\",\"showlegend\":true,\"type\":\"scattermapbox\"},{\"hoverinfo\":\"text\",\"lat\":[\"19.40317568567\",\"19.406251979634\",null,\"19.406251979634\",\"19.406069832269\",null,\"19.406069832269\",\"19.407041282521\",null,\"19.407041282521\",\"19.407041282521\",null,\"19.407041282521\",\"19.408498447018\",null,\"19.408498447018\",\"19.409146071493\",null,\"19.409146071493\",\"19.408579400219\",null,\"19.408579400219\",\"19.408559161922\",null,\"19.408559161922\",\"19.408478208712\",null,\"19.408478208712\",\"19.407223428797\",null,\"19.407223428797\",\"19.415338850268\",null],\"line\":{\"color\":\"#6E4B3A\",\"width\":4},\"lon\":[\"-99.187123775482\",\"-99.178905487061\",null,\"-99.178905487061\",\"-99.168584346771\",null,\"-99.168584346771\",\"-99.155623912811\",null,\"-99.155623912811\",\"-99.144895076752\",null,\"-99.144895076752\",\"-99.135754108429\",null,\"-99.135754108429\",\"-99.121763706207\",null,\"-99.121763706207\",\"-99.11288022995\",null,\"-99.11288022995\",\"-99.103052616119\",null,\"-99.103052616119\",\"-99.091250896454\",null,\"-99.091250896454\",\"-99.082474708557\",null,\"-99.082474708557\",\"-99.072217941284\",null],\"mode\":\"lines\",\"name\":\"Linea 9\",\"showlegend\":true,\"type\":\"scattermapbox\"},{\"hoverinfo\":\"text\",\"lat\":[\"19.415338850268\",\"19.404794795009\",null,\"19.404794795009\",\"19.398733139038\",null,\"19.398733139038\",\"19.391274737581\",null,\"19.391274737581\",\"19.38516200762\",null,\"19.38516200762\",\"19.373320470686\",null,\"19.373320470686\",\"19.364737348692\",null,\"19.364737348692\",\"19.360263419606\",null,\"19.360263419606\",\"19.359048757036\",null,\"19.359048757036\",\"19.350647093245\",null],\"line\":{\"color\":\"#662D91\",\"width\":4},\"lon\":[\"-99.072217941284\",\"-99.069900512695\",null,\"-99.069900512695\",\"-99.059387207031\",null,\"-99.059387207031\",\"-99.046361446381\",null,\"-99.046361446381\",\"-99.035654067993\",null,\"-99.035654067993\",\"-99.017050266266\",null,\"-99.017050266266\",\"-99.005677700043\",null,\"-99.005677700043\",\"-98.995141983032\",null,\"-98.995141983032\",\"-98.976860046387\",null,\"-98.976860046387\",\"-98.961002826691\",null],\"mode\":\"lines\",\"name\":\"Linea A\",\"showlegend\":true,\"type\":\"scattermapbox\"},{\"hoverinfo\":\"text\",\"lat\":[\"19.446542007274\",\"19.445145885202\",null,\"19.445145885202\",\"19.444457936575\",null,\"19.444457936575\",\"19.443365306292\",null,\"19.443365306292\",\"19.442434541361\",null,\"19.442434541361\",\"19.438974477102\",null,\"19.438974477102\",\"19.430273404868\",null,\"19.430273404868\",\"19.436627257027\",null,\"19.436627257027\",\"19.440795572747\",null,\"19.440795572747\",\"19.445752896274\",null,\"19.445752896274\",\"19.450952864751\",null,\"19.450952864751\",\"19.458317515453\",null,\"19.458317515453\",\"19.461716472219\",null,\"19.461716472219\",\"19.473045813461\",null,\"19.473045813461\",\"19.485871290237\",null,\"19.485871290237\",\"19.490968831732\",null,\"19.490968831732\",\"19.501709554376\",null,\"19.501709554376\",\"19.515321536084\",null,\"19.515321536084\",\"19.521328242328\",null,\"19.521328242328\",\"19.528487459141\",null,\"19.528487459141\",\"19.534594788807\",null],\"line\":{\"color\":\"#707070\",\"width\":4},\"lon\":[\"-99.153220653534\",\"-99.14538860321\",null,\"-99.14538860321\",\"-99.139766693115\",null,\"-99.139766693115\",\"-99.131376743317\",null,\"-99.131376743317\",\"-99.123437404633\",null,\"-99.123437404633\",\"-99.118266105652\",null,\"-99.118266105652\",\"-99.114811420441\",null,\"-99.114811420441\",\"-99.103674888611\",null,\"-99.103674888611\",\"-99.094340801239\",null,\"-99.094340801239\",\"-99.087216854095\",null,\"-99.087216854095\",\"-99.079427719116\",null,\"-99.079427719116\",\"-99.069020748138\",null,\"-99.069020748138\",\"-99.06133890152\",null,\"-99.06133890152\",\"-99.05455827713\",null,\"-99.05455827713\",\"-99.048871994019\",null,\"-99.048871994019\",\"-99.04666185379\",null,\"-99.04666185379\",\"-99.041962623596\",null,\"-99.041962623596\",\"-99.035654067993\",null,\"-99.035654067993\",\"-99.033379554749\",null,\"-99.033379554749\",\"-99.030139446259\",null,\"-99.030139446259\",\"-99.027500152588\",null],\"mode\":\"lines\",\"name\":\"Linea B\",\"showlegend\":true,\"type\":\"scattermapbox\"},{\"hoverinfo\":\"text\",\"lat\":[\"19.37581\",\"19.373665\",null,\"19.373665\",\"19.372288\",null,\"19.372288\",\"19.370507\",null,\"19.370507\",\"19.370547\",null,\"19.370547\",\"19.361397\",null,\"19.361397\",\"19.360061\",null,\"19.360061\",\"19.35751\",null,\"19.35751\",\"19.356174\",null,\"19.356174\",\"19.33771\",null,\"19.33771\",\"19.328355\",null,\"19.328355\",\"19.322443\",null,\"19.322443\",\"19.320499\",null,\"19.320499\",\"19.318494\",null,\"19.318494\",\"19.306739\",null,\"19.306739\",\"19.303894\",null,\"19.303894\",\"19.298993\",null,\"19.298993\",\"19.296562\",null,\"19.296562\",\"19.294233\",null,\"19.294233\",\"19.290651\",null],\"line\":{\"color\":\"#F0B323\",\"width\":4},\"lon\":[\"-99.187703\",\"-99.179077\",null,\"-99.179077\",\"-99.171138\",null,\"-99.171138\",\"-99.164829\",null,\"-99.164829\",\"-99.156718\",null,\"-99.156718\",\"-99.151697\",null,\"-99.151697\",\"-99.143329\",null,\"-99.143329\",\"-99.121485\",null,\"-99.121485\",\"-99.101572\",null,\"-99.101572\",\"-99.109039\",null,\"-99.109039\",\"-99.106464\",null,\"-99.106464\",\"-99.097753\",null,\"-99.097753\",\"-99.086809\",null,\"-99.086809\",\"-99.076638\",null,\"-99.076638\",\"-99.067068\",null,\"-99.067068\",\"-99.058056\",null,\"-99.058056\",\"-99.043164\",null,\"-99.043164\",\"-99.034925\",null,\"-99.034925\",\"-99.02117\",null,\"-99.02117\",\"-99.01704\",null],\"mode\":\"lines\",\"name\":\"Linea 12\",\"showlegend\":true,\"type\":\"scattermapbox\"},{\"hoverinfo\":\"text\",\"lat\":[19.398298021394,19.40317568567,19.412910337685,19.42084334447,19.421915889653,19.423635994506,19.425902457802,19.427399925133,19.426772609418,19.426529776877,19.425801277079,19.42586198552,19.428836671354,19.430273404868,19.427238037439,19.423231265591,19.419447001456,19.416391194454,19.412282966038,19.415338850268,19.459592132589,19.458803085067,19.459349349145,19.457487997333,19.452146608312,19.448970017051,19.445287521322,19.441807283723,19.439905261873,19.437497351185,19.43642490888,19.435575043909,19.433248009916,19.418738706934,19.408498447018,19.400888666272,19.395221577028,19.387570693515,19.379433645109,19.369919665097,19.360061,19.353278986282,19.34418865273,19.49539870767,19.483807954006,19.476960321374,19.470881161245,19.45510058004,19.445145885202,19.433268245138,19.419952924224,19.413517469231,19.407041282521,19.395626375662,19.385506107787,19.379818241127,19.370507,19.361457828976,19.353704134251,19.346840895911,19.335907707753,19.324123340778,19.485062141908,19.474360774988,19.464771426131,19.458054497972,19.448868850702,19.438974477102,19.421673049854,19.409146071493,19.403114968757,19.424101431512,19.433814595177,19.445752896274,19.450811233576,19.451013563788,19.458722156899,19.463405609131,19.479114777624,19.48939103842,19.50053640278,19.504622169833,19.495034612851,19.491029515783,19.490989059751,19.488946017013,19.490325927734,19.487772772896,19.481542299628,19.490503586585,19.4792159251,19.470092168667,19.445833830912,19.433065892805,19.425538206904,19.411918684616,19.391274737581,19.384514287687,19.37581,19.360708793614,19.444457936575,19.431243896484,19.421652813188,19.413330078125,19.406596035209,19.398540896103,19.38858273578,19.379231225787,19.37376580902,19.365041004588,19.356174,19.357935308399,19.356052550682,19.350728075203,19.345727363947,19.406251979634,19.406069832269,19.407041282521,19.408579400219,19.408559161922,19.408478208712,19.407223428797,19.404794795009,19.398733139038,19.391274737581,19.38516200762,19.373320470686,19.364737348692,19.360263419606,19.359048757036,19.350647093245,19.534594788807,19.528487459141,19.521328242328,19.515321536084,19.501709554376,19.490968831732,19.485871290237,19.473045813461,19.461716472219,19.458317515453,19.450952864751,19.440795572747,19.436627257027,19.442434541361,19.443365306292,19.446542007274,19.373665,19.372288,19.370547,19.361397,19.35751,19.33771,19.328355,19.322443,19.320499,19.318494,19.306739,19.303894,19.298993,19.296562,19.294233,19.290651],\"lon\":[-99.200341701508,-99.187123775482,-99.182145595551,-99.175901412964,-99.17060136795,-99.162769317627,-99.154658317566,-99.149100780487,-99.142255783081,-99.137470722198,-99.132900238037,-99.125046730042,-99.11906003952,-99.114811420441,-99.110262393951,-99.102258682251,-99.095735549927,-99.090349674225,-99.082367420197,-99.072217941284,-99.215898513794,-99.203174114227,-99.189248085022,-99.182360172272,-99.174764156342,-99.171545505524,-99.167382717133,-99.161095619202,-99.155666828156,-99.147319793701,-99.141955375671,-99.137427806854,-99.133007526398,-99.134166240692,-99.135754108429,-99.136934280396,-99.137814044952,-99.138994216919,-99.140174388885,-99.141590595245,-99.143329,-99.145002365112,-99.142642021179,-99.119510650635,-99.126591682434,-99.132192134857,-99.136912822723,-99.142813682556,-99.14538860321,-99.147899150848,-99.151010513306,-99.15399312973,-99.155623912811,-99.156267642975,-99.157469272614,-99.159100055695,-99.164829,-99.17049407959,-99.176030158997,-99.181008338928,-99.176630973816,-99.174313545227,-99.104382991791,-99.108052253723,-99.111957550049,-99.113931655884,-99.116184711456,-99.118266105652,-99.120562076569,-99.121763706207,-99.122128486633,-99.087431430817,-99.087710380554,-99.087216854095,-99.09637928009,-99.105434417725,-99.119317531586,-99.130798339844,-99.140689373016,-99.14528131485,-99.149658679962,-99.200084209442,-99.196286201477,-99.186437129974,-99.173991680145,-99.162790775299,-99.155555725098,-99.134745597839,-99.11794424057,-99.194869995117,-99.190170764923,-99.190599918365,-99.191865921021,-99.19105052948,-99.191994667053,-99.190943241119,-99.186072349548,-99.186050891876,-99.187703,-99.190170764923,-99.139766693115,-99.141494750977,-99.143371582031,-99.144180297852,-99.126291275024,-99.113502502441,-99.112322330475,-99.109683036804,-99.107730388641,-99.109189510345,-99.101572,-99.093997478485,-99.085521697998,-99.074728488922,-99.063591957092,-99.178905487061,-99.168584346771,-99.144895076752,-99.11288022995,-99.103052616119,-99.091250896454,-99.082474708557,-99.069900512695,-99.059387207031,-99.046361446381,-99.035654067993,-99.017050266266,-99.005677700043,-98.995141983032,-98.976860046387,-98.961002826691,-99.027500152588,-99.030139446259,-99.033379554749,-99.035654067993,-99.041962623596,-99.04666185379,-99.048871994019,-99.05455827713,-99.06133890152,-99.069020748138,-99.079427719116,-99.094340801239,-99.103674888611,-99.123437404633,-99.131376743317,-99.153220653534,-99.179077,-99.171138,-99.156718,-99.151697,-99.121485,-99.109039,-99.106464,-99.097753,-99.086809,-99.076638,-99.067068,-99.058056,-99.043164,-99.034925,-99.02117,-99.01704],\"marker\":{\"color\":[28,316,12,38,30,84,36,276,76,42,340,98,68,182,38,24,28,24,42,672,4,26,242,32,8,32,46,30,68,732,184,56,134,42,358,28,34,32,62,76,74,42,102,214,94,28,130,48,234,50,54,24,226,72,22,40,214,46,28,50,56,62,78,8,10,22,8,44,22,54,20,14,16,142,10,10,12,8,22,38,22,64,8,14,14,6,4,12,16,12,32,22,48,64,46,30,22,18,92,42,100,28,36,6,10,50,60,20,4,20,84,30,30,30,164,16,78,16,24,38,34,50,50,32,32,44,16,48,26,0,0,0,0,0,0,0,0,0,0,50,22,38,18,22,28,42,120,24,20,30,12,12,20,6,4,6,28,4,8,10,8,6,30],\"colorbar\":{\"title\":{\"text\":\"Denuncias\"}},\"colorscale\":[[0.0,\"rgb(255,255,204)\"],[0.125,\"rgb(255,237,160)\"],[0.25,\"rgb(254,217,118)\"],[0.375,\"rgb(254,178,76)\"],[0.5,\"rgb(253,141,60)\"],[0.625,\"rgb(252,78,42)\"],[0.75,\"rgb(227,26,28)\"],[0.875,\"rgb(189,0,38)\"],[1.0,\"rgb(128,0,38)\"]],\"opacity\":0.8,\"showscale\":true,\"size\":[12.208341552994638,19.458767879661504,9.775936665239978,13.106505181724094,12.410524064984937,15.468404237971605,12.946909696451222,19.049850830424987,15.16874181090602,13.4025073437985,19.68001720991463,15.930630177897928,14.83617702542598,17.793151730305468,13.106505181724094,11.75838937117204,12.208341552994638,11.75838937117204,13.4025073437985,21.741099026454727,6.87919468558602,11.991705549452352,18.652842582420586,12.600061661413811,8.661137032968234,12.600061661413811,13.672161797514926,12.410524064984937,14.83617702542598,22.0,17.826104382037244,14.256971273738335,16.870900235038373,13.4025073437985,19.83596317057471,12.208341552994638,12.778443351562343,12.600061661413811,14.560385698944557,15.16874181090602,15.088957887656159,13.4025073437985,16.050709799858435,18.28170202938452,15.805597442840238,12.208341552994638,16.779716997327927,13.798497331952646,18.551356483100946,13.9197780688697,14.148687830515716,11.75838937117204,18.446355022687996,15.007017383052206,11.505608508941863,13.258117478418889,18.28170202938452,13.672161797514926,12.208341552994638,13.9197780688697,14.256971273738335,14.560385698944557,15.246479765385345,8.661137032968234,9.269493144929696,11.505608508941863,8.661137032968234,13.540331718554256,11.505608508941863,14.148687830515716,11.229817182460442,10.209763202070139,10.589209552385583,17.045429810169672,9.269493144929696,9.269493144929696,9.775936665239978,8.661137032968234,11.505608508941863,13.106505181724094,11.505608508941863,14.655131350825997,8.661137032968234,10.209763202070139,10.209763202070139,7.899248665976323,6.87919468558602,9.775936665239978,10.589209552385583,9.775936665239978,12.600061661413811,11.505608508941863,13.798497331952646,14.655131350825997,13.672161797514926,12.410524064984937,11.505608508941863,10.926402757254216,15.741092581469054,13.4025073437985,15.99126448130872,12.208341552994638,12.946909696451222,7.899248665976323,9.269493144929696,13.9197780688697,14.462583213821347,11.229817182460442,6.87919468558602,11.229817182460442,15.468404237971605,12.410524064984937,12.410524064984937,12.410524064984937,17.479256346999833,10.589209552385583,15.246479765385345,10.589209552385583,11.75838937117204,13.106505181724094,12.778443351562343,13.9197780688697,13.9197780688697,12.600061661413811,12.600061661413811,13.540331718554256,10.589209552385583,13.798497331952646,11.991705549452352,2.0,2.0,2.0,2.0,2.0,2.0,2.0,2.0,2.0,2.0,13.9197780688697,11.505608508941863,13.106505181724094,10.926402757254216,11.505608508941863,12.208341552994638,13.4025073437985,16.53898628985939,11.75838937117204,11.229817182460442,12.410524064984937,9.775936665239978,9.775936665239978,11.229817182460442,7.899248665976323,6.87919468558602,7.899248665976323,12.208341552994638,6.87919468558602,8.661137032968234,9.269493144929696,8.661137032968234,7.899248665976323,12.410524064984937]},\"mode\":\"markers\",\"name\":\"Estaciones\",\"text\":[\"Observatorio\\u003cbr\\u003eDenuncias: 28\",\"Tacubaya\\u003cbr\\u003eDenuncias: 316\",\"Juanacatlán\\u003cbr\\u003eDenuncias: 12\",\"Chapultepec\\u003cbr\\u003eDenuncias: 38\",\"Sevilla\\u003cbr\\u003eDenuncias: 30\",\"Insurgentes\\u003cbr\\u003eDenuncias: 84\",\"Cuauhtémoc\\u003cbr\\u003eDenuncias: 36\",\"Balderas\\u003cbr\\u003eDenuncias: 276\",\"Salto del Agua\\u003cbr\\u003eDenuncias: 76\",\"Isabel la Católica\\u003cbr\\u003eDenuncias: 42\",\"Pino Suárez\\u003cbr\\u003eDenuncias: 340\",\"Merced\\u003cbr\\u003eDenuncias: 98\",\"Candelaria\\u003cbr\\u003eDenuncias: 68\",\"San Lázaro\\u003cbr\\u003eDenuncias: 182\",\"Moctezuma\\u003cbr\\u003eDenuncias: 38\",\"Balbuena\\u003cbr\\u003eDenuncias: 24\",\"Boulevard Pto. Aéreo\\u003cbr\\u003eDenuncias: 28\",\"Gómez Farías\\u003cbr\\u003eDenuncias: 24\",\"Zaragoza\\u003cbr\\u003eDenuncias: 42\",\"Pantitlán\\u003cbr\\u003eDenuncias: 672\",\"Cuatro Caminos\\u003cbr\\u003eDenuncias: 4\",\"Panteones\\u003cbr\\u003eDenuncias: 26\",\"Tacuba\\u003cbr\\u003eDenuncias: 242\",\"Cuitláhuac\\u003cbr\\u003eDenuncias: 32\",\"Popotla\\u003cbr\\u003eDenuncias: 8\",\"Colegio Militar\\u003cbr\\u003eDenuncias: 32\",\"Normal\\u003cbr\\u003eDenuncias: 46\",\"San Cosme\\u003cbr\\u003eDenuncias: 30\",\"Revolución\\u003cbr\\u003eDenuncias: 68\",\"Hidalgo\\u003cbr\\u003eDenuncias: 732\",\"Bellas Artes\\u003cbr\\u003eDenuncias: 184\",\"Allende\\u003cbr\\u003eDenuncias: 56\",\"Zócalo\\u003cbr\\u003eDenuncias: 134\",\"San Antonio Abad\\u003cbr\\u003eDenuncias: 42\",\"Chabacano\\u003cbr\\u003eDenuncias: 358\",\"Viaducto\\u003cbr\\u003eDenuncias: 28\",\"Xola\\u003cbr\\u003eDenuncias: 34\",\"Villa de Cortés\\u003cbr\\u003eDenuncias: 32\",\"Nativitas\\u003cbr\\u003eDenuncias: 62\",\"Portales\\u003cbr\\u003eDenuncias: 76\",\"Ermita\\u003cbr\\u003eDenuncias: 74\",\"General Anaya\\u003cbr\\u003eDenuncias: 42\",\"Tasqueña\\u003cbr\\u003eDenuncias: 102\",\"Indios Verdes\\u003cbr\\u003eDenuncias: 214\",\"Deportivo 18 de Marzo\\u003cbr\\u003eDenuncias: 94\",\"Potrero\\u003cbr\\u003eDenuncias: 28\",\"La Raza\\u003cbr\\u003eDenuncias: 130\",\"Tlatelolco\\u003cbr\\u003eDenuncias: 48\",\"Guerrero\\u003cbr\\u003eDenuncias: 234\",\"Juárez\\u003cbr\\u003eDenuncias: 50\",\"Niños Héroes\\u003cbr\\u003eDenuncias: 54\",\"Hospital General\\u003cbr\\u003eDenuncias: 24\",\"Centro Médico\\u003cbr\\u003eDenuncias: 226\",\"Etiopía \\u002f Plaza de la Transparencia\\u003cbr\\u003eDenuncias: 72\",\"Eugenia\\u003cbr\\u003eDenuncias: 22\",\"División del Norte\\u003cbr\\u003eDenuncias: 40\",\"Zapata\\u003cbr\\u003eDenuncias: 214\",\"Coyoacán\\u003cbr\\u003eDenuncias: 46\",\"Viveros \\u002f Derechos Humanos\\u003cbr\\u003eDenuncias: 28\",\"Miguel Ángel de Quevedo\\u003cbr\\u003eDenuncias: 50\",\"Copilco\\u003cbr\\u003eDenuncias: 56\",\"Universidad\\u003cbr\\u003eDenuncias: 62\",\"Martín Carrera\\u003cbr\\u003eDenuncias: 78\",\"Talismán\\u003cbr\\u003eDenuncias: 8\",\"Bondojito\\u003cbr\\u003eDenuncias: 10\",\"Consulado\\u003cbr\\u003eDenuncias: 22\",\"Canal del Norte\\u003cbr\\u003eDenuncias: 8\",\"Morelos\\u003cbr\\u003eDenuncias: 44\",\"Fray Servando\\u003cbr\\u003eDenuncias: 22\",\"Jamaica\\u003cbr\\u003eDenuncias: 54\",\"Santa Anita\\u003cbr\\u003eDenuncias: 20\",\"Hangares\\u003cbr\\u003eDenuncias: 14\",\"Terminal Aérea\\u003cbr\\u003eDenuncias: 16\",\"Oceanía\\u003cbr\\u003eDenuncias: 142\",\"Aragón\\u003cbr\\u003eDenuncias: 10\",\"Eduardo Molina\\u003cbr\\u003eDenuncias: 10\",\"Valle Gómez\\u003cbr\\u003eDenuncias: 12\",\"Misterios\\u003cbr\\u003eDenuncias: 8\",\"Autobuses del Norte\\u003cbr\\u003eDenuncias: 22\",\"Instituto del Petróleo\\u003cbr\\u003eDenuncias: 38\",\"Politécnico\\u003cbr\\u003eDenuncias: 22\",\"El Rosario\\u003cbr\\u003eDenuncias: 64\",\"Tezozómoc\\u003cbr\\u003eDenuncias: 8\",\"Azcapotzalco\\u003cbr\\u003eDenuncias: 14\",\"Ferrería\\u003cbr\\u003eDenuncias: 14\",\"Norte 45\\u003cbr\\u003eDenuncias: 6\",\"Vallejo\\u003cbr\\u003eDenuncias: 4\",\"Lindavista\\u003cbr\\u003eDenuncias: 12\",\"La Villa-Basílica\\u003cbr\\u003eDenuncias: 16\",\"Aquiles Serdán\\u003cbr\\u003eDenuncias: 12\",\"Camarones\\u003cbr\\u003eDenuncias: 32\",\"Refinería\\u003cbr\\u003eDenuncias: 22\",\"San Joaquín\\u003cbr\\u003eDenuncias: 48\",\"Polanco\\u003cbr\\u003eDenuncias: 64\",\"Auditorio\\u003cbr\\u003eDenuncias: 46\",\"Constituyentes\\u003cbr\\u003eDenuncias: 30\",\"San Pedro de los Pinos\\u003cbr\\u003eDenuncias: 22\",\"San Antonio\\u003cbr\\u003eDenuncias: 18\",\"Mixcoac\\u003cbr\\u003eDenuncias: 92\",\"Barranca del Muerto\\u003cbr\\u003eDenuncias: 42\",\"Garibaldi\\u003cbr\\u003eDenuncias: 100\",\"San Juan de Letrán\\u003cbr\\u003eDenuncias: 28\",\"Doctores\\u003cbr\\u003eDenuncias: 36\",\"Obrera\\u003cbr\\u003eDenuncias: 6\",\"La Viga\\u003cbr\\u003eDenuncias: 10\",\"Coyuya\\u003cbr\\u003eDenuncias: 50\",\"Iztacalco\\u003cbr\\u003eDenuncias: 60\",\"Apatlaco\\u003cbr\\u003eDenuncias: 20\",\"Aculco\\u003cbr\\u003eDenuncias: 4\",\"Escuadrón 201\\u003cbr\\u003eDenuncias: 20\",\"Atlalilco\\u003cbr\\u003eDenuncias: 84\",\"Iztapalapa\\u003cbr\\u003eDenuncias: 30\",\"Cerro de la Estrella\\u003cbr\\u003eDenuncias: 30\",\"UAM-I\\u003cbr\\u003eDenuncias: 30\",\"Constitución de 1917\\u003cbr\\u003eDenuncias: 164\",\"Patriotismo\\u003cbr\\u003eDenuncias: 16\",\"Chilpancingo\\u003cbr\\u003eDenuncias: 78\",\"Lázaro Cárdenas\\u003cbr\\u003eDenuncias: 16\",\"Mixiuhca\\u003cbr\\u003eDenuncias: 24\",\"Velódromo\\u003cbr\\u003eDenuncias: 38\",\"Ciudad Deportiva\\u003cbr\\u003eDenuncias: 34\",\"Puebla\\u003cbr\\u003eDenuncias: 50\",\"Agrícola Oriental\\u003cbr\\u003eDenuncias: 50\",\"Canal de San Juan\\u003cbr\\u003eDenuncias: 32\",\"Tepalcates\\u003cbr\\u003eDenuncias: 32\",\"Guelatao\\u003cbr\\u003eDenuncias: 44\",\"Peñón Viejo\\u003cbr\\u003eDenuncias: 16\",\"Acatitla\\u003cbr\\u003eDenuncias: 48\",\"Santa Marta\\u003cbr\\u003eDenuncias: 26\",\"Los Reyes\\u003cbr\\u003eDenuncias: 0\",\"La Paz\\u003cbr\\u003eDenuncias: 0\",\"Ciudad Azteca\\u003cbr\\u003eDenuncias: 0\",\"Plaza Aragón\\u003cbr\\u003eDenuncias: 0\",\"Olímpica\\u003cbr\\u003eDenuncias: 0\",\"Ecatepec\\u003cbr\\u003eDenuncias: 0\",\"Múzquiz\\u003cbr\\u003eDenuncias: 0\",\"Río de los Remedios\\u003cbr\\u003eDenuncias: 0\",\"Impulsora\\u003cbr\\u003eDenuncias: 0\",\"Nezahualcóyotl\\u003cbr\\u003eDenuncias: 0\",\"Villa de Aragón\\u003cbr\\u003eDenuncias: 50\",\"Bosque de Aragón\\u003cbr\\u003eDenuncias: 22\",\"Deportivo Oceanía\\u003cbr\\u003eDenuncias: 38\",\"Romero Rubio\\u003cbr\\u003eDenuncias: 18\",\"Ricardo Flores Magón\\u003cbr\\u003eDenuncias: 22\",\"Tepito\\u003cbr\\u003eDenuncias: 28\",\"Lagunilla\\u003cbr\\u003eDenuncias: 42\",\"Buenavista\\u003cbr\\u003eDenuncias: 120\",\"Insurgentes Sur\\u003cbr\\u003eDenuncias: 24\",\"Hospital 20 de Noviembre\\u003cbr\\u003eDenuncias: 20\",\"Parque de los Venados\\u003cbr\\u003eDenuncias: 30\",\"Eje Central\\u003cbr\\u003eDenuncias: 12\",\"Mexicaltzingo\\u003cbr\\u003eDenuncias: 12\",\"Culhuacán\\u003cbr\\u003eDenuncias: 20\",\"San Andrés Tomatlán\\u003cbr\\u003eDenuncias: 6\",\"Lomas Estrella\\u003cbr\\u003eDenuncias: 4\",\"Calle 11\\u003cbr\\u003eDenuncias: 6\",\"Periférico Oriente\\u003cbr\\u003eDenuncias: 28\",\"Tezonco\\u003cbr\\u003eDenuncias: 4\",\"Olivos\\u003cbr\\u003eDenuncias: 8\",\"Nopalera\\u003cbr\\u003eDenuncias: 10\",\"Zapotitlán\\u003cbr\\u003eDenuncias: 8\",\"Tlaltenco\\u003cbr\\u003eDenuncias: 6\",\"Tláhuac\\u003cbr\\u003eDenuncias: 30\"],\"type\":\"scattermapbox\"}],                        {\"template\":{\"data\":{\"histogram2dcontour\":[{\"type\":\"histogram2dcontour\",\"colorbar\":{\"outlinewidth\":0,\"ticks\":\"\"},\"colorscale\":[[0.0,\"#0d0887\"],[0.1111111111111111,\"#46039f\"],[0.2222222222222222,\"#7201a8\"],[0.3333333333333333,\"#9c179e\"],[0.4444444444444444,\"#bd3786\"],[0.5555555555555556,\"#d8576b\"],[0.6666666666666666,\"#ed7953\"],[0.7777777777777778,\"#fb9f3a\"],[0.8888888888888888,\"#fdca26\"],[1.0,\"#f0f921\"]]}],\"choropleth\":[{\"type\":\"choropleth\",\"colorbar\":{\"outlinewidth\":0,\"ticks\":\"\"}}],\"histogram2d\":[{\"type\":\"histogram2d\",\"colorbar\":{\"outlinewidth\":0,\"ticks\":\"\"},\"colorscale\":[[0.0,\"#0d0887\"],[0.1111111111111111,\"#46039f\"],[0.2222222222222222,\"#7201a8\"],[0.3333333333333333,\"#9c179e\"],[0.4444444444444444,\"#bd3786\"],[0.5555555555555556,\"#d8576b\"],[0.6666666666666666,\"#ed7953\"],[0.7777777777777778,\"#fb9f3a\"],[0.8888888888888888,\"#fdca26\"],[1.0,\"#f0f921\"]]}],\"heatmap\":[{\"type\":\"heatmap\",\"colorbar\":{\"outlinewidth\":0,\"ticks\":\"\"},\"colorscale\":[[0.0,\"#0d0887\"],[0.1111111111111111,\"#46039f\"],[0.2222222222222222,\"#7201a8\"],[0.3333333333333333,\"#9c179e\"],[0.4444444444444444,\"#bd3786\"],[0.5555555555555556,\"#d8576b\"],[0.6666666666666666,\"#ed7953\"],[0.7777777777777778,\"#fb9f3a\"],[0.8888888888888888,\"#fdca26\"],[1.0,\"#f0f921\"]]}],\"heatmapgl\":[{\"type\":\"heatmapgl\",\"colorbar\":{\"outlinewidth\":0,\"ticks\":\"\"},\"colorscale\":[[0.0,\"#0d0887\"],[0.1111111111111111,\"#46039f\"],[0.2222222222222222,\"#7201a8\"],[0.3333333333333333,\"#9c179e\"],[0.4444444444444444,\"#bd3786\"],[0.5555555555555556,\"#d8576b\"],[0.6666666666666666,\"#ed7953\"],[0.7777777777777778,\"#fb9f3a\"],[0.8888888888888888,\"#fdca26\"],[1.0,\"#f0f921\"]]}],\"contourcarpet\":[{\"type\":\"contourcarpet\",\"colorbar\":{\"outlinewidth\":0,\"ticks\":\"\"}}],\"contour\":[{\"type\":\"contour\",\"colorbar\":{\"outlinewidth\":0,\"ticks\":\"\"},\"colorscale\":[[0.0,\"#0d0887\"],[0.1111111111111111,\"#46039f\"],[0.2222222222222222,\"#7201a8\"],[0.3333333333333333,\"#9c179e\"],[0.4444444444444444,\"#bd3786\"],[0.5555555555555556,\"#d8576b\"],[0.6666666666666666,\"#ed7953\"],[0.7777777777777778,\"#fb9f3a\"],[0.8888888888888888,\"#fdca26\"],[1.0,\"#f0f921\"]]}],\"surface\":[{\"type\":\"surface\",\"colorbar\":{\"outlinewidth\":0,\"ticks\":\"\"},\"colorscale\":[[0.0,\"#0d0887\"],[0.1111111111111111,\"#46039f\"],[0.2222222222222222,\"#7201a8\"],[0.3333333333333333,\"#9c179e\"],[0.4444444444444444,\"#bd3786\"],[0.5555555555555556,\"#d8576b\"],[0.6666666666666666,\"#ed7953\"],[0.7777777777777778,\"#fb9f3a\"],[0.8888888888888888,\"#fdca26\"],[1.0,\"#f0f921\"]]}],\"mesh3d\":[{\"type\":\"mesh3d\",\"colorbar\":{\"outlinewidth\":0,\"ticks\":\"\"}}],\"scatter\":[{\"fillpattern\":{\"fillmode\":\"overlay\",\"size\":10,\"solidity\":0.2},\"type\":\"scatter\"}],\"parcoords\":[{\"type\":\"parcoords\",\"line\":{\"colorbar\":{\"outlinewidth\":0,\"ticks\":\"\"}}}],\"scatterpolargl\":[{\"type\":\"scatterpolargl\",\"marker\":{\"colorbar\":{\"outlinewidth\":0,\"ticks\":\"\"}}}],\"bar\":[{\"error_x\":{\"color\":\"#2a3f5f\"},\"error_y\":{\"color\":\"#2a3f5f\"},\"marker\":{\"line\":{\"color\":\"#E5ECF6\",\"width\":0.5},\"pattern\":{\"fillmode\":\"overlay\",\"size\":10,\"solidity\":0.2}},\"type\":\"bar\"}],\"scattergeo\":[{\"type\":\"scattergeo\",\"marker\":{\"colorbar\":{\"outlinewidth\":0,\"ticks\":\"\"}}}],\"scatterpolar\":[{\"type\":\"scatterpolar\",\"marker\":{\"colorbar\":{\"outlinewidth\":0,\"ticks\":\"\"}}}],\"histogram\":[{\"marker\":{\"pattern\":{\"fillmode\":\"overlay\",\"size\":10,\"solidity\":0.2}},\"type\":\"histogram\"}],\"scattergl\":[{\"type\":\"scattergl\",\"marker\":{\"colorbar\":{\"outlinewidth\":0,\"ticks\":\"\"}}}],\"scatter3d\":[{\"type\":\"scatter3d\",\"line\":{\"colorbar\":{\"outlinewidth\":0,\"ticks\":\"\"}},\"marker\":{\"colorbar\":{\"outlinewidth\":0,\"ticks\":\"\"}}}],\"scattermapbox\":[{\"type\":\"scattermapbox\",\"marker\":{\"colorbar\":{\"outlinewidth\":0,\"ticks\":\"\"}}}],\"scatterternary\":[{\"type\":\"scatterternary\",\"marker\":{\"colorbar\":{\"outlinewidth\":0,\"ticks\":\"\"}}}],\"scattercarpet\":[{\"type\":\"scattercarpet\",\"marker\":{\"colorbar\":{\"outlinewidth\":0,\"ticks\":\"\"}}}],\"carpet\":[{\"aaxis\":{\"endlinecolor\":\"#2a3f5f\",\"gridcolor\":\"white\",\"linecolor\":\"white\",\"minorgridcolor\":\"white\",\"startlinecolor\":\"#2a3f5f\"},\"baxis\":{\"endlinecolor\":\"#2a3f5f\",\"gridcolor\":\"white\",\"linecolor\":\"white\",\"minorgridcolor\":\"white\",\"startlinecolor\":\"#2a3f5f\"},\"type\":\"carpet\"}],\"table\":[{\"cells\":{\"fill\":{\"color\":\"#EBF0F8\"},\"line\":{\"color\":\"white\"}},\"header\":{\"fill\":{\"color\":\"#C8D4E3\"},\"line\":{\"color\":\"white\"}},\"type\":\"table\"}],\"barpolar\":[{\"marker\":{\"line\":{\"color\":\"#E5ECF6\",\"width\":0.5},\"pattern\":{\"fillmode\":\"overlay\",\"size\":10,\"solidity\":0.2}},\"type\":\"barpolar\"}],\"pie\":[{\"automargin\":true,\"type\":\"pie\"}]},\"layout\":{\"autotypenumbers\":\"strict\",\"colorway\":[\"#636efa\",\"#EF553B\",\"#00cc96\",\"#ab63fa\",\"#FFA15A\",\"#19d3f3\",\"#FF6692\",\"#B6E880\",\"#FF97FF\",\"#FECB52\"],\"font\":{\"color\":\"#2a3f5f\"},\"hovermode\":\"closest\",\"hoverlabel\":{\"align\":\"left\"},\"paper_bgcolor\":\"white\",\"plot_bgcolor\":\"#E5ECF6\",\"polar\":{\"bgcolor\":\"#E5ECF6\",\"angularaxis\":{\"gridcolor\":\"white\",\"linecolor\":\"white\",\"ticks\":\"\"},\"radialaxis\":{\"gridcolor\":\"white\",\"linecolor\":\"white\",\"ticks\":\"\"}},\"ternary\":{\"bgcolor\":\"#E5ECF6\",\"aaxis\":{\"gridcolor\":\"white\",\"linecolor\":\"white\",\"ticks\":\"\"},\"baxis\":{\"gridcolor\":\"white\",\"linecolor\":\"white\",\"ticks\":\"\"},\"caxis\":{\"gridcolor\":\"white\",\"linecolor\":\"white\",\"ticks\":\"\"}},\"coloraxis\":{\"colorbar\":{\"outlinewidth\":0,\"ticks\":\"\"}},\"colorscale\":{\"sequential\":[[0.0,\"#0d0887\"],[0.1111111111111111,\"#46039f\"],[0.2222222222222222,\"#7201a8\"],[0.3333333333333333,\"#9c179e\"],[0.4444444444444444,\"#bd3786\"],[0.5555555555555556,\"#d8576b\"],[0.6666666666666666,\"#ed7953\"],[0.7777777777777778,\"#fb9f3a\"],[0.8888888888888888,\"#fdca26\"],[1.0,\"#f0f921\"]],\"sequentialminus\":[[0.0,\"#0d0887\"],[0.1111111111111111,\"#46039f\"],[0.2222222222222222,\"#7201a8\"],[0.3333333333333333,\"#9c179e\"],[0.4444444444444444,\"#bd3786\"],[0.5555555555555556,\"#d8576b\"],[0.6666666666666666,\"#ed7953\"],[0.7777777777777778,\"#fb9f3a\"],[0.8888888888888888,\"#fdca26\"],[1.0,\"#f0f921\"]],\"diverging\":[[0,\"#8e0152\"],[0.1,\"#c51b7d\"],[0.2,\"#de77ae\"],[0.3,\"#f1b6da\"],[0.4,\"#fde0ef\"],[0.5,\"#f7f7f7\"],[0.6,\"#e6f5d0\"],[0.7,\"#b8e186\"],[0.8,\"#7fbc41\"],[0.9,\"#4d9221\"],[1,\"#276419\"]]},\"xaxis\":{\"gridcolor\":\"white\",\"linecolor\":\"white\",\"ticks\":\"\",\"title\":{\"standoff\":15},\"zerolinecolor\":\"white\",\"automargin\":true,\"zerolinewidth\":2},\"yaxis\":{\"gridcolor\":\"white\",\"linecolor\":\"white\",\"ticks\":\"\",\"title\":{\"standoff\":15},\"zerolinecolor\":\"white\",\"automargin\":true,\"zerolinewidth\":2},\"scene\":{\"xaxis\":{\"backgroundcolor\":\"#E5ECF6\",\"gridcolor\":\"white\",\"linecolor\":\"white\",\"showbackground\":true,\"ticks\":\"\",\"zerolinecolor\":\"white\",\"gridwidth\":2},\"yaxis\":{\"backgroundcolor\":\"#E5ECF6\",\"gridcolor\":\"white\",\"linecolor\":\"white\",\"showbackground\":true,\"ticks\":\"\",\"zerolinecolor\":\"white\",\"gridwidth\":2},\"zaxis\":{\"backgroundcolor\":\"#E5ECF6\",\"gridcolor\":\"white\",\"linecolor\":\"white\",\"showbackground\":true,\"ticks\":\"\",\"zerolinecolor\":\"white\",\"gridwidth\":2}},\"shapedefaults\":{\"line\":{\"color\":\"#2a3f5f\"}},\"annotationdefaults\":{\"arrowcolor\":\"#2a3f5f\",\"arrowhead\":0,\"arrowwidth\":1},\"geo\":{\"bgcolor\":\"white\",\"landcolor\":\"#E5ECF6\",\"subunitcolor\":\"white\",\"showland\":true,\"showlakes\":true,\"lakecolor\":\"white\"},\"title\":{\"x\":0.05},\"mapbox\":{\"style\":\"light\"}}},\"mapbox\":{\"center\":{\"lat\":19.43,\"lon\":-99.13},\"style\":\"carto-positron\",\"zoom\":11},\"margin\":{\"l\":10,\"r\":10,\"t\":40,\"b\":10},\"coloraxis\":{\"colorbar\":{\"x\":0.95,\"y\":0.5,\"len\":0.75,\"title\":{\"text\":\"Delitos\"}}},\"legend\":{\"x\":0.01,\"y\":0.99,\"bgcolor\":\"rgba(255,255,255,0.7)\",\"bordercolor\":\"black\",\"borderwidth\":1},\"height\":800},                        {\"responsive\": true}                    ).then(function(){\n",
              "                            \n",
              "var gd = document.getElementById('560d4a02-a2d0-4ed9-bec3-a6064dcf7ac6');\n",
              "var x = new MutationObserver(function (mutations, observer) {{\n",
              "        var display = window.getComputedStyle(gd).display;\n",
              "        if (!display || display === 'none') {{\n",
              "            console.log([gd, 'removed!']);\n",
              "            Plotly.purge(gd);\n",
              "            observer.disconnect();\n",
              "        }}\n",
              "}});\n",
              "\n",
              "// Listen for the removal of the full notebook cells\n",
              "var notebookContainer = gd.closest('#notebook-container');\n",
              "if (notebookContainer) {{\n",
              "    x.observe(notebookContainer, {childList: true});\n",
              "}}\n",
              "\n",
              "// Listen for the clearing of the current output cell\n",
              "var outputEl = gd.closest('.output');\n",
              "if (outputEl) {{\n",
              "    x.observe(outputEl, {childList: true});\n",
              "}}\n",
              "\n",
              "                        })                };                            </script>        </div>\n",
              "</body>\n",
              "</html>"
            ]
          },
          "metadata": {}
        }
      ],
      "source": [
        "crimes_df = df_m.dropna(subset=[\"Longitude\", \"Latitude\"]).groupby(\"closest_station\").count().iloc[:,0]\n",
        "crimes_df = crimes_df.reset_index()\n",
        "crimes_df.columns = [\"Station\", \"Crimes\"]\n",
        "#df_st_crimes = pd.merge(df_stations, crimes_df, on=\"Station\")\n",
        "df_st_crimes = pd.merge(df_stations, crimes_df, on=\"Station\", how=\"left\").fillna({\"Crimes\": 0})\n",
        "df_st_crimes[\"Crimes\"] = df_st_crimes[\"Crimes\"].astype(int)\n",
        "df_st_crimes.Crimes = df_st_crimes.Crimes.astype(int)\n",
        "\n",
        "fig = go.Figure()\n",
        "for line, stations in metro_lines.items():\n",
        "    line_color = line_colors_dict[line]\n",
        "    lons = []\n",
        "    lats = []\n",
        "\n",
        "    for start_station, end_station in zip(stations[:-1], stations[1:]):\n",
        "        start_coords = stations_dict[start_station]\n",
        "        end_coords = stations_dict[end_station]\n",
        "\n",
        "        lons += [start_coords['lon'], end_coords['lon'], None]\n",
        "        lats += [start_coords['lat'], end_coords['lat'], None]\n",
        "\n",
        "\n",
        "    fig.add_trace(go.Scattermapbox(\n",
        "        mode=\"lines\",\n",
        "        lon=lons,\n",
        "        lat=lats,\n",
        "        line=dict(width=4, color=line_color),\n",
        "        hoverinfo='text',\n",
        "        name=line,\n",
        "        showlegend=True\n",
        "    ))\n",
        "marker_sizes = np.log1p(df_st_crimes[\"Crimes\"])\n",
        "marker_sizes = (marker_sizes - marker_sizes.min()) / (marker_sizes.max() - marker_sizes.min())\n",
        "\n",
        "# Scale to reasonable marker sizes: 8 (min) to 25 (max)\n",
        "marker_sizes = marker_sizes * 20 + 2\n",
        "fig.add_trace(go.Scattermapbox(\n",
        "    mode=\"markers\",\n",
        "    lon=df_st_crimes[\"Longitude\"],\n",
        "    lat=df_st_crimes[\"Latitude\"],\n",
        "    marker=dict(\n",
        "        size=marker_sizes,\n",
        "        color=df_st_crimes[\"Crimes\"],\n",
        "        colorscale=\"YlOrRd\",\n",
        "        showscale=True,\n",
        "        colorbar=dict(title=\"Denuncias\"),\n",
        "        opacity=0.8\n",
        "    ),\n",
        "    text = df_st_crimes[\"Station\"] + \"<br>Denuncias: \" + df_st_crimes[\"Crimes\"].astype(str),\n",
        "    hoverinfo=\"text\",\n",
        "    name=\"Estaciones\"\n",
        "))\n",
        "\n",
        "fig.update_layout(\n",
        "    mapbox_style=\"carto-positron\",\n",
        "    mapbox_zoom=11,\n",
        "    mapbox_center={\"lat\": 19.43, \"lon\": -99.13},\n",
        "    height=800,\n",
        "    margin=dict(l=10, r=10, t=40, b=10),\n",
        "    coloraxis_colorbar=dict(x=0.95, y=0.5, len=0.75, title=\"Delitos\"),\n",
        "    legend=dict(x=0.01, y=0.99, bgcolor='rgba(255,255,255,0.7)', bordercolor='black', borderwidth=1)\n",
        ")\n",
        "\n",
        "fig.show()"
      ]
    },
    {
      "cell_type": "code",
      "source": [
        "most_dangerous = crimes_df.sort_values(by=\"Crimes\", ascending=False).head(5)\n",
        "safest = crimes_df.sort_values(by=\"Crimes\", ascending=True).head(5)\n",
        "combined = pd.concat([\n",
        "    most_dangerous.assign(Category=\"Mas peligrosas\"),\n",
        "    safest.assign(Category=\"Seguras\")\n",
        "])\n",
        "\n",
        "fig = px.bar(\n",
        "    combined,\n",
        "    x=\"Crimes\",\n",
        "    y=\"Station\",\n",
        "    color=\"Category\",\n",
        "    orientation=\"h\",\n",
        "    title=\"5 mas peligrosas y 5 mas seguras\",\n",
        "    labels={\"Crimes\": \"Número de incidentes\", \"Station\": \"Estación\"},\n",
        "    color_discrete_map={\n",
        "        \"Mas peligrosas\": \"#AA2626\",  # Use color previously for \"Seguras\"\n",
        "        \"Seguras\": \"#10AA10\"\n",
        "    }\n",
        ")\n",
        "fig.update_layout(yaxis={'categoryorder':'total ascending'})\n",
        "fig.show()"
      ],
      "metadata": {
        "colab": {
          "base_uri": "https://localhost:8080/",
          "height": 542
        },
        "id": "Bq0x8uGgQWLF",
        "outputId": "2a9b6601-4649-41d3-da27-cf81ad553172"
      },
      "execution_count": 12,
      "outputs": [
        {
          "output_type": "display_data",
          "data": {
            "text/html": [
              "<html>\n",
              "<head><meta charset=\"utf-8\" /></head>\n",
              "<body>\n",
              "    <div>            <script src=\"https://cdnjs.cloudflare.com/ajax/libs/mathjax/2.7.5/MathJax.js?config=TeX-AMS-MML_SVG\"></script><script type=\"text/javascript\">if (window.MathJax && window.MathJax.Hub && window.MathJax.Hub.Config) {window.MathJax.Hub.Config({SVG: {font: \"STIX-Web\"}});}</script>                <script type=\"text/javascript\">window.PlotlyConfig = {MathJaxConfig: 'local'};</script>\n",
              "        <script charset=\"utf-8\" src=\"https://cdn.plot.ly/plotly-2.35.2.min.js\"></script>                <div id=\"ae32f0e8-f8a2-409c-be33-4df0438e59c6\" class=\"plotly-graph-div\" style=\"height:525px; width:100%;\"></div>            <script type=\"text/javascript\">                                    window.PLOTLYENV=window.PLOTLYENV || {};                                    if (document.getElementById(\"ae32f0e8-f8a2-409c-be33-4df0438e59c6\")) {                    Plotly.newPlot(                        \"ae32f0e8-f8a2-409c-be33-4df0438e59c6\",                        [{\"alignmentgroup\":\"True\",\"hovertemplate\":\"Category=Mas peligrosas\\u003cbr\\u003eNúmero de incidentes=%{x}\\u003cbr\\u003eEstación=%{y}\\u003cextra\\u003e\\u003c\\u002fextra\\u003e\",\"legendgroup\":\"Mas peligrosas\",\"marker\":{\"color\":\"#AA2626\",\"pattern\":{\"shape\":\"\"}},\"name\":\"Mas peligrosas\",\"offsetgroup\":\"Mas peligrosas\",\"orientation\":\"h\",\"showlegend\":true,\"textposition\":\"auto\",\"x\":[732,672,358,340,316],\"xaxis\":\"x\",\"y\":[\"Hidalgo\",\"Pantitlán\",\"Chabacano\",\"Pino Suárez\",\"Tacubaya\"],\"yaxis\":\"y\",\"type\":\"bar\"},{\"alignmentgroup\":\"True\",\"hovertemplate\":\"Category=Seguras\\u003cbr\\u003eNúmero de incidentes=%{x}\\u003cbr\\u003eEstación=%{y}\\u003cextra\\u003e\\u003c\\u002fextra\\u003e\",\"legendgroup\":\"Seguras\",\"marker\":{\"color\":\"#10AA10\",\"pattern\":{\"shape\":\"\"}},\"name\":\"Seguras\",\"offsetgroup\":\"Seguras\",\"orientation\":\"h\",\"showlegend\":true,\"textposition\":\"auto\",\"x\":[4,4,4,4,4],\"xaxis\":\"x\",\"y\":[\"Aculco\",\"Cuatro Caminos\",\"Lomas Estrella\",\"Tezonco\",\"Vallejo\"],\"yaxis\":\"y\",\"type\":\"bar\"}],                        {\"template\":{\"data\":{\"histogram2dcontour\":[{\"type\":\"histogram2dcontour\",\"colorbar\":{\"outlinewidth\":0,\"ticks\":\"\"},\"colorscale\":[[0.0,\"#0d0887\"],[0.1111111111111111,\"#46039f\"],[0.2222222222222222,\"#7201a8\"],[0.3333333333333333,\"#9c179e\"],[0.4444444444444444,\"#bd3786\"],[0.5555555555555556,\"#d8576b\"],[0.6666666666666666,\"#ed7953\"],[0.7777777777777778,\"#fb9f3a\"],[0.8888888888888888,\"#fdca26\"],[1.0,\"#f0f921\"]]}],\"choropleth\":[{\"type\":\"choropleth\",\"colorbar\":{\"outlinewidth\":0,\"ticks\":\"\"}}],\"histogram2d\":[{\"type\":\"histogram2d\",\"colorbar\":{\"outlinewidth\":0,\"ticks\":\"\"},\"colorscale\":[[0.0,\"#0d0887\"],[0.1111111111111111,\"#46039f\"],[0.2222222222222222,\"#7201a8\"],[0.3333333333333333,\"#9c179e\"],[0.4444444444444444,\"#bd3786\"],[0.5555555555555556,\"#d8576b\"],[0.6666666666666666,\"#ed7953\"],[0.7777777777777778,\"#fb9f3a\"],[0.8888888888888888,\"#fdca26\"],[1.0,\"#f0f921\"]]}],\"heatmap\":[{\"type\":\"heatmap\",\"colorbar\":{\"outlinewidth\":0,\"ticks\":\"\"},\"colorscale\":[[0.0,\"#0d0887\"],[0.1111111111111111,\"#46039f\"],[0.2222222222222222,\"#7201a8\"],[0.3333333333333333,\"#9c179e\"],[0.4444444444444444,\"#bd3786\"],[0.5555555555555556,\"#d8576b\"],[0.6666666666666666,\"#ed7953\"],[0.7777777777777778,\"#fb9f3a\"],[0.8888888888888888,\"#fdca26\"],[1.0,\"#f0f921\"]]}],\"heatmapgl\":[{\"type\":\"heatmapgl\",\"colorbar\":{\"outlinewidth\":0,\"ticks\":\"\"},\"colorscale\":[[0.0,\"#0d0887\"],[0.1111111111111111,\"#46039f\"],[0.2222222222222222,\"#7201a8\"],[0.3333333333333333,\"#9c179e\"],[0.4444444444444444,\"#bd3786\"],[0.5555555555555556,\"#d8576b\"],[0.6666666666666666,\"#ed7953\"],[0.7777777777777778,\"#fb9f3a\"],[0.8888888888888888,\"#fdca26\"],[1.0,\"#f0f921\"]]}],\"contourcarpet\":[{\"type\":\"contourcarpet\",\"colorbar\":{\"outlinewidth\":0,\"ticks\":\"\"}}],\"contour\":[{\"type\":\"contour\",\"colorbar\":{\"outlinewidth\":0,\"ticks\":\"\"},\"colorscale\":[[0.0,\"#0d0887\"],[0.1111111111111111,\"#46039f\"],[0.2222222222222222,\"#7201a8\"],[0.3333333333333333,\"#9c179e\"],[0.4444444444444444,\"#bd3786\"],[0.5555555555555556,\"#d8576b\"],[0.6666666666666666,\"#ed7953\"],[0.7777777777777778,\"#fb9f3a\"],[0.8888888888888888,\"#fdca26\"],[1.0,\"#f0f921\"]]}],\"surface\":[{\"type\":\"surface\",\"colorbar\":{\"outlinewidth\":0,\"ticks\":\"\"},\"colorscale\":[[0.0,\"#0d0887\"],[0.1111111111111111,\"#46039f\"],[0.2222222222222222,\"#7201a8\"],[0.3333333333333333,\"#9c179e\"],[0.4444444444444444,\"#bd3786\"],[0.5555555555555556,\"#d8576b\"],[0.6666666666666666,\"#ed7953\"],[0.7777777777777778,\"#fb9f3a\"],[0.8888888888888888,\"#fdca26\"],[1.0,\"#f0f921\"]]}],\"mesh3d\":[{\"type\":\"mesh3d\",\"colorbar\":{\"outlinewidth\":0,\"ticks\":\"\"}}],\"scatter\":[{\"fillpattern\":{\"fillmode\":\"overlay\",\"size\":10,\"solidity\":0.2},\"type\":\"scatter\"}],\"parcoords\":[{\"type\":\"parcoords\",\"line\":{\"colorbar\":{\"outlinewidth\":0,\"ticks\":\"\"}}}],\"scatterpolargl\":[{\"type\":\"scatterpolargl\",\"marker\":{\"colorbar\":{\"outlinewidth\":0,\"ticks\":\"\"}}}],\"bar\":[{\"error_x\":{\"color\":\"#2a3f5f\"},\"error_y\":{\"color\":\"#2a3f5f\"},\"marker\":{\"line\":{\"color\":\"#E5ECF6\",\"width\":0.5},\"pattern\":{\"fillmode\":\"overlay\",\"size\":10,\"solidity\":0.2}},\"type\":\"bar\"}],\"scattergeo\":[{\"type\":\"scattergeo\",\"marker\":{\"colorbar\":{\"outlinewidth\":0,\"ticks\":\"\"}}}],\"scatterpolar\":[{\"type\":\"scatterpolar\",\"marker\":{\"colorbar\":{\"outlinewidth\":0,\"ticks\":\"\"}}}],\"histogram\":[{\"marker\":{\"pattern\":{\"fillmode\":\"overlay\",\"size\":10,\"solidity\":0.2}},\"type\":\"histogram\"}],\"scattergl\":[{\"type\":\"scattergl\",\"marker\":{\"colorbar\":{\"outlinewidth\":0,\"ticks\":\"\"}}}],\"scatter3d\":[{\"type\":\"scatter3d\",\"line\":{\"colorbar\":{\"outlinewidth\":0,\"ticks\":\"\"}},\"marker\":{\"colorbar\":{\"outlinewidth\":0,\"ticks\":\"\"}}}],\"scattermapbox\":[{\"type\":\"scattermapbox\",\"marker\":{\"colorbar\":{\"outlinewidth\":0,\"ticks\":\"\"}}}],\"scatterternary\":[{\"type\":\"scatterternary\",\"marker\":{\"colorbar\":{\"outlinewidth\":0,\"ticks\":\"\"}}}],\"scattercarpet\":[{\"type\":\"scattercarpet\",\"marker\":{\"colorbar\":{\"outlinewidth\":0,\"ticks\":\"\"}}}],\"carpet\":[{\"aaxis\":{\"endlinecolor\":\"#2a3f5f\",\"gridcolor\":\"white\",\"linecolor\":\"white\",\"minorgridcolor\":\"white\",\"startlinecolor\":\"#2a3f5f\"},\"baxis\":{\"endlinecolor\":\"#2a3f5f\",\"gridcolor\":\"white\",\"linecolor\":\"white\",\"minorgridcolor\":\"white\",\"startlinecolor\":\"#2a3f5f\"},\"type\":\"carpet\"}],\"table\":[{\"cells\":{\"fill\":{\"color\":\"#EBF0F8\"},\"line\":{\"color\":\"white\"}},\"header\":{\"fill\":{\"color\":\"#C8D4E3\"},\"line\":{\"color\":\"white\"}},\"type\":\"table\"}],\"barpolar\":[{\"marker\":{\"line\":{\"color\":\"#E5ECF6\",\"width\":0.5},\"pattern\":{\"fillmode\":\"overlay\",\"size\":10,\"solidity\":0.2}},\"type\":\"barpolar\"}],\"pie\":[{\"automargin\":true,\"type\":\"pie\"}]},\"layout\":{\"autotypenumbers\":\"strict\",\"colorway\":[\"#636efa\",\"#EF553B\",\"#00cc96\",\"#ab63fa\",\"#FFA15A\",\"#19d3f3\",\"#FF6692\",\"#B6E880\",\"#FF97FF\",\"#FECB52\"],\"font\":{\"color\":\"#2a3f5f\"},\"hovermode\":\"closest\",\"hoverlabel\":{\"align\":\"left\"},\"paper_bgcolor\":\"white\",\"plot_bgcolor\":\"#E5ECF6\",\"polar\":{\"bgcolor\":\"#E5ECF6\",\"angularaxis\":{\"gridcolor\":\"white\",\"linecolor\":\"white\",\"ticks\":\"\"},\"radialaxis\":{\"gridcolor\":\"white\",\"linecolor\":\"white\",\"ticks\":\"\"}},\"ternary\":{\"bgcolor\":\"#E5ECF6\",\"aaxis\":{\"gridcolor\":\"white\",\"linecolor\":\"white\",\"ticks\":\"\"},\"baxis\":{\"gridcolor\":\"white\",\"linecolor\":\"white\",\"ticks\":\"\"},\"caxis\":{\"gridcolor\":\"white\",\"linecolor\":\"white\",\"ticks\":\"\"}},\"coloraxis\":{\"colorbar\":{\"outlinewidth\":0,\"ticks\":\"\"}},\"colorscale\":{\"sequential\":[[0.0,\"#0d0887\"],[0.1111111111111111,\"#46039f\"],[0.2222222222222222,\"#7201a8\"],[0.3333333333333333,\"#9c179e\"],[0.4444444444444444,\"#bd3786\"],[0.5555555555555556,\"#d8576b\"],[0.6666666666666666,\"#ed7953\"],[0.7777777777777778,\"#fb9f3a\"],[0.8888888888888888,\"#fdca26\"],[1.0,\"#f0f921\"]],\"sequentialminus\":[[0.0,\"#0d0887\"],[0.1111111111111111,\"#46039f\"],[0.2222222222222222,\"#7201a8\"],[0.3333333333333333,\"#9c179e\"],[0.4444444444444444,\"#bd3786\"],[0.5555555555555556,\"#d8576b\"],[0.6666666666666666,\"#ed7953\"],[0.7777777777777778,\"#fb9f3a\"],[0.8888888888888888,\"#fdca26\"],[1.0,\"#f0f921\"]],\"diverging\":[[0,\"#8e0152\"],[0.1,\"#c51b7d\"],[0.2,\"#de77ae\"],[0.3,\"#f1b6da\"],[0.4,\"#fde0ef\"],[0.5,\"#f7f7f7\"],[0.6,\"#e6f5d0\"],[0.7,\"#b8e186\"],[0.8,\"#7fbc41\"],[0.9,\"#4d9221\"],[1,\"#276419\"]]},\"xaxis\":{\"gridcolor\":\"white\",\"linecolor\":\"white\",\"ticks\":\"\",\"title\":{\"standoff\":15},\"zerolinecolor\":\"white\",\"automargin\":true,\"zerolinewidth\":2},\"yaxis\":{\"gridcolor\":\"white\",\"linecolor\":\"white\",\"ticks\":\"\",\"title\":{\"standoff\":15},\"zerolinecolor\":\"white\",\"automargin\":true,\"zerolinewidth\":2},\"scene\":{\"xaxis\":{\"backgroundcolor\":\"#E5ECF6\",\"gridcolor\":\"white\",\"linecolor\":\"white\",\"showbackground\":true,\"ticks\":\"\",\"zerolinecolor\":\"white\",\"gridwidth\":2},\"yaxis\":{\"backgroundcolor\":\"#E5ECF6\",\"gridcolor\":\"white\",\"linecolor\":\"white\",\"showbackground\":true,\"ticks\":\"\",\"zerolinecolor\":\"white\",\"gridwidth\":2},\"zaxis\":{\"backgroundcolor\":\"#E5ECF6\",\"gridcolor\":\"white\",\"linecolor\":\"white\",\"showbackground\":true,\"ticks\":\"\",\"zerolinecolor\":\"white\",\"gridwidth\":2}},\"shapedefaults\":{\"line\":{\"color\":\"#2a3f5f\"}},\"annotationdefaults\":{\"arrowcolor\":\"#2a3f5f\",\"arrowhead\":0,\"arrowwidth\":1},\"geo\":{\"bgcolor\":\"white\",\"landcolor\":\"#E5ECF6\",\"subunitcolor\":\"white\",\"showland\":true,\"showlakes\":true,\"lakecolor\":\"white\"},\"title\":{\"x\":0.05},\"mapbox\":{\"style\":\"light\"}}},\"xaxis\":{\"anchor\":\"y\",\"domain\":[0.0,1.0],\"title\":{\"text\":\"Número de incidentes\"}},\"yaxis\":{\"anchor\":\"x\",\"domain\":[0.0,1.0],\"title\":{\"text\":\"Estación\"},\"categoryorder\":\"total ascending\"},\"legend\":{\"title\":{\"text\":\"Category\"},\"tracegroupgap\":0},\"title\":{\"text\":\"5 mas peligrosas y 5 mas seguras\"},\"barmode\":\"relative\"},                        {\"responsive\": true}                    ).then(function(){\n",
              "                            \n",
              "var gd = document.getElementById('ae32f0e8-f8a2-409c-be33-4df0438e59c6');\n",
              "var x = new MutationObserver(function (mutations, observer) {{\n",
              "        var display = window.getComputedStyle(gd).display;\n",
              "        if (!display || display === 'none') {{\n",
              "            console.log([gd, 'removed!']);\n",
              "            Plotly.purge(gd);\n",
              "            observer.disconnect();\n",
              "        }}\n",
              "}});\n",
              "\n",
              "// Listen for the removal of the full notebook cells\n",
              "var notebookContainer = gd.closest('#notebook-container');\n",
              "if (notebookContainer) {{\n",
              "    x.observe(notebookContainer, {childList: true});\n",
              "}}\n",
              "\n",
              "// Listen for the clearing of the current output cell\n",
              "var outputEl = gd.closest('.output');\n",
              "if (outputEl) {{\n",
              "    x.observe(outputEl, {childList: true});\n",
              "}}\n",
              "\n",
              "                        })                };                            </script>        </div>\n",
              "</body>\n",
              "</html>"
            ]
          },
          "metadata": {}
        }
      ]
    },
    {
      "cell_type": "code",
      "source": [
        "monthly_data = df_m[[\"year\", \"month\", \"ID\"]].groupby([\"year\", \"month\"]).count()\n",
        "monthly_data = monthly_data.rename(columns={'ID':'count'})\n",
        "monthly_pivot = monthly_data['count'].unstack(level=0)\n",
        "fig = go.Figure()\n",
        "\n",
        "# Loop through each year (column) to add a line\n",
        "for year in monthly_pivot.columns:\n",
        "    fig.add_trace(go.Scatter(\n",
        "        x=monthly_pivot.index,\n",
        "        y=monthly_pivot[year],\n",
        "        mode='lines+markers',\n",
        "        name=str(year)  # Custom legend label\n",
        "    ))\n",
        "\n",
        "# Customize layout\n",
        "fig.update_layout(\n",
        "    title=\"Promedio por mes\",\n",
        "    xaxis_title=\"Mes\",\n",
        "    yaxis_title=\"Promedio\",\n",
        "    xaxis=dict(tickmode='array', tickvals=list(range(1, 13)), ticktext=[\n",
        "        'Ene', 'Feb', 'Mar', 'Abr', 'May', 'Jun',\n",
        "        'Jul', 'Ago', 'Sep', 'Oct', 'Nov', 'Dic'\n",
        "    ]),\n",
        "    legend_title=\"Año\",\n",
        "    template=\"plotly_white\"\n",
        ")\n",
        "\n",
        "fig.show()"
      ],
      "metadata": {
        "colab": {
          "base_uri": "https://localhost:8080/",
          "height": 542
        },
        "id": "Hf9QUvHG40AE",
        "outputId": "dee045f1-c015-4d47-e9fc-88e731491e89"
      },
      "execution_count": 13,
      "outputs": [
        {
          "output_type": "display_data",
          "data": {
            "text/html": [
              "<html>\n",
              "<head><meta charset=\"utf-8\" /></head>\n",
              "<body>\n",
              "    <div>            <script src=\"https://cdnjs.cloudflare.com/ajax/libs/mathjax/2.7.5/MathJax.js?config=TeX-AMS-MML_SVG\"></script><script type=\"text/javascript\">if (window.MathJax && window.MathJax.Hub && window.MathJax.Hub.Config) {window.MathJax.Hub.Config({SVG: {font: \"STIX-Web\"}});}</script>                <script type=\"text/javascript\">window.PlotlyConfig = {MathJaxConfig: 'local'};</script>\n",
              "        <script charset=\"utf-8\" src=\"https://cdn.plot.ly/plotly-2.35.2.min.js\"></script>                <div id=\"4d8395a9-bd50-485d-a562-58921a6d10c6\" class=\"plotly-graph-div\" style=\"height:525px; width:100%;\"></div>            <script type=\"text/javascript\">                                    window.PLOTLYENV=window.PLOTLYENV || {};                                    if (document.getElementById(\"4d8395a9-bd50-485d-a562-58921a6d10c6\")) {                    Plotly.newPlot(                        \"4d8395a9-bd50-485d-a562-58921a6d10c6\",                        [{\"mode\":\"lines+markers\",\"name\":\"2020\",\"x\":[1,2,3,4,5,6,7,8,9,10,11,12],\"y\":[240.0,262.0,198.0,32.0,36.0,62.0,90.0,112.0,98.0,114.0,150.0,108.0],\"type\":\"scatter\"},{\"mode\":\"lines+markers\",\"name\":\"2021\",\"x\":[1,2,3,4,5,6,7,8,9,10,11,12],\"y\":[90.0,102.0,152.0,114.0,150.0,162.0,144.0,132.0,134.0,170.0,144.0,156.0],\"type\":\"scatter\"},{\"mode\":\"lines+markers\",\"name\":\"2022\",\"x\":[1,2,3,4,5,6,7,8,9,10,11,12],\"y\":[102.0,128.0,176.0,180.0,204.0,188.0,202.0,234.0,194.0,242.0,230.0,188.0],\"type\":\"scatter\"},{\"mode\":\"lines+markers\",\"name\":\"2023\",\"x\":[1,2,3,4,5,6,7,8,9,10,11,12],\"y\":[168.0,170.0,192.0,160.0,160.0,128.0,134.0,128.0,122.0,164.0,138.0,138.0],\"type\":\"scatter\"},{\"mode\":\"lines+markers\",\"name\":\"2024\",\"x\":[1,2,3,4,5,6,7,8,9,10,11,12],\"y\":[172.0,182.0,150.0,138.0,206.0,134.0,138.0,206.0,152.0,176.0,146.0,176.0],\"type\":\"scatter\"},{\"mode\":\"lines+markers\",\"name\":\"2025\",\"x\":[1,2,3,4,5,6,7,8,9,10,11,12],\"y\":[160.0,102.0,null,null,null,null,null,null,null,null,null,null],\"type\":\"scatter\"}],                        {\"template\":{\"data\":{\"barpolar\":[{\"marker\":{\"line\":{\"color\":\"white\",\"width\":0.5},\"pattern\":{\"fillmode\":\"overlay\",\"size\":10,\"solidity\":0.2}},\"type\":\"barpolar\"}],\"bar\":[{\"error_x\":{\"color\":\"#2a3f5f\"},\"error_y\":{\"color\":\"#2a3f5f\"},\"marker\":{\"line\":{\"color\":\"white\",\"width\":0.5},\"pattern\":{\"fillmode\":\"overlay\",\"size\":10,\"solidity\":0.2}},\"type\":\"bar\"}],\"carpet\":[{\"aaxis\":{\"endlinecolor\":\"#2a3f5f\",\"gridcolor\":\"#C8D4E3\",\"linecolor\":\"#C8D4E3\",\"minorgridcolor\":\"#C8D4E3\",\"startlinecolor\":\"#2a3f5f\"},\"baxis\":{\"endlinecolor\":\"#2a3f5f\",\"gridcolor\":\"#C8D4E3\",\"linecolor\":\"#C8D4E3\",\"minorgridcolor\":\"#C8D4E3\",\"startlinecolor\":\"#2a3f5f\"},\"type\":\"carpet\"}],\"choropleth\":[{\"colorbar\":{\"outlinewidth\":0,\"ticks\":\"\"},\"type\":\"choropleth\"}],\"contourcarpet\":[{\"colorbar\":{\"outlinewidth\":0,\"ticks\":\"\"},\"type\":\"contourcarpet\"}],\"contour\":[{\"colorbar\":{\"outlinewidth\":0,\"ticks\":\"\"},\"colorscale\":[[0.0,\"#0d0887\"],[0.1111111111111111,\"#46039f\"],[0.2222222222222222,\"#7201a8\"],[0.3333333333333333,\"#9c179e\"],[0.4444444444444444,\"#bd3786\"],[0.5555555555555556,\"#d8576b\"],[0.6666666666666666,\"#ed7953\"],[0.7777777777777778,\"#fb9f3a\"],[0.8888888888888888,\"#fdca26\"],[1.0,\"#f0f921\"]],\"type\":\"contour\"}],\"heatmapgl\":[{\"colorbar\":{\"outlinewidth\":0,\"ticks\":\"\"},\"colorscale\":[[0.0,\"#0d0887\"],[0.1111111111111111,\"#46039f\"],[0.2222222222222222,\"#7201a8\"],[0.3333333333333333,\"#9c179e\"],[0.4444444444444444,\"#bd3786\"],[0.5555555555555556,\"#d8576b\"],[0.6666666666666666,\"#ed7953\"],[0.7777777777777778,\"#fb9f3a\"],[0.8888888888888888,\"#fdca26\"],[1.0,\"#f0f921\"]],\"type\":\"heatmapgl\"}],\"heatmap\":[{\"colorbar\":{\"outlinewidth\":0,\"ticks\":\"\"},\"colorscale\":[[0.0,\"#0d0887\"],[0.1111111111111111,\"#46039f\"],[0.2222222222222222,\"#7201a8\"],[0.3333333333333333,\"#9c179e\"],[0.4444444444444444,\"#bd3786\"],[0.5555555555555556,\"#d8576b\"],[0.6666666666666666,\"#ed7953\"],[0.7777777777777778,\"#fb9f3a\"],[0.8888888888888888,\"#fdca26\"],[1.0,\"#f0f921\"]],\"type\":\"heatmap\"}],\"histogram2dcontour\":[{\"colorbar\":{\"outlinewidth\":0,\"ticks\":\"\"},\"colorscale\":[[0.0,\"#0d0887\"],[0.1111111111111111,\"#46039f\"],[0.2222222222222222,\"#7201a8\"],[0.3333333333333333,\"#9c179e\"],[0.4444444444444444,\"#bd3786\"],[0.5555555555555556,\"#d8576b\"],[0.6666666666666666,\"#ed7953\"],[0.7777777777777778,\"#fb9f3a\"],[0.8888888888888888,\"#fdca26\"],[1.0,\"#f0f921\"]],\"type\":\"histogram2dcontour\"}],\"histogram2d\":[{\"colorbar\":{\"outlinewidth\":0,\"ticks\":\"\"},\"colorscale\":[[0.0,\"#0d0887\"],[0.1111111111111111,\"#46039f\"],[0.2222222222222222,\"#7201a8\"],[0.3333333333333333,\"#9c179e\"],[0.4444444444444444,\"#bd3786\"],[0.5555555555555556,\"#d8576b\"],[0.6666666666666666,\"#ed7953\"],[0.7777777777777778,\"#fb9f3a\"],[0.8888888888888888,\"#fdca26\"],[1.0,\"#f0f921\"]],\"type\":\"histogram2d\"}],\"histogram\":[{\"marker\":{\"pattern\":{\"fillmode\":\"overlay\",\"size\":10,\"solidity\":0.2}},\"type\":\"histogram\"}],\"mesh3d\":[{\"colorbar\":{\"outlinewidth\":0,\"ticks\":\"\"},\"type\":\"mesh3d\"}],\"parcoords\":[{\"line\":{\"colorbar\":{\"outlinewidth\":0,\"ticks\":\"\"}},\"type\":\"parcoords\"}],\"pie\":[{\"automargin\":true,\"type\":\"pie\"}],\"scatter3d\":[{\"line\":{\"colorbar\":{\"outlinewidth\":0,\"ticks\":\"\"}},\"marker\":{\"colorbar\":{\"outlinewidth\":0,\"ticks\":\"\"}},\"type\":\"scatter3d\"}],\"scattercarpet\":[{\"marker\":{\"colorbar\":{\"outlinewidth\":0,\"ticks\":\"\"}},\"type\":\"scattercarpet\"}],\"scattergeo\":[{\"marker\":{\"colorbar\":{\"outlinewidth\":0,\"ticks\":\"\"}},\"type\":\"scattergeo\"}],\"scattergl\":[{\"marker\":{\"colorbar\":{\"outlinewidth\":0,\"ticks\":\"\"}},\"type\":\"scattergl\"}],\"scattermapbox\":[{\"marker\":{\"colorbar\":{\"outlinewidth\":0,\"ticks\":\"\"}},\"type\":\"scattermapbox\"}],\"scatterpolargl\":[{\"marker\":{\"colorbar\":{\"outlinewidth\":0,\"ticks\":\"\"}},\"type\":\"scatterpolargl\"}],\"scatterpolar\":[{\"marker\":{\"colorbar\":{\"outlinewidth\":0,\"ticks\":\"\"}},\"type\":\"scatterpolar\"}],\"scatter\":[{\"fillpattern\":{\"fillmode\":\"overlay\",\"size\":10,\"solidity\":0.2},\"type\":\"scatter\"}],\"scatterternary\":[{\"marker\":{\"colorbar\":{\"outlinewidth\":0,\"ticks\":\"\"}},\"type\":\"scatterternary\"}],\"surface\":[{\"colorbar\":{\"outlinewidth\":0,\"ticks\":\"\"},\"colorscale\":[[0.0,\"#0d0887\"],[0.1111111111111111,\"#46039f\"],[0.2222222222222222,\"#7201a8\"],[0.3333333333333333,\"#9c179e\"],[0.4444444444444444,\"#bd3786\"],[0.5555555555555556,\"#d8576b\"],[0.6666666666666666,\"#ed7953\"],[0.7777777777777778,\"#fb9f3a\"],[0.8888888888888888,\"#fdca26\"],[1.0,\"#f0f921\"]],\"type\":\"surface\"}],\"table\":[{\"cells\":{\"fill\":{\"color\":\"#EBF0F8\"},\"line\":{\"color\":\"white\"}},\"header\":{\"fill\":{\"color\":\"#C8D4E3\"},\"line\":{\"color\":\"white\"}},\"type\":\"table\"}]},\"layout\":{\"annotationdefaults\":{\"arrowcolor\":\"#2a3f5f\",\"arrowhead\":0,\"arrowwidth\":1},\"autotypenumbers\":\"strict\",\"coloraxis\":{\"colorbar\":{\"outlinewidth\":0,\"ticks\":\"\"}},\"colorscale\":{\"diverging\":[[0,\"#8e0152\"],[0.1,\"#c51b7d\"],[0.2,\"#de77ae\"],[0.3,\"#f1b6da\"],[0.4,\"#fde0ef\"],[0.5,\"#f7f7f7\"],[0.6,\"#e6f5d0\"],[0.7,\"#b8e186\"],[0.8,\"#7fbc41\"],[0.9,\"#4d9221\"],[1,\"#276419\"]],\"sequential\":[[0.0,\"#0d0887\"],[0.1111111111111111,\"#46039f\"],[0.2222222222222222,\"#7201a8\"],[0.3333333333333333,\"#9c179e\"],[0.4444444444444444,\"#bd3786\"],[0.5555555555555556,\"#d8576b\"],[0.6666666666666666,\"#ed7953\"],[0.7777777777777778,\"#fb9f3a\"],[0.8888888888888888,\"#fdca26\"],[1.0,\"#f0f921\"]],\"sequentialminus\":[[0.0,\"#0d0887\"],[0.1111111111111111,\"#46039f\"],[0.2222222222222222,\"#7201a8\"],[0.3333333333333333,\"#9c179e\"],[0.4444444444444444,\"#bd3786\"],[0.5555555555555556,\"#d8576b\"],[0.6666666666666666,\"#ed7953\"],[0.7777777777777778,\"#fb9f3a\"],[0.8888888888888888,\"#fdca26\"],[1.0,\"#f0f921\"]]},\"colorway\":[\"#636efa\",\"#EF553B\",\"#00cc96\",\"#ab63fa\",\"#FFA15A\",\"#19d3f3\",\"#FF6692\",\"#B6E880\",\"#FF97FF\",\"#FECB52\"],\"font\":{\"color\":\"#2a3f5f\"},\"geo\":{\"bgcolor\":\"white\",\"lakecolor\":\"white\",\"landcolor\":\"white\",\"showlakes\":true,\"showland\":true,\"subunitcolor\":\"#C8D4E3\"},\"hoverlabel\":{\"align\":\"left\"},\"hovermode\":\"closest\",\"mapbox\":{\"style\":\"light\"},\"paper_bgcolor\":\"white\",\"plot_bgcolor\":\"white\",\"polar\":{\"angularaxis\":{\"gridcolor\":\"#EBF0F8\",\"linecolor\":\"#EBF0F8\",\"ticks\":\"\"},\"bgcolor\":\"white\",\"radialaxis\":{\"gridcolor\":\"#EBF0F8\",\"linecolor\":\"#EBF0F8\",\"ticks\":\"\"}},\"scene\":{\"xaxis\":{\"backgroundcolor\":\"white\",\"gridcolor\":\"#DFE8F3\",\"gridwidth\":2,\"linecolor\":\"#EBF0F8\",\"showbackground\":true,\"ticks\":\"\",\"zerolinecolor\":\"#EBF0F8\"},\"yaxis\":{\"backgroundcolor\":\"white\",\"gridcolor\":\"#DFE8F3\",\"gridwidth\":2,\"linecolor\":\"#EBF0F8\",\"showbackground\":true,\"ticks\":\"\",\"zerolinecolor\":\"#EBF0F8\"},\"zaxis\":{\"backgroundcolor\":\"white\",\"gridcolor\":\"#DFE8F3\",\"gridwidth\":2,\"linecolor\":\"#EBF0F8\",\"showbackground\":true,\"ticks\":\"\",\"zerolinecolor\":\"#EBF0F8\"}},\"shapedefaults\":{\"line\":{\"color\":\"#2a3f5f\"}},\"ternary\":{\"aaxis\":{\"gridcolor\":\"#DFE8F3\",\"linecolor\":\"#A2B1C6\",\"ticks\":\"\"},\"baxis\":{\"gridcolor\":\"#DFE8F3\",\"linecolor\":\"#A2B1C6\",\"ticks\":\"\"},\"bgcolor\":\"white\",\"caxis\":{\"gridcolor\":\"#DFE8F3\",\"linecolor\":\"#A2B1C6\",\"ticks\":\"\"}},\"title\":{\"x\":0.05},\"xaxis\":{\"automargin\":true,\"gridcolor\":\"#EBF0F8\",\"linecolor\":\"#EBF0F8\",\"ticks\":\"\",\"title\":{\"standoff\":15},\"zerolinecolor\":\"#EBF0F8\",\"zerolinewidth\":2},\"yaxis\":{\"automargin\":true,\"gridcolor\":\"#EBF0F8\",\"linecolor\":\"#EBF0F8\",\"ticks\":\"\",\"title\":{\"standoff\":15},\"zerolinecolor\":\"#EBF0F8\",\"zerolinewidth\":2}}},\"xaxis\":{\"title\":{\"text\":\"Mes\"},\"tickmode\":\"array\",\"tickvals\":[1,2,3,4,5,6,7,8,9,10,11,12],\"ticktext\":[\"Ene\",\"Feb\",\"Mar\",\"Abr\",\"May\",\"Jun\",\"Jul\",\"Ago\",\"Sep\",\"Oct\",\"Nov\",\"Dic\"]},\"title\":{\"text\":\"Promedio por mes\"},\"yaxis\":{\"title\":{\"text\":\"Promedio\"}},\"legend\":{\"title\":{\"text\":\"Año\"}}},                        {\"responsive\": true}                    ).then(function(){\n",
              "                            \n",
              "var gd = document.getElementById('4d8395a9-bd50-485d-a562-58921a6d10c6');\n",
              "var x = new MutationObserver(function (mutations, observer) {{\n",
              "        var display = window.getComputedStyle(gd).display;\n",
              "        if (!display || display === 'none') {{\n",
              "            console.log([gd, 'removed!']);\n",
              "            Plotly.purge(gd);\n",
              "            observer.disconnect();\n",
              "        }}\n",
              "}});\n",
              "\n",
              "// Listen for the removal of the full notebook cells\n",
              "var notebookContainer = gd.closest('#notebook-container');\n",
              "if (notebookContainer) {{\n",
              "    x.observe(notebookContainer, {childList: true});\n",
              "}}\n",
              "\n",
              "// Listen for the clearing of the current output cell\n",
              "var outputEl = gd.closest('.output');\n",
              "if (outputEl) {{\n",
              "    x.observe(outputEl, {childList: true});\n",
              "}}\n",
              "\n",
              "                        })                };                            </script>        </div>\n",
              "</body>\n",
              "</html>"
            ]
          },
          "metadata": {}
        }
      ]
    },
    {
      "cell_type": "code",
      "source": [
        "week_df = df_m.groupby(\"dayofweek\").count().iloc[:, 1].copy()\n",
        "week_df.index = week_df.index.map({\n",
        "    0: \"Lunes\",\n",
        "    1: \"Martes\",\n",
        "    2: \"Miércoles\",\n",
        "    3: \"Jueves\",\n",
        "    4: \"Viernes\",\n",
        "    5: \"Sábado\",\n",
        "    6: \"Domingo\"\n",
        "})"
      ],
      "metadata": {
        "id": "6pRxgKhFBWaE"
      },
      "execution_count": 15,
      "outputs": []
    },
    {
      "cell_type": "code",
      "source": [
        "week_df"
      ],
      "metadata": {
        "colab": {
          "base_uri": "https://localhost:8080/",
          "height": 335
        },
        "id": "h49GfV9RCVkn",
        "outputId": "da34bc75-3f5e-4541-e165-e11aabbf4b43"
      },
      "execution_count": 16,
      "outputs": [
        {
          "output_type": "execute_result",
          "data": {
            "text/plain": [
              "dayofweek\n",
              "Lunes        1764\n",
              "Martes       1464\n",
              "Miércoles    1402\n",
              "Jueves       1412\n",
              "Viernes      1594\n",
              "Sábado       1048\n",
              "Domingo       776\n",
              "Name: ID_CI, dtype: int64"
            ],
            "text/html": [
              "<div>\n",
              "<style scoped>\n",
              "    .dataframe tbody tr th:only-of-type {\n",
              "        vertical-align: middle;\n",
              "    }\n",
              "\n",
              "    .dataframe tbody tr th {\n",
              "        vertical-align: top;\n",
              "    }\n",
              "\n",
              "    .dataframe thead th {\n",
              "        text-align: right;\n",
              "    }\n",
              "</style>\n",
              "<table border=\"1\" class=\"dataframe\">\n",
              "  <thead>\n",
              "    <tr style=\"text-align: right;\">\n",
              "      <th></th>\n",
              "      <th>ID_CI</th>\n",
              "    </tr>\n",
              "    <tr>\n",
              "      <th>dayofweek</th>\n",
              "      <th></th>\n",
              "    </tr>\n",
              "  </thead>\n",
              "  <tbody>\n",
              "    <tr>\n",
              "      <th>Lunes</th>\n",
              "      <td>1764</td>\n",
              "    </tr>\n",
              "    <tr>\n",
              "      <th>Martes</th>\n",
              "      <td>1464</td>\n",
              "    </tr>\n",
              "    <tr>\n",
              "      <th>Miércoles</th>\n",
              "      <td>1402</td>\n",
              "    </tr>\n",
              "    <tr>\n",
              "      <th>Jueves</th>\n",
              "      <td>1412</td>\n",
              "    </tr>\n",
              "    <tr>\n",
              "      <th>Viernes</th>\n",
              "      <td>1594</td>\n",
              "    </tr>\n",
              "    <tr>\n",
              "      <th>Sábado</th>\n",
              "      <td>1048</td>\n",
              "    </tr>\n",
              "    <tr>\n",
              "      <th>Domingo</th>\n",
              "      <td>776</td>\n",
              "    </tr>\n",
              "  </tbody>\n",
              "</table>\n",
              "</div><br><label><b>dtype:</b> int64</label>"
            ]
          },
          "metadata": {},
          "execution_count": 16
        }
      ]
    },
    {
      "cell_type": "code",
      "source": [
        "week_df = week_df.reset_index()\n",
        "week_df.columns = ['Día', 'Cantidad']\n",
        "fig = px.bar(week_df, x='Día', y='Cantidad',\n",
        "             title='Incidentes por Día de la Semana',\n",
        "             labels={'Día': 'Día de la Semana', 'Cantidad': 'Cantidad de Incidentes'},\n",
        "             text='Cantidad')\n",
        "\n",
        "fig.update_traces(textposition='outside')\n",
        "fig.update_layout(xaxis_tickangle=-45)\n",
        "fig.show()"
      ],
      "metadata": {
        "colab": {
          "base_uri": "https://localhost:8080/",
          "height": 542
        },
        "id": "BM5LycfuB6I1",
        "outputId": "96823f1b-f233-4dd2-afde-2e6f09846a3d"
      },
      "execution_count": 17,
      "outputs": [
        {
          "output_type": "display_data",
          "data": {
            "text/html": [
              "<html>\n",
              "<head><meta charset=\"utf-8\" /></head>\n",
              "<body>\n",
              "    <div>            <script src=\"https://cdnjs.cloudflare.com/ajax/libs/mathjax/2.7.5/MathJax.js?config=TeX-AMS-MML_SVG\"></script><script type=\"text/javascript\">if (window.MathJax && window.MathJax.Hub && window.MathJax.Hub.Config) {window.MathJax.Hub.Config({SVG: {font: \"STIX-Web\"}});}</script>                <script type=\"text/javascript\">window.PlotlyConfig = {MathJaxConfig: 'local'};</script>\n",
              "        <script charset=\"utf-8\" src=\"https://cdn.plot.ly/plotly-2.35.2.min.js\"></script>                <div id=\"ceadb002-034e-4537-bef9-91f7ca14703e\" class=\"plotly-graph-div\" style=\"height:525px; width:100%;\"></div>            <script type=\"text/javascript\">                                    window.PLOTLYENV=window.PLOTLYENV || {};                                    if (document.getElementById(\"ceadb002-034e-4537-bef9-91f7ca14703e\")) {                    Plotly.newPlot(                        \"ceadb002-034e-4537-bef9-91f7ca14703e\",                        [{\"alignmentgroup\":\"True\",\"hovertemplate\":\"Día de la Semana=%{x}\\u003cbr\\u003eCantidad de Incidentes=%{text}\\u003cextra\\u003e\\u003c\\u002fextra\\u003e\",\"legendgroup\":\"\",\"marker\":{\"color\":\"#636efa\",\"pattern\":{\"shape\":\"\"}},\"name\":\"\",\"offsetgroup\":\"\",\"orientation\":\"v\",\"showlegend\":false,\"text\":[1764.0,1464.0,1402.0,1412.0,1594.0,1048.0,776.0],\"textposition\":\"outside\",\"x\":[\"Lunes\",\"Martes\",\"Miércoles\",\"Jueves\",\"Viernes\",\"Sábado\",\"Domingo\"],\"xaxis\":\"x\",\"y\":[1764,1464,1402,1412,1594,1048,776],\"yaxis\":\"y\",\"type\":\"bar\"}],                        {\"template\":{\"data\":{\"histogram2dcontour\":[{\"type\":\"histogram2dcontour\",\"colorbar\":{\"outlinewidth\":0,\"ticks\":\"\"},\"colorscale\":[[0.0,\"#0d0887\"],[0.1111111111111111,\"#46039f\"],[0.2222222222222222,\"#7201a8\"],[0.3333333333333333,\"#9c179e\"],[0.4444444444444444,\"#bd3786\"],[0.5555555555555556,\"#d8576b\"],[0.6666666666666666,\"#ed7953\"],[0.7777777777777778,\"#fb9f3a\"],[0.8888888888888888,\"#fdca26\"],[1.0,\"#f0f921\"]]}],\"choropleth\":[{\"type\":\"choropleth\",\"colorbar\":{\"outlinewidth\":0,\"ticks\":\"\"}}],\"histogram2d\":[{\"type\":\"histogram2d\",\"colorbar\":{\"outlinewidth\":0,\"ticks\":\"\"},\"colorscale\":[[0.0,\"#0d0887\"],[0.1111111111111111,\"#46039f\"],[0.2222222222222222,\"#7201a8\"],[0.3333333333333333,\"#9c179e\"],[0.4444444444444444,\"#bd3786\"],[0.5555555555555556,\"#d8576b\"],[0.6666666666666666,\"#ed7953\"],[0.7777777777777778,\"#fb9f3a\"],[0.8888888888888888,\"#fdca26\"],[1.0,\"#f0f921\"]]}],\"heatmap\":[{\"type\":\"heatmap\",\"colorbar\":{\"outlinewidth\":0,\"ticks\":\"\"},\"colorscale\":[[0.0,\"#0d0887\"],[0.1111111111111111,\"#46039f\"],[0.2222222222222222,\"#7201a8\"],[0.3333333333333333,\"#9c179e\"],[0.4444444444444444,\"#bd3786\"],[0.5555555555555556,\"#d8576b\"],[0.6666666666666666,\"#ed7953\"],[0.7777777777777778,\"#fb9f3a\"],[0.8888888888888888,\"#fdca26\"],[1.0,\"#f0f921\"]]}],\"heatmapgl\":[{\"type\":\"heatmapgl\",\"colorbar\":{\"outlinewidth\":0,\"ticks\":\"\"},\"colorscale\":[[0.0,\"#0d0887\"],[0.1111111111111111,\"#46039f\"],[0.2222222222222222,\"#7201a8\"],[0.3333333333333333,\"#9c179e\"],[0.4444444444444444,\"#bd3786\"],[0.5555555555555556,\"#d8576b\"],[0.6666666666666666,\"#ed7953\"],[0.7777777777777778,\"#fb9f3a\"],[0.8888888888888888,\"#fdca26\"],[1.0,\"#f0f921\"]]}],\"contourcarpet\":[{\"type\":\"contourcarpet\",\"colorbar\":{\"outlinewidth\":0,\"ticks\":\"\"}}],\"contour\":[{\"type\":\"contour\",\"colorbar\":{\"outlinewidth\":0,\"ticks\":\"\"},\"colorscale\":[[0.0,\"#0d0887\"],[0.1111111111111111,\"#46039f\"],[0.2222222222222222,\"#7201a8\"],[0.3333333333333333,\"#9c179e\"],[0.4444444444444444,\"#bd3786\"],[0.5555555555555556,\"#d8576b\"],[0.6666666666666666,\"#ed7953\"],[0.7777777777777778,\"#fb9f3a\"],[0.8888888888888888,\"#fdca26\"],[1.0,\"#f0f921\"]]}],\"surface\":[{\"type\":\"surface\",\"colorbar\":{\"outlinewidth\":0,\"ticks\":\"\"},\"colorscale\":[[0.0,\"#0d0887\"],[0.1111111111111111,\"#46039f\"],[0.2222222222222222,\"#7201a8\"],[0.3333333333333333,\"#9c179e\"],[0.4444444444444444,\"#bd3786\"],[0.5555555555555556,\"#d8576b\"],[0.6666666666666666,\"#ed7953\"],[0.7777777777777778,\"#fb9f3a\"],[0.8888888888888888,\"#fdca26\"],[1.0,\"#f0f921\"]]}],\"mesh3d\":[{\"type\":\"mesh3d\",\"colorbar\":{\"outlinewidth\":0,\"ticks\":\"\"}}],\"scatter\":[{\"fillpattern\":{\"fillmode\":\"overlay\",\"size\":10,\"solidity\":0.2},\"type\":\"scatter\"}],\"parcoords\":[{\"type\":\"parcoords\",\"line\":{\"colorbar\":{\"outlinewidth\":0,\"ticks\":\"\"}}}],\"scatterpolargl\":[{\"type\":\"scatterpolargl\",\"marker\":{\"colorbar\":{\"outlinewidth\":0,\"ticks\":\"\"}}}],\"bar\":[{\"error_x\":{\"color\":\"#2a3f5f\"},\"error_y\":{\"color\":\"#2a3f5f\"},\"marker\":{\"line\":{\"color\":\"#E5ECF6\",\"width\":0.5},\"pattern\":{\"fillmode\":\"overlay\",\"size\":10,\"solidity\":0.2}},\"type\":\"bar\"}],\"scattergeo\":[{\"type\":\"scattergeo\",\"marker\":{\"colorbar\":{\"outlinewidth\":0,\"ticks\":\"\"}}}],\"scatterpolar\":[{\"type\":\"scatterpolar\",\"marker\":{\"colorbar\":{\"outlinewidth\":0,\"ticks\":\"\"}}}],\"histogram\":[{\"marker\":{\"pattern\":{\"fillmode\":\"overlay\",\"size\":10,\"solidity\":0.2}},\"type\":\"histogram\"}],\"scattergl\":[{\"type\":\"scattergl\",\"marker\":{\"colorbar\":{\"outlinewidth\":0,\"ticks\":\"\"}}}],\"scatter3d\":[{\"type\":\"scatter3d\",\"line\":{\"colorbar\":{\"outlinewidth\":0,\"ticks\":\"\"}},\"marker\":{\"colorbar\":{\"outlinewidth\":0,\"ticks\":\"\"}}}],\"scattermapbox\":[{\"type\":\"scattermapbox\",\"marker\":{\"colorbar\":{\"outlinewidth\":0,\"ticks\":\"\"}}}],\"scatterternary\":[{\"type\":\"scatterternary\",\"marker\":{\"colorbar\":{\"outlinewidth\":0,\"ticks\":\"\"}}}],\"scattercarpet\":[{\"type\":\"scattercarpet\",\"marker\":{\"colorbar\":{\"outlinewidth\":0,\"ticks\":\"\"}}}],\"carpet\":[{\"aaxis\":{\"endlinecolor\":\"#2a3f5f\",\"gridcolor\":\"white\",\"linecolor\":\"white\",\"minorgridcolor\":\"white\",\"startlinecolor\":\"#2a3f5f\"},\"baxis\":{\"endlinecolor\":\"#2a3f5f\",\"gridcolor\":\"white\",\"linecolor\":\"white\",\"minorgridcolor\":\"white\",\"startlinecolor\":\"#2a3f5f\"},\"type\":\"carpet\"}],\"table\":[{\"cells\":{\"fill\":{\"color\":\"#EBF0F8\"},\"line\":{\"color\":\"white\"}},\"header\":{\"fill\":{\"color\":\"#C8D4E3\"},\"line\":{\"color\":\"white\"}},\"type\":\"table\"}],\"barpolar\":[{\"marker\":{\"line\":{\"color\":\"#E5ECF6\",\"width\":0.5},\"pattern\":{\"fillmode\":\"overlay\",\"size\":10,\"solidity\":0.2}},\"type\":\"barpolar\"}],\"pie\":[{\"automargin\":true,\"type\":\"pie\"}]},\"layout\":{\"autotypenumbers\":\"strict\",\"colorway\":[\"#636efa\",\"#EF553B\",\"#00cc96\",\"#ab63fa\",\"#FFA15A\",\"#19d3f3\",\"#FF6692\",\"#B6E880\",\"#FF97FF\",\"#FECB52\"],\"font\":{\"color\":\"#2a3f5f\"},\"hovermode\":\"closest\",\"hoverlabel\":{\"align\":\"left\"},\"paper_bgcolor\":\"white\",\"plot_bgcolor\":\"#E5ECF6\",\"polar\":{\"bgcolor\":\"#E5ECF6\",\"angularaxis\":{\"gridcolor\":\"white\",\"linecolor\":\"white\",\"ticks\":\"\"},\"radialaxis\":{\"gridcolor\":\"white\",\"linecolor\":\"white\",\"ticks\":\"\"}},\"ternary\":{\"bgcolor\":\"#E5ECF6\",\"aaxis\":{\"gridcolor\":\"white\",\"linecolor\":\"white\",\"ticks\":\"\"},\"baxis\":{\"gridcolor\":\"white\",\"linecolor\":\"white\",\"ticks\":\"\"},\"caxis\":{\"gridcolor\":\"white\",\"linecolor\":\"white\",\"ticks\":\"\"}},\"coloraxis\":{\"colorbar\":{\"outlinewidth\":0,\"ticks\":\"\"}},\"colorscale\":{\"sequential\":[[0.0,\"#0d0887\"],[0.1111111111111111,\"#46039f\"],[0.2222222222222222,\"#7201a8\"],[0.3333333333333333,\"#9c179e\"],[0.4444444444444444,\"#bd3786\"],[0.5555555555555556,\"#d8576b\"],[0.6666666666666666,\"#ed7953\"],[0.7777777777777778,\"#fb9f3a\"],[0.8888888888888888,\"#fdca26\"],[1.0,\"#f0f921\"]],\"sequentialminus\":[[0.0,\"#0d0887\"],[0.1111111111111111,\"#46039f\"],[0.2222222222222222,\"#7201a8\"],[0.3333333333333333,\"#9c179e\"],[0.4444444444444444,\"#bd3786\"],[0.5555555555555556,\"#d8576b\"],[0.6666666666666666,\"#ed7953\"],[0.7777777777777778,\"#fb9f3a\"],[0.8888888888888888,\"#fdca26\"],[1.0,\"#f0f921\"]],\"diverging\":[[0,\"#8e0152\"],[0.1,\"#c51b7d\"],[0.2,\"#de77ae\"],[0.3,\"#f1b6da\"],[0.4,\"#fde0ef\"],[0.5,\"#f7f7f7\"],[0.6,\"#e6f5d0\"],[0.7,\"#b8e186\"],[0.8,\"#7fbc41\"],[0.9,\"#4d9221\"],[1,\"#276419\"]]},\"xaxis\":{\"gridcolor\":\"white\",\"linecolor\":\"white\",\"ticks\":\"\",\"title\":{\"standoff\":15},\"zerolinecolor\":\"white\",\"automargin\":true,\"zerolinewidth\":2},\"yaxis\":{\"gridcolor\":\"white\",\"linecolor\":\"white\",\"ticks\":\"\",\"title\":{\"standoff\":15},\"zerolinecolor\":\"white\",\"automargin\":true,\"zerolinewidth\":2},\"scene\":{\"xaxis\":{\"backgroundcolor\":\"#E5ECF6\",\"gridcolor\":\"white\",\"linecolor\":\"white\",\"showbackground\":true,\"ticks\":\"\",\"zerolinecolor\":\"white\",\"gridwidth\":2},\"yaxis\":{\"backgroundcolor\":\"#E5ECF6\",\"gridcolor\":\"white\",\"linecolor\":\"white\",\"showbackground\":true,\"ticks\":\"\",\"zerolinecolor\":\"white\",\"gridwidth\":2},\"zaxis\":{\"backgroundcolor\":\"#E5ECF6\",\"gridcolor\":\"white\",\"linecolor\":\"white\",\"showbackground\":true,\"ticks\":\"\",\"zerolinecolor\":\"white\",\"gridwidth\":2}},\"shapedefaults\":{\"line\":{\"color\":\"#2a3f5f\"}},\"annotationdefaults\":{\"arrowcolor\":\"#2a3f5f\",\"arrowhead\":0,\"arrowwidth\":1},\"geo\":{\"bgcolor\":\"white\",\"landcolor\":\"#E5ECF6\",\"subunitcolor\":\"white\",\"showland\":true,\"showlakes\":true,\"lakecolor\":\"white\"},\"title\":{\"x\":0.05},\"mapbox\":{\"style\":\"light\"}}},\"xaxis\":{\"anchor\":\"y\",\"domain\":[0.0,1.0],\"title\":{\"text\":\"Día de la Semana\"},\"tickangle\":-45},\"yaxis\":{\"anchor\":\"x\",\"domain\":[0.0,1.0],\"title\":{\"text\":\"Cantidad de Incidentes\"}},\"legend\":{\"tracegroupgap\":0},\"title\":{\"text\":\"Incidentes por Día de la Semana\"},\"barmode\":\"relative\"},                        {\"responsive\": true}                    ).then(function(){\n",
              "                            \n",
              "var gd = document.getElementById('ceadb002-034e-4537-bef9-91f7ca14703e');\n",
              "var x = new MutationObserver(function (mutations, observer) {{\n",
              "        var display = window.getComputedStyle(gd).display;\n",
              "        if (!display || display === 'none') {{\n",
              "            console.log([gd, 'removed!']);\n",
              "            Plotly.purge(gd);\n",
              "            observer.disconnect();\n",
              "        }}\n",
              "}});\n",
              "\n",
              "// Listen for the removal of the full notebook cells\n",
              "var notebookContainer = gd.closest('#notebook-container');\n",
              "if (notebookContainer) {{\n",
              "    x.observe(notebookContainer, {childList: true});\n",
              "}}\n",
              "\n",
              "// Listen for the clearing of the current output cell\n",
              "var outputEl = gd.closest('.output');\n",
              "if (outputEl) {{\n",
              "    x.observe(outputEl, {childList: true});\n",
              "}}\n",
              "\n",
              "                        })                };                            </script>        </div>\n",
              "</body>\n",
              "</html>"
            ]
          },
          "metadata": {}
        }
      ]
    },
    {
      "cell_type": "code",
      "source": [
        "years = df_m['FECHA DE LOS HECHOS'].dt.year.unique().tolist()\n",
        "mx_holidays = holidays.Mexico(years=years)\n",
        "\n",
        "# Add a boolean column if the date is a holiday\n",
        "\n",
        "\n",
        "df_m['is_holiday'] = df_m['FECHA DE LOS HECHOS'].dt.date.isin(mx_holidays)"
      ],
      "metadata": {
        "id": "ikjjpM6flOog"
      },
      "execution_count": 18,
      "outputs": []
    },
    {
      "cell_type": "code",
      "source": [
        "def classify_day(row):\n",
        "    if row['is_holiday']:\n",
        "        return 'Dia festivo'\n",
        "    elif row['dayofweek'] in [5, 6]:  # Saturday=5, Sunday=6\n",
        "        return 'Fin de semana'\n",
        "    else:\n",
        "        return 'Entre semana'\n",
        "\n",
        "df_m['day_type'] = df_m.apply(classify_day, axis=1)\n",
        "\n",
        "daily_counts = df_m.groupby(['FECHA DE LOS HECHOS', 'day_type']).size().reset_index(name='count')\n",
        "\n",
        "# Calculate average incidents per day_type\n",
        "avg_incidents = daily_counts.groupby('day_type')['count'].mean().reset_index()"
      ],
      "metadata": {
        "id": "C5Smls_imO3h"
      },
      "execution_count": 19,
      "outputs": []
    },
    {
      "cell_type": "code",
      "source": [
        "fig = px.bar(\n",
        "    avg_incidents,\n",
        "    x='day_type',\n",
        "    y='count',\n",
        "    text='count',\n",
        "    title=\"Promedio diario de incidentes por tipo de día\"\n",
        ")\n",
        "\n",
        "fig.update_traces(texttemplate='%{text:.2f}', textposition='outside')\n",
        "fig.update_layout(yaxis_title=\"Promedio diario de incidentes\", xaxis_title=\"Tipo de día\")\n",
        "fig.show()\n"
      ],
      "metadata": {
        "colab": {
          "base_uri": "https://localhost:8080/",
          "height": 542
        },
        "id": "JFq9yPUzmUyH",
        "outputId": "1a75aa80-c8ff-42d5-f5af-1fb5cd333093"
      },
      "execution_count": 20,
      "outputs": [
        {
          "output_type": "display_data",
          "data": {
            "text/html": [
              "<html>\n",
              "<head><meta charset=\"utf-8\" /></head>\n",
              "<body>\n",
              "    <div>            <script src=\"https://cdnjs.cloudflare.com/ajax/libs/mathjax/2.7.5/MathJax.js?config=TeX-AMS-MML_SVG\"></script><script type=\"text/javascript\">if (window.MathJax && window.MathJax.Hub && window.MathJax.Hub.Config) {window.MathJax.Hub.Config({SVG: {font: \"STIX-Web\"}});}</script>                <script type=\"text/javascript\">window.PlotlyConfig = {MathJaxConfig: 'local'};</script>\n",
              "        <script charset=\"utf-8\" src=\"https://cdn.plot.ly/plotly-2.35.2.min.js\"></script>                <div id=\"f083ee14-f456-4945-8763-ce55ae87d4c1\" class=\"plotly-graph-div\" style=\"height:525px; width:100%;\"></div>            <script type=\"text/javascript\">                                    window.PLOTLYENV=window.PLOTLYENV || {};                                    if (document.getElementById(\"f083ee14-f456-4945-8763-ce55ae87d4c1\")) {                    Plotly.newPlot(                        \"f083ee14-f456-4945-8763-ce55ae87d4c1\",                        [{\"alignmentgroup\":\"True\",\"hovertemplate\":\"day_type=%{x}\\u003cbr\\u003ecount=%{text}\\u003cextra\\u003e\\u003c\\u002fextra\\u003e\",\"legendgroup\":\"\",\"marker\":{\"color\":\"#636efa\",\"pattern\":{\"shape\":\"\"}},\"name\":\"\",\"offsetgroup\":\"\",\"orientation\":\"v\",\"showlegend\":false,\"text\":[4.9655172413793105,6.249584026622296,4.368038740920097],\"textposition\":\"outside\",\"x\":[\"Dia festivo\",\"Entre semana\",\"Fin de semana\"],\"xaxis\":\"x\",\"y\":[4.9655172413793105,6.249584026622296,4.368038740920097],\"yaxis\":\"y\",\"type\":\"bar\",\"texttemplate\":\"%{text:.2f}\"}],                        {\"template\":{\"data\":{\"histogram2dcontour\":[{\"type\":\"histogram2dcontour\",\"colorbar\":{\"outlinewidth\":0,\"ticks\":\"\"},\"colorscale\":[[0.0,\"#0d0887\"],[0.1111111111111111,\"#46039f\"],[0.2222222222222222,\"#7201a8\"],[0.3333333333333333,\"#9c179e\"],[0.4444444444444444,\"#bd3786\"],[0.5555555555555556,\"#d8576b\"],[0.6666666666666666,\"#ed7953\"],[0.7777777777777778,\"#fb9f3a\"],[0.8888888888888888,\"#fdca26\"],[1.0,\"#f0f921\"]]}],\"choropleth\":[{\"type\":\"choropleth\",\"colorbar\":{\"outlinewidth\":0,\"ticks\":\"\"}}],\"histogram2d\":[{\"type\":\"histogram2d\",\"colorbar\":{\"outlinewidth\":0,\"ticks\":\"\"},\"colorscale\":[[0.0,\"#0d0887\"],[0.1111111111111111,\"#46039f\"],[0.2222222222222222,\"#7201a8\"],[0.3333333333333333,\"#9c179e\"],[0.4444444444444444,\"#bd3786\"],[0.5555555555555556,\"#d8576b\"],[0.6666666666666666,\"#ed7953\"],[0.7777777777777778,\"#fb9f3a\"],[0.8888888888888888,\"#fdca26\"],[1.0,\"#f0f921\"]]}],\"heatmap\":[{\"type\":\"heatmap\",\"colorbar\":{\"outlinewidth\":0,\"ticks\":\"\"},\"colorscale\":[[0.0,\"#0d0887\"],[0.1111111111111111,\"#46039f\"],[0.2222222222222222,\"#7201a8\"],[0.3333333333333333,\"#9c179e\"],[0.4444444444444444,\"#bd3786\"],[0.5555555555555556,\"#d8576b\"],[0.6666666666666666,\"#ed7953\"],[0.7777777777777778,\"#fb9f3a\"],[0.8888888888888888,\"#fdca26\"],[1.0,\"#f0f921\"]]}],\"heatmapgl\":[{\"type\":\"heatmapgl\",\"colorbar\":{\"outlinewidth\":0,\"ticks\":\"\"},\"colorscale\":[[0.0,\"#0d0887\"],[0.1111111111111111,\"#46039f\"],[0.2222222222222222,\"#7201a8\"],[0.3333333333333333,\"#9c179e\"],[0.4444444444444444,\"#bd3786\"],[0.5555555555555556,\"#d8576b\"],[0.6666666666666666,\"#ed7953\"],[0.7777777777777778,\"#fb9f3a\"],[0.8888888888888888,\"#fdca26\"],[1.0,\"#f0f921\"]]}],\"contourcarpet\":[{\"type\":\"contourcarpet\",\"colorbar\":{\"outlinewidth\":0,\"ticks\":\"\"}}],\"contour\":[{\"type\":\"contour\",\"colorbar\":{\"outlinewidth\":0,\"ticks\":\"\"},\"colorscale\":[[0.0,\"#0d0887\"],[0.1111111111111111,\"#46039f\"],[0.2222222222222222,\"#7201a8\"],[0.3333333333333333,\"#9c179e\"],[0.4444444444444444,\"#bd3786\"],[0.5555555555555556,\"#d8576b\"],[0.6666666666666666,\"#ed7953\"],[0.7777777777777778,\"#fb9f3a\"],[0.8888888888888888,\"#fdca26\"],[1.0,\"#f0f921\"]]}],\"surface\":[{\"type\":\"surface\",\"colorbar\":{\"outlinewidth\":0,\"ticks\":\"\"},\"colorscale\":[[0.0,\"#0d0887\"],[0.1111111111111111,\"#46039f\"],[0.2222222222222222,\"#7201a8\"],[0.3333333333333333,\"#9c179e\"],[0.4444444444444444,\"#bd3786\"],[0.5555555555555556,\"#d8576b\"],[0.6666666666666666,\"#ed7953\"],[0.7777777777777778,\"#fb9f3a\"],[0.8888888888888888,\"#fdca26\"],[1.0,\"#f0f921\"]]}],\"mesh3d\":[{\"type\":\"mesh3d\",\"colorbar\":{\"outlinewidth\":0,\"ticks\":\"\"}}],\"scatter\":[{\"fillpattern\":{\"fillmode\":\"overlay\",\"size\":10,\"solidity\":0.2},\"type\":\"scatter\"}],\"parcoords\":[{\"type\":\"parcoords\",\"line\":{\"colorbar\":{\"outlinewidth\":0,\"ticks\":\"\"}}}],\"scatterpolargl\":[{\"type\":\"scatterpolargl\",\"marker\":{\"colorbar\":{\"outlinewidth\":0,\"ticks\":\"\"}}}],\"bar\":[{\"error_x\":{\"color\":\"#2a3f5f\"},\"error_y\":{\"color\":\"#2a3f5f\"},\"marker\":{\"line\":{\"color\":\"#E5ECF6\",\"width\":0.5},\"pattern\":{\"fillmode\":\"overlay\",\"size\":10,\"solidity\":0.2}},\"type\":\"bar\"}],\"scattergeo\":[{\"type\":\"scattergeo\",\"marker\":{\"colorbar\":{\"outlinewidth\":0,\"ticks\":\"\"}}}],\"scatterpolar\":[{\"type\":\"scatterpolar\",\"marker\":{\"colorbar\":{\"outlinewidth\":0,\"ticks\":\"\"}}}],\"histogram\":[{\"marker\":{\"pattern\":{\"fillmode\":\"overlay\",\"size\":10,\"solidity\":0.2}},\"type\":\"histogram\"}],\"scattergl\":[{\"type\":\"scattergl\",\"marker\":{\"colorbar\":{\"outlinewidth\":0,\"ticks\":\"\"}}}],\"scatter3d\":[{\"type\":\"scatter3d\",\"line\":{\"colorbar\":{\"outlinewidth\":0,\"ticks\":\"\"}},\"marker\":{\"colorbar\":{\"outlinewidth\":0,\"ticks\":\"\"}}}],\"scattermapbox\":[{\"type\":\"scattermapbox\",\"marker\":{\"colorbar\":{\"outlinewidth\":0,\"ticks\":\"\"}}}],\"scatterternary\":[{\"type\":\"scatterternary\",\"marker\":{\"colorbar\":{\"outlinewidth\":0,\"ticks\":\"\"}}}],\"scattercarpet\":[{\"type\":\"scattercarpet\",\"marker\":{\"colorbar\":{\"outlinewidth\":0,\"ticks\":\"\"}}}],\"carpet\":[{\"aaxis\":{\"endlinecolor\":\"#2a3f5f\",\"gridcolor\":\"white\",\"linecolor\":\"white\",\"minorgridcolor\":\"white\",\"startlinecolor\":\"#2a3f5f\"},\"baxis\":{\"endlinecolor\":\"#2a3f5f\",\"gridcolor\":\"white\",\"linecolor\":\"white\",\"minorgridcolor\":\"white\",\"startlinecolor\":\"#2a3f5f\"},\"type\":\"carpet\"}],\"table\":[{\"cells\":{\"fill\":{\"color\":\"#EBF0F8\"},\"line\":{\"color\":\"white\"}},\"header\":{\"fill\":{\"color\":\"#C8D4E3\"},\"line\":{\"color\":\"white\"}},\"type\":\"table\"}],\"barpolar\":[{\"marker\":{\"line\":{\"color\":\"#E5ECF6\",\"width\":0.5},\"pattern\":{\"fillmode\":\"overlay\",\"size\":10,\"solidity\":0.2}},\"type\":\"barpolar\"}],\"pie\":[{\"automargin\":true,\"type\":\"pie\"}]},\"layout\":{\"autotypenumbers\":\"strict\",\"colorway\":[\"#636efa\",\"#EF553B\",\"#00cc96\",\"#ab63fa\",\"#FFA15A\",\"#19d3f3\",\"#FF6692\",\"#B6E880\",\"#FF97FF\",\"#FECB52\"],\"font\":{\"color\":\"#2a3f5f\"},\"hovermode\":\"closest\",\"hoverlabel\":{\"align\":\"left\"},\"paper_bgcolor\":\"white\",\"plot_bgcolor\":\"#E5ECF6\",\"polar\":{\"bgcolor\":\"#E5ECF6\",\"angularaxis\":{\"gridcolor\":\"white\",\"linecolor\":\"white\",\"ticks\":\"\"},\"radialaxis\":{\"gridcolor\":\"white\",\"linecolor\":\"white\",\"ticks\":\"\"}},\"ternary\":{\"bgcolor\":\"#E5ECF6\",\"aaxis\":{\"gridcolor\":\"white\",\"linecolor\":\"white\",\"ticks\":\"\"},\"baxis\":{\"gridcolor\":\"white\",\"linecolor\":\"white\",\"ticks\":\"\"},\"caxis\":{\"gridcolor\":\"white\",\"linecolor\":\"white\",\"ticks\":\"\"}},\"coloraxis\":{\"colorbar\":{\"outlinewidth\":0,\"ticks\":\"\"}},\"colorscale\":{\"sequential\":[[0.0,\"#0d0887\"],[0.1111111111111111,\"#46039f\"],[0.2222222222222222,\"#7201a8\"],[0.3333333333333333,\"#9c179e\"],[0.4444444444444444,\"#bd3786\"],[0.5555555555555556,\"#d8576b\"],[0.6666666666666666,\"#ed7953\"],[0.7777777777777778,\"#fb9f3a\"],[0.8888888888888888,\"#fdca26\"],[1.0,\"#f0f921\"]],\"sequentialminus\":[[0.0,\"#0d0887\"],[0.1111111111111111,\"#46039f\"],[0.2222222222222222,\"#7201a8\"],[0.3333333333333333,\"#9c179e\"],[0.4444444444444444,\"#bd3786\"],[0.5555555555555556,\"#d8576b\"],[0.6666666666666666,\"#ed7953\"],[0.7777777777777778,\"#fb9f3a\"],[0.8888888888888888,\"#fdca26\"],[1.0,\"#f0f921\"]],\"diverging\":[[0,\"#8e0152\"],[0.1,\"#c51b7d\"],[0.2,\"#de77ae\"],[0.3,\"#f1b6da\"],[0.4,\"#fde0ef\"],[0.5,\"#f7f7f7\"],[0.6,\"#e6f5d0\"],[0.7,\"#b8e186\"],[0.8,\"#7fbc41\"],[0.9,\"#4d9221\"],[1,\"#276419\"]]},\"xaxis\":{\"gridcolor\":\"white\",\"linecolor\":\"white\",\"ticks\":\"\",\"title\":{\"standoff\":15},\"zerolinecolor\":\"white\",\"automargin\":true,\"zerolinewidth\":2},\"yaxis\":{\"gridcolor\":\"white\",\"linecolor\":\"white\",\"ticks\":\"\",\"title\":{\"standoff\":15},\"zerolinecolor\":\"white\",\"automargin\":true,\"zerolinewidth\":2},\"scene\":{\"xaxis\":{\"backgroundcolor\":\"#E5ECF6\",\"gridcolor\":\"white\",\"linecolor\":\"white\",\"showbackground\":true,\"ticks\":\"\",\"zerolinecolor\":\"white\",\"gridwidth\":2},\"yaxis\":{\"backgroundcolor\":\"#E5ECF6\",\"gridcolor\":\"white\",\"linecolor\":\"white\",\"showbackground\":true,\"ticks\":\"\",\"zerolinecolor\":\"white\",\"gridwidth\":2},\"zaxis\":{\"backgroundcolor\":\"#E5ECF6\",\"gridcolor\":\"white\",\"linecolor\":\"white\",\"showbackground\":true,\"ticks\":\"\",\"zerolinecolor\":\"white\",\"gridwidth\":2}},\"shapedefaults\":{\"line\":{\"color\":\"#2a3f5f\"}},\"annotationdefaults\":{\"arrowcolor\":\"#2a3f5f\",\"arrowhead\":0,\"arrowwidth\":1},\"geo\":{\"bgcolor\":\"white\",\"landcolor\":\"#E5ECF6\",\"subunitcolor\":\"white\",\"showland\":true,\"showlakes\":true,\"lakecolor\":\"white\"},\"title\":{\"x\":0.05},\"mapbox\":{\"style\":\"light\"}}},\"xaxis\":{\"anchor\":\"y\",\"domain\":[0.0,1.0],\"title\":{\"text\":\"Tipo de día\"}},\"yaxis\":{\"anchor\":\"x\",\"domain\":[0.0,1.0],\"title\":{\"text\":\"Promedio diario de incidentes\"}},\"legend\":{\"tracegroupgap\":0},\"title\":{\"text\":\"Promedio diario de incidentes por tipo de día\"},\"barmode\":\"relative\"},                        {\"responsive\": true}                    ).then(function(){\n",
              "                            \n",
              "var gd = document.getElementById('f083ee14-f456-4945-8763-ce55ae87d4c1');\n",
              "var x = new MutationObserver(function (mutations, observer) {{\n",
              "        var display = window.getComputedStyle(gd).display;\n",
              "        if (!display || display === 'none') {{\n",
              "            console.log([gd, 'removed!']);\n",
              "            Plotly.purge(gd);\n",
              "            observer.disconnect();\n",
              "        }}\n",
              "}});\n",
              "\n",
              "// Listen for the removal of the full notebook cells\n",
              "var notebookContainer = gd.closest('#notebook-container');\n",
              "if (notebookContainer) {{\n",
              "    x.observe(notebookContainer, {childList: true});\n",
              "}}\n",
              "\n",
              "// Listen for the clearing of the current output cell\n",
              "var outputEl = gd.closest('.output');\n",
              "if (outputEl) {{\n",
              "    x.observe(outputEl, {childList: true});\n",
              "}}\n",
              "\n",
              "                        })                };                            </script>        </div>\n",
              "</body>\n",
              "</html>"
            ]
          },
          "metadata": {}
        }
      ]
    },
    {
      "cell_type": "code",
      "source": [
        "hourly_counts = df_m[\"Hour\"].value_counts().reindex(range(24), fill_value=0).sort_index()\n",
        "\n",
        "# 3. Define custom tick labels\n",
        "tick_labels = [f\"{h}–{(h+1)%24}\" for h in range(24)]\n",
        "\n",
        "# 4. Plot manually\n",
        "fig = go.Figure(\n",
        "    data=go.Bar(\n",
        "        x=list(range(24)),\n",
        "        y=hourly_counts.values,\n",
        "        marker_color=\"crimson\"\n",
        "    )\n",
        ")\n",
        "\n",
        "fig.update_layout(\n",
        "    title=\"Distribución de incidentes por hora del día\",\n",
        "    xaxis=dict(\n",
        "        tickmode=\"array\",\n",
        "        tickvals=list(range(24)),\n",
        "        ticktext=tick_labels,\n",
        "        title=\"Hora del día\"\n",
        "    ),\n",
        "    yaxis=dict(title=\"Número de incidentes\"),\n",
        "    bargap=0.1\n",
        ")\n",
        "\n",
        "fig.show()"
      ],
      "metadata": {
        "colab": {
          "base_uri": "https://localhost:8080/",
          "height": 542
        },
        "id": "kf_XrKZe5jMT",
        "outputId": "f8c212b2-a539-4701-fc32-d6b7638e35aa"
      },
      "execution_count": 65,
      "outputs": [
        {
          "output_type": "display_data",
          "data": {
            "text/html": [
              "<html>\n",
              "<head><meta charset=\"utf-8\" /></head>\n",
              "<body>\n",
              "    <div>            <script src=\"https://cdnjs.cloudflare.com/ajax/libs/mathjax/2.7.5/MathJax.js?config=TeX-AMS-MML_SVG\"></script><script type=\"text/javascript\">if (window.MathJax && window.MathJax.Hub && window.MathJax.Hub.Config) {window.MathJax.Hub.Config({SVG: {font: \"STIX-Web\"}});}</script>                <script type=\"text/javascript\">window.PlotlyConfig = {MathJaxConfig: 'local'};</script>\n",
              "        <script charset=\"utf-8\" src=\"https://cdn.plot.ly/plotly-2.35.2.min.js\"></script>                <div id=\"0eb38922-dab8-4120-8117-f17e2603f047\" class=\"plotly-graph-div\" style=\"height:525px; width:100%;\"></div>            <script type=\"text/javascript\">                                    window.PLOTLYENV=window.PLOTLYENV || {};                                    if (document.getElementById(\"0eb38922-dab8-4120-8117-f17e2603f047\")) {                    Plotly.newPlot(                        \"0eb38922-dab8-4120-8117-f17e2603f047\",                        [{\"marker\":{\"color\":\"crimson\"},\"x\":[0,1,2,3,4,5,6,7,8,9,10,11,12,13,14,15,16,17,18,19,20,21,22,23],\"y\":[18,210,224,228,260,458,876,1300,1448,748,492,336,396,190,278,238,262,216,312,406,258,156,78,72],\"type\":\"bar\"}],                        {\"template\":{\"data\":{\"histogram2dcontour\":[{\"type\":\"histogram2dcontour\",\"colorbar\":{\"outlinewidth\":0,\"ticks\":\"\"},\"colorscale\":[[0.0,\"#0d0887\"],[0.1111111111111111,\"#46039f\"],[0.2222222222222222,\"#7201a8\"],[0.3333333333333333,\"#9c179e\"],[0.4444444444444444,\"#bd3786\"],[0.5555555555555556,\"#d8576b\"],[0.6666666666666666,\"#ed7953\"],[0.7777777777777778,\"#fb9f3a\"],[0.8888888888888888,\"#fdca26\"],[1.0,\"#f0f921\"]]}],\"choropleth\":[{\"type\":\"choropleth\",\"colorbar\":{\"outlinewidth\":0,\"ticks\":\"\"}}],\"histogram2d\":[{\"type\":\"histogram2d\",\"colorbar\":{\"outlinewidth\":0,\"ticks\":\"\"},\"colorscale\":[[0.0,\"#0d0887\"],[0.1111111111111111,\"#46039f\"],[0.2222222222222222,\"#7201a8\"],[0.3333333333333333,\"#9c179e\"],[0.4444444444444444,\"#bd3786\"],[0.5555555555555556,\"#d8576b\"],[0.6666666666666666,\"#ed7953\"],[0.7777777777777778,\"#fb9f3a\"],[0.8888888888888888,\"#fdca26\"],[1.0,\"#f0f921\"]]}],\"heatmap\":[{\"type\":\"heatmap\",\"colorbar\":{\"outlinewidth\":0,\"ticks\":\"\"},\"colorscale\":[[0.0,\"#0d0887\"],[0.1111111111111111,\"#46039f\"],[0.2222222222222222,\"#7201a8\"],[0.3333333333333333,\"#9c179e\"],[0.4444444444444444,\"#bd3786\"],[0.5555555555555556,\"#d8576b\"],[0.6666666666666666,\"#ed7953\"],[0.7777777777777778,\"#fb9f3a\"],[0.8888888888888888,\"#fdca26\"],[1.0,\"#f0f921\"]]}],\"heatmapgl\":[{\"type\":\"heatmapgl\",\"colorbar\":{\"outlinewidth\":0,\"ticks\":\"\"},\"colorscale\":[[0.0,\"#0d0887\"],[0.1111111111111111,\"#46039f\"],[0.2222222222222222,\"#7201a8\"],[0.3333333333333333,\"#9c179e\"],[0.4444444444444444,\"#bd3786\"],[0.5555555555555556,\"#d8576b\"],[0.6666666666666666,\"#ed7953\"],[0.7777777777777778,\"#fb9f3a\"],[0.8888888888888888,\"#fdca26\"],[1.0,\"#f0f921\"]]}],\"contourcarpet\":[{\"type\":\"contourcarpet\",\"colorbar\":{\"outlinewidth\":0,\"ticks\":\"\"}}],\"contour\":[{\"type\":\"contour\",\"colorbar\":{\"outlinewidth\":0,\"ticks\":\"\"},\"colorscale\":[[0.0,\"#0d0887\"],[0.1111111111111111,\"#46039f\"],[0.2222222222222222,\"#7201a8\"],[0.3333333333333333,\"#9c179e\"],[0.4444444444444444,\"#bd3786\"],[0.5555555555555556,\"#d8576b\"],[0.6666666666666666,\"#ed7953\"],[0.7777777777777778,\"#fb9f3a\"],[0.8888888888888888,\"#fdca26\"],[1.0,\"#f0f921\"]]}],\"surface\":[{\"type\":\"surface\",\"colorbar\":{\"outlinewidth\":0,\"ticks\":\"\"},\"colorscale\":[[0.0,\"#0d0887\"],[0.1111111111111111,\"#46039f\"],[0.2222222222222222,\"#7201a8\"],[0.3333333333333333,\"#9c179e\"],[0.4444444444444444,\"#bd3786\"],[0.5555555555555556,\"#d8576b\"],[0.6666666666666666,\"#ed7953\"],[0.7777777777777778,\"#fb9f3a\"],[0.8888888888888888,\"#fdca26\"],[1.0,\"#f0f921\"]]}],\"mesh3d\":[{\"type\":\"mesh3d\",\"colorbar\":{\"outlinewidth\":0,\"ticks\":\"\"}}],\"scatter\":[{\"fillpattern\":{\"fillmode\":\"overlay\",\"size\":10,\"solidity\":0.2},\"type\":\"scatter\"}],\"parcoords\":[{\"type\":\"parcoords\",\"line\":{\"colorbar\":{\"outlinewidth\":0,\"ticks\":\"\"}}}],\"scatterpolargl\":[{\"type\":\"scatterpolargl\",\"marker\":{\"colorbar\":{\"outlinewidth\":0,\"ticks\":\"\"}}}],\"bar\":[{\"error_x\":{\"color\":\"#2a3f5f\"},\"error_y\":{\"color\":\"#2a3f5f\"},\"marker\":{\"line\":{\"color\":\"#E5ECF6\",\"width\":0.5},\"pattern\":{\"fillmode\":\"overlay\",\"size\":10,\"solidity\":0.2}},\"type\":\"bar\"}],\"scattergeo\":[{\"type\":\"scattergeo\",\"marker\":{\"colorbar\":{\"outlinewidth\":0,\"ticks\":\"\"}}}],\"scatterpolar\":[{\"type\":\"scatterpolar\",\"marker\":{\"colorbar\":{\"outlinewidth\":0,\"ticks\":\"\"}}}],\"histogram\":[{\"marker\":{\"pattern\":{\"fillmode\":\"overlay\",\"size\":10,\"solidity\":0.2}},\"type\":\"histogram\"}],\"scattergl\":[{\"type\":\"scattergl\",\"marker\":{\"colorbar\":{\"outlinewidth\":0,\"ticks\":\"\"}}}],\"scatter3d\":[{\"type\":\"scatter3d\",\"line\":{\"colorbar\":{\"outlinewidth\":0,\"ticks\":\"\"}},\"marker\":{\"colorbar\":{\"outlinewidth\":0,\"ticks\":\"\"}}}],\"scattermapbox\":[{\"type\":\"scattermapbox\",\"marker\":{\"colorbar\":{\"outlinewidth\":0,\"ticks\":\"\"}}}],\"scatterternary\":[{\"type\":\"scatterternary\",\"marker\":{\"colorbar\":{\"outlinewidth\":0,\"ticks\":\"\"}}}],\"scattercarpet\":[{\"type\":\"scattercarpet\",\"marker\":{\"colorbar\":{\"outlinewidth\":0,\"ticks\":\"\"}}}],\"carpet\":[{\"aaxis\":{\"endlinecolor\":\"#2a3f5f\",\"gridcolor\":\"white\",\"linecolor\":\"white\",\"minorgridcolor\":\"white\",\"startlinecolor\":\"#2a3f5f\"},\"baxis\":{\"endlinecolor\":\"#2a3f5f\",\"gridcolor\":\"white\",\"linecolor\":\"white\",\"minorgridcolor\":\"white\",\"startlinecolor\":\"#2a3f5f\"},\"type\":\"carpet\"}],\"table\":[{\"cells\":{\"fill\":{\"color\":\"#EBF0F8\"},\"line\":{\"color\":\"white\"}},\"header\":{\"fill\":{\"color\":\"#C8D4E3\"},\"line\":{\"color\":\"white\"}},\"type\":\"table\"}],\"barpolar\":[{\"marker\":{\"line\":{\"color\":\"#E5ECF6\",\"width\":0.5},\"pattern\":{\"fillmode\":\"overlay\",\"size\":10,\"solidity\":0.2}},\"type\":\"barpolar\"}],\"pie\":[{\"automargin\":true,\"type\":\"pie\"}]},\"layout\":{\"autotypenumbers\":\"strict\",\"colorway\":[\"#636efa\",\"#EF553B\",\"#00cc96\",\"#ab63fa\",\"#FFA15A\",\"#19d3f3\",\"#FF6692\",\"#B6E880\",\"#FF97FF\",\"#FECB52\"],\"font\":{\"color\":\"#2a3f5f\"},\"hovermode\":\"closest\",\"hoverlabel\":{\"align\":\"left\"},\"paper_bgcolor\":\"white\",\"plot_bgcolor\":\"#E5ECF6\",\"polar\":{\"bgcolor\":\"#E5ECF6\",\"angularaxis\":{\"gridcolor\":\"white\",\"linecolor\":\"white\",\"ticks\":\"\"},\"radialaxis\":{\"gridcolor\":\"white\",\"linecolor\":\"white\",\"ticks\":\"\"}},\"ternary\":{\"bgcolor\":\"#E5ECF6\",\"aaxis\":{\"gridcolor\":\"white\",\"linecolor\":\"white\",\"ticks\":\"\"},\"baxis\":{\"gridcolor\":\"white\",\"linecolor\":\"white\",\"ticks\":\"\"},\"caxis\":{\"gridcolor\":\"white\",\"linecolor\":\"white\",\"ticks\":\"\"}},\"coloraxis\":{\"colorbar\":{\"outlinewidth\":0,\"ticks\":\"\"}},\"colorscale\":{\"sequential\":[[0.0,\"#0d0887\"],[0.1111111111111111,\"#46039f\"],[0.2222222222222222,\"#7201a8\"],[0.3333333333333333,\"#9c179e\"],[0.4444444444444444,\"#bd3786\"],[0.5555555555555556,\"#d8576b\"],[0.6666666666666666,\"#ed7953\"],[0.7777777777777778,\"#fb9f3a\"],[0.8888888888888888,\"#fdca26\"],[1.0,\"#f0f921\"]],\"sequentialminus\":[[0.0,\"#0d0887\"],[0.1111111111111111,\"#46039f\"],[0.2222222222222222,\"#7201a8\"],[0.3333333333333333,\"#9c179e\"],[0.4444444444444444,\"#bd3786\"],[0.5555555555555556,\"#d8576b\"],[0.6666666666666666,\"#ed7953\"],[0.7777777777777778,\"#fb9f3a\"],[0.8888888888888888,\"#fdca26\"],[1.0,\"#f0f921\"]],\"diverging\":[[0,\"#8e0152\"],[0.1,\"#c51b7d\"],[0.2,\"#de77ae\"],[0.3,\"#f1b6da\"],[0.4,\"#fde0ef\"],[0.5,\"#f7f7f7\"],[0.6,\"#e6f5d0\"],[0.7,\"#b8e186\"],[0.8,\"#7fbc41\"],[0.9,\"#4d9221\"],[1,\"#276419\"]]},\"xaxis\":{\"gridcolor\":\"white\",\"linecolor\":\"white\",\"ticks\":\"\",\"title\":{\"standoff\":15},\"zerolinecolor\":\"white\",\"automargin\":true,\"zerolinewidth\":2},\"yaxis\":{\"gridcolor\":\"white\",\"linecolor\":\"white\",\"ticks\":\"\",\"title\":{\"standoff\":15},\"zerolinecolor\":\"white\",\"automargin\":true,\"zerolinewidth\":2},\"scene\":{\"xaxis\":{\"backgroundcolor\":\"#E5ECF6\",\"gridcolor\":\"white\",\"linecolor\":\"white\",\"showbackground\":true,\"ticks\":\"\",\"zerolinecolor\":\"white\",\"gridwidth\":2},\"yaxis\":{\"backgroundcolor\":\"#E5ECF6\",\"gridcolor\":\"white\",\"linecolor\":\"white\",\"showbackground\":true,\"ticks\":\"\",\"zerolinecolor\":\"white\",\"gridwidth\":2},\"zaxis\":{\"backgroundcolor\":\"#E5ECF6\",\"gridcolor\":\"white\",\"linecolor\":\"white\",\"showbackground\":true,\"ticks\":\"\",\"zerolinecolor\":\"white\",\"gridwidth\":2}},\"shapedefaults\":{\"line\":{\"color\":\"#2a3f5f\"}},\"annotationdefaults\":{\"arrowcolor\":\"#2a3f5f\",\"arrowhead\":0,\"arrowwidth\":1},\"geo\":{\"bgcolor\":\"white\",\"landcolor\":\"#E5ECF6\",\"subunitcolor\":\"white\",\"showland\":true,\"showlakes\":true,\"lakecolor\":\"white\"},\"title\":{\"x\":0.05},\"mapbox\":{\"style\":\"light\"}}},\"xaxis\":{\"tickmode\":\"array\",\"tickvals\":[0,1,2,3,4,5,6,7,8,9,10,11,12,13,14,15,16,17,18,19,20,21,22,23],\"ticktext\":[\"0–1\",\"1–2\",\"2–3\",\"3–4\",\"4–5\",\"5–6\",\"6–7\",\"7–8\",\"8–9\",\"9–10\",\"10–11\",\"11–12\",\"12–13\",\"13–14\",\"14–15\",\"15–16\",\"16–17\",\"17–18\",\"18–19\",\"19–20\",\"20–21\",\"21–22\",\"22–23\",\"23–0\"],\"title\":{\"text\":\"Hora del día\"}},\"title\":{\"text\":\"Distribución de incidentes por hora del día\"},\"yaxis\":{\"title\":{\"text\":\"Número de incidentes\"}},\"bargap\":0.1},                        {\"responsive\": true}                    ).then(function(){\n",
              "                            \n",
              "var gd = document.getElementById('0eb38922-dab8-4120-8117-f17e2603f047');\n",
              "var x = new MutationObserver(function (mutations, observer) {{\n",
              "        var display = window.getComputedStyle(gd).display;\n",
              "        if (!display || display === 'none') {{\n",
              "            console.log([gd, 'removed!']);\n",
              "            Plotly.purge(gd);\n",
              "            observer.disconnect();\n",
              "        }}\n",
              "}});\n",
              "\n",
              "// Listen for the removal of the full notebook cells\n",
              "var notebookContainer = gd.closest('#notebook-container');\n",
              "if (notebookContainer) {{\n",
              "    x.observe(notebookContainer, {childList: true});\n",
              "}}\n",
              "\n",
              "// Listen for the clearing of the current output cell\n",
              "var outputEl = gd.closest('.output');\n",
              "if (outputEl) {{\n",
              "    x.observe(outputEl, {childList: true});\n",
              "}}\n",
              "\n",
              "                        })                };                            </script>        </div>\n",
              "</body>\n",
              "</html>"
            ]
          },
          "metadata": {}
        }
      ]
    },
    {
      "cell_type": "code",
      "source": [
        "x = np.array(list(range(24)))                  # Hours\n",
        "y = hourly_counts.values                       # Incident counts\n",
        "\n",
        "# Sine function\n",
        "def triple_sine(x, a1, b1, c1, a2, b2, c2, a3, b3, c3, d):\n",
        "    return (\n",
        "        a1 * np.sin(b1 * x + c1) +\n",
        "        a2 * np.sin(b2 * x + c2) +\n",
        "        a3 * np.sin(b3 * x + c3) +\n",
        "        d\n",
        "    )\n",
        "\n",
        "# Initial guess: amplitudes, frequencies, phases, offset\n",
        "guess = [\n",
        "    10, 2*np.pi/24, 0,   # 1st term: daily\n",
        "    5, 4*np.pi/24, 0,    # 2nd term: 2 cycles per day\n",
        "    3, 6*np.pi/24, 0,    # 3rd term: 3 cycles per day\n",
        "    np.mean(y)           # offset\n",
        "]\n",
        "\n",
        "# Fit model\n",
        "popt, _ = curve_fit(triple_sine, x, y, p0=guess)\n",
        "\n",
        "# Predict\n",
        "y_pred = triple_sine(x, *popt)\n",
        "\n",
        "# Residuals\n",
        "residuals = y - y_pred\n",
        "\n",
        "x_fit = np.linspace(0, 23, 500)\n",
        "y_fit = triple_sine(x_fit, *popt)\n",
        "\n",
        "fig = go.Figure()\n",
        "\n",
        "fig.add_trace(go.Bar(\n",
        "    x=x,\n",
        "    y=y,\n",
        "    name=\"Datos reales\",\n",
        "    marker_color=\"crimson\",\n",
        "    opacity=0.6\n",
        "))\n",
        "\n",
        "fig.add_trace(go.Scatter(\n",
        "    x=x_fit,\n",
        "    y=y_fit,\n",
        "    name=\"Ajuste senoidal\",\n",
        "    mode=\"lines\",\n",
        "    line=dict(color=\"navy\", width=3)\n",
        "))\n",
        "\n",
        "fig.update_layout(\n",
        "    title=\"Ajuste senoidal de incidentes por hora\",\n",
        "    xaxis_title=\"Hora del día\",\n",
        "    yaxis_title=\"Número de incidentes\",\n",
        "    xaxis=dict(tickmode='array', ticktext=tick_labels, tickvals=list(range(24))),\n",
        "    bargap=0.1\n",
        ")\n",
        "\n",
        "fig.show()\n",
        "\n",
        "\n",
        "fig_res = go.Figure()\n",
        "\n",
        "fig_res.add_trace(go.Scatter(\n",
        "    x=x,\n",
        "    y=residuals,\n",
        "    mode=\"markers+lines\",\n",
        "    name=\"Residuos\",\n",
        "    marker=dict(color=\"orange\", size=8),\n",
        "    line=dict(dash=\"dot\", color=\"gray\")\n",
        "))\n",
        "\n",
        "fig_res.add_hline(y=0, line=dict(color=\"black\", dash=\"dash\"))\n",
        "\n",
        "fig_res.update_layout(\n",
        "    title=\"Residuos del modelo senoidal\",\n",
        "    xaxis_title=\"Hora del día\",\n",
        "    yaxis_title=\"Error (real - predicho)\",\n",
        "    xaxis=dict(\n",
        "        tickmode='array',\n",
        "        tickvals=list(range(24)),\n",
        "        ticktext=tick_labels\n",
        "    ),\n",
        "    showlegend=False\n",
        ")\n",
        "\n",
        "fig_res.show()\n",
        "\n",
        "\n",
        "ss_res = np.sum(residuals**2)\n",
        "ss_tot = np.sum((y - np.mean(y))**2)\n",
        "r_squared = 1 - (ss_res / ss_tot)\n",
        "rmse = np.sqrt(np.mean(residuals**2))\n",
        "\n",
        "print(f\"R²:   {r_squared:.4f}\")\n",
        "print(f\"RMSE: {rmse:.2f}\")"
      ],
      "metadata": {
        "colab": {
          "base_uri": "https://localhost:8080/",
          "height": 1000
        },
        "id": "__2iYWM_9x2C",
        "outputId": "020fb7e8-5dba-47b9-e39a-56ecccf6799b"
      },
      "execution_count": 66,
      "outputs": [
        {
          "output_type": "display_data",
          "data": {
            "text/html": [
              "<html>\n",
              "<head><meta charset=\"utf-8\" /></head>\n",
              "<body>\n",
              "    <div>            <script src=\"https://cdnjs.cloudflare.com/ajax/libs/mathjax/2.7.5/MathJax.js?config=TeX-AMS-MML_SVG\"></script><script type=\"text/javascript\">if (window.MathJax && window.MathJax.Hub && window.MathJax.Hub.Config) {window.MathJax.Hub.Config({SVG: {font: \"STIX-Web\"}});}</script>                <script type=\"text/javascript\">window.PlotlyConfig = {MathJaxConfig: 'local'};</script>\n",
              "        <script charset=\"utf-8\" src=\"https://cdn.plot.ly/plotly-2.35.2.min.js\"></script>                <div id=\"65e67823-07e6-48b6-86ec-e39783cfbb01\" class=\"plotly-graph-div\" style=\"height:525px; width:100%;\"></div>            <script type=\"text/javascript\">                                    window.PLOTLYENV=window.PLOTLYENV || {};                                    if (document.getElementById(\"65e67823-07e6-48b6-86ec-e39783cfbb01\")) {                    Plotly.newPlot(                        \"65e67823-07e6-48b6-86ec-e39783cfbb01\",                        [{\"marker\":{\"color\":\"crimson\"},\"name\":\"Datos reales\",\"opacity\":0.6,\"x\":[0,1,2,3,4,5,6,7,8,9,10,11,12,13,14,15,16,17,18,19,20,21,22,23],\"y\":[18,210,224,228,260,458,876,1300,1448,748,492,336,396,190,278,238,262,216,312,406,258,156,78,72],\"type\":\"bar\"},{\"line\":{\"color\":\"navy\",\"width\":3},\"mode\":\"lines\",\"name\":\"Ajuste senoidal\",\"x\":[0.0,0.04609218436873747,0.09218436873747494,0.13827655310621242,0.1843687374749499,0.23046092184368736,0.27655310621242485,0.3226452905811623,0.3687374749498998,0.41482965931863724,0.4609218436873747,0.5070140280561122,0.5531062124248497,0.5991983967935871,0.6452905811623246,0.691382765531062,0.7374749498997996,0.7835671342685371,0.8296593186372745,0.875751503006012,0.9218436873747494,0.9679358717434869,1.0140280561122244,1.0601202404809618,1.1062124248496994,1.1523046092184368,1.1983967935871742,1.2444889779559118,1.2905811623246493,1.3366733466933867,1.382765531062124,1.4288577154308617,1.4749498997995991,1.5210420841683365,1.5671342685370742,1.6132264529058116,1.659318637274549,1.7054108216432864,1.751503006012024,1.7975951903807614,1.8436873747494988,1.8897795591182365,1.9358717434869739,1.9819639278557113,2.0280561122244487,2.074148296593186,2.1202404809619235,2.1663326653306614,2.212424849699399,2.258517034068136,2.3046092184368736,2.350701402805611,2.3967935871743484,2.442885771543086,2.4889779559118237,2.535070140280561,2.5811623246492985,2.627254509018036,2.6733466933867733,2.7194388777555107,2.765531062124248,2.811623246492986,2.8577154308617234,2.903807615230461,2.9498997995991982,2.9959919839679356,3.042084168336673,3.0881763527054105,3.1342685370741483,3.1803607214428857,3.226452905811623,3.2725450901803605,3.318637274549098,3.3647294589178354,3.410821643286573,3.4569138276553106,3.503006012024048,3.5490981963927855,3.595190380761523,3.6412825651302603,3.6873747494989977,3.733466933867735,3.779559118236473,3.8256513026052104,3.8717434869739478,3.917835671342685,3.9639278557114226,4.01002004008016,4.056112224448897,4.102204408817635,4.148296593186372,4.19438877755511,4.240480961923847,4.286573146292585,4.332665330661323,4.37875751503006,4.424849699398798,4.4709418837675345,4.517034068136272,4.563126252505009,4.609218436873747,4.655310621242485,4.701402805611222,4.74749498997996,4.793587174348697,4.839679358717435,4.885771543086172,4.9318637274549095,4.977955911823647,5.024048096192384,5.070140280561122,5.116232464929859,5.162324649298597,5.208416833667334,5.254509018036072,5.30060120240481,5.346693386773547,5.3927855711422845,5.4388777555110215,5.484969939879759,5.531062124248496,5.577154308617234,5.623246492985972,5.669338677354709,5.715430861723447,5.761523046092184,5.807615230460922,5.853707414829659,5.8997995991983965,5.945891783567134,5.991983967935871,6.038076152304609,6.084168336673346,6.130260521042084,6.176352705410821,6.222444889779559,6.268537074148297,6.314629258517034,6.3607214428857715,6.406813627254508,6.452905811623246,6.498997995991983,6.545090180360721,6.591182364729459,6.637274549098196,6.683366733466934,6.729458917835671,6.775551102204409,6.821643286573146,6.867735470941883,6.913827655310621,6.959919839679358,7.006012024048096,7.052104208416833,7.098196392785571,7.144288577154308,7.190380761523046,7.236472945891784,7.2825651302605205,7.328657314629258,7.374749498997995,7.420841683366733,7.46693386773547,7.513026052104208,7.559118236472946,7.605210420841683,7.651302605210421,7.697394789579158,7.7434869739478955,7.7895791583166325,7.83567134268537,7.881763527054108,7.927855711422845,7.973947895791583,8.02004008016032,8.066132264529058,8.112224448897795,8.158316633266532,8.20440881763527,8.250501002004007,8.296593186372744,8.342685370741483,8.38877755511022,8.434869739478957,8.480961923847694,8.527054108216433,8.57314629258517,8.619238476953907,8.665330661322646,8.711422845691382,8.75751503006012,8.803607214428856,8.849699398797595,8.895791583166332,8.941883767535069,8.987975951903808,9.034068136272545,9.080160320641282,9.126252505010019,9.172344689378757,9.218436873747494,9.264529058116231,9.31062124248497,9.356713426853707,9.402805611222444,9.448897795591181,9.49498997995992,9.541082164328657,9.587174348697394,9.633266533066132,9.67935871743487,9.725450901803606,9.771543086172343,9.817635270541082,9.863727454909819,9.909819639278556,9.955911823647295,10.002004008016032,10.048096192384769,10.094188376753506,10.140280561122244,10.186372745490981,10.232464929859718,10.278557114228457,10.324649298597194,10.370741482965931,10.416833667334668,10.462925851703407,10.509018036072144,10.55511022044088,10.60120240480962,10.647294589178356,10.693386773547093,10.73947895791583,10.785571142284569,10.831663326653306,10.877755511022043,10.923847695390782,10.969939879759519,11.016032064128256,11.062124248496993,11.108216432865731,11.154308617234468,11.200400801603205,11.246492985971944,11.292585170340681,11.338677354709418,11.384769539078155,11.430861723446894,11.47695390781563,11.523046092184368,11.569138276553106,11.615230460921843,11.66132264529058,11.707414829659317,11.753507014028056,11.799599198396793,11.84569138276553,11.891783567134269,11.937875751503006,11.983967935871743,12.03006012024048,12.076152304609218,12.122244488977955,12.168336673346692,12.214428857715431,12.260521042084168,12.306613226452905,12.352705410821642,12.39879759519038,12.444889779559118,12.490981963927855,12.537074148296593,12.58316633266533,12.629258517034067,12.675350701402804,12.721442885771543,12.76753507014028,12.813627254509017,12.859719438877756,12.905811623246493,12.95190380761523,12.997995991983966,13.044088176352705,13.090180360721442,13.13627254509018,13.182364729458918,13.228456913827655,13.274549098196392,13.320641282565129,13.366733466933868,13.412825651302605,13.458917835671341,13.50501002004008,13.551102204408817,13.597194388777554,13.643286573146291,13.68937875751503,13.735470941883767,13.781563126252504,13.827655310621243,13.87374749498998,13.919839679358716,13.965931863727453,14.012024048096192,14.05811623246493,14.104208416833666,14.150300601202405,14.196392785571142,14.242484969939879,14.288577154308616,14.334669338677354,14.380761523046091,14.426853707414828,14.472945891783567,14.519038076152304,14.565130260521041,14.611222444889778,14.657314629258517,14.703406813627254,14.74949899799599,14.79559118236473,14.841683366733466,14.887775551102203,14.93386773547094,14.97995991983968,15.026052104208416,15.072144288577153,15.118236472945892,15.164328657314629,15.210420841683366,15.256513026052103,15.302605210420841,15.348697394789578,15.394789579158315,15.440881763527054,15.486973947895791,15.533066132264528,15.579158316633265,15.625250501002004,15.67134268537074,15.717434869739478,15.763527054108216,15.809619238476953,15.85571142284569,15.901803607214427,15.947895791583166,15.993987975951903,16.04008016032064,16.086172344689377,16.132264529058116,16.178356713426854,16.22444889779559,16.27054108216433,16.316633266533064,16.362725450901802,16.40881763527054,16.454909819639276,16.501002004008015,16.547094188376754,16.59318637274549,16.639278557114228,16.685370741482966,16.7314629258517,16.77755511022044,16.82364729458918,16.869739478957914,16.915831663326653,16.961923847695388,17.008016032064127,17.054108216432866,17.1002004008016,17.14629258517034,17.19238476953908,17.238476953907814,17.284569138276552,17.33066132264529,17.376753507014026,17.422845691382765,17.468937875751504,17.51503006012024,17.561122244488978,17.607214428857713,17.65330661322645,17.69939879759519,17.745490981963925,17.791583166332664,17.837675350701403,17.883767535070138,17.929859719438877,17.975951903807616,18.02204408817635,18.06813627254509,18.11422845691383,18.160320641282564,18.206412825651302,18.252505010020037,18.298597194388776,18.344689378757515,18.39078156312625,18.43687374749499,18.482965931863728,18.529058116232463,18.5751503006012,18.62124248496994,18.667334669338675,18.713426853707414,18.759519038076153,18.805611222444888,18.851703406813627,18.897795591182362,18.9438877755511,18.98997995991984,19.036072144288575,19.082164328657313,19.128256513026052,19.174348697394787,19.220440881763526,19.266533066132265,19.312625250501,19.35871743486974,19.404809619238478,19.450901803607213,19.49699398797595,19.543086172344687,19.589178356713425,19.635270541082164,19.6813627254509,19.727454909819638,19.773547094188377,19.819639278557112,19.86573146292585,19.91182364729459,19.957915831663325,20.004008016032063,20.050100200400802,20.096192384769537,20.142284569138276,20.18837675350701,20.23446893787575,20.28056112224449,20.326653306613224,20.372745490981963,20.4188376753507,20.464929859719437,20.511022044088175,20.557114228456914,20.60320641282565,20.649298597194388,20.695390781563127,20.741482965931862,20.7875751503006,20.833667334669336,20.879759519038075,20.925851703406813,20.97194388777555,21.018036072144287,21.064128256513026,21.11022044088176,21.1563126252505,21.20240480961924,21.248496993987974,21.294589178356713,21.34068136272545,21.386773547094187,21.432865731462925,21.47895791583166,21.5250501002004,21.571142284569138,21.617234468937873,21.663326653306612,21.70941883767535,21.755511022044086,21.801603206412825,21.847695390781563,21.8937875751503,21.939879759519037,21.985971943887776,22.03206412825651,22.07815631262525,22.124248496993985,22.170340681362724,22.216432865731463,22.262525050100198,22.308617234468937,22.354709418837675,22.40080160320641,22.44689378757515,22.492985971943888,22.539078156312623,22.585170340681362,22.6312625250501,22.677354709418836,22.723446893787575,22.76953907815631,22.81563126252505,22.861723446893787,22.907815631262523,22.95390781563126,23.0],\"y\":[86.05012863738762,89.7694708735421,93.60666412688778,97.54690947571271,101.57538215613107,105.67727476121729,109.83784030427341,114.04243503778605,118.27656092025723,122.52590762399512,126.77639397809003,131.01420874221526,135.22585060853078,139.39816733088037,143.5183938826009,147.5741895466466,151.55367384433157,155.44546121183282,159.2386943366372,162.92307606938346,166.48889983000743,169.92707843076232,173.22917124252348,176.38740963481519,179.39472062418076,182.24474866986554,184.93187556027783,187.45123833831974,189.7987452184417,191.97108945314017,193.9657611115997,195.78105673823575,197.41608686405385,198.8707813489397,200.14589253827288,201.24299622255964,202.16449039412643,202.91359180026762,203.4943302976078,203.91154101778963,204.17085435993522,204.27868383062557,204.24221175740024,204.06937290697417,203.76883604449353,203.3499834751988,202.82288861480689,202.19829163977033,201.48757327329338,200.70272676758069,199.8563281472499,198.9615047831435,198.03190236991773,197.0816503847637,196.12532610840276,195.1779172931088,194.25478356590935,193.37161665832315,192.54439955697558,191.78936467219927,191.12295112426614,190.56176124920205,190.12251642820058,189.8220123464735,189.67707378895108,189.70450908156187,189.9210642878902,190.3433772718143,190.9879317372738,191.87101135659987,193.00865409886285,194.41660686945045,196.11028057158217,198.1047056997046,200.4144885736819,203.05376832141314,206.03617471596817,209.37478697154452,213.08209360050728,217.16995343149307,221.6495578860419,226.5313946084636,231.82521254067527,237.5399885305422,243.683895558851,250.26427266643032,257.28759665912094,264.75945566431244,272.6845246085751,281.06654268159053,289.90829284706973,299.2115834567114,308.97723201845895,319.2050511654105,329.8938368667067,341.0413589165918,352.644353732627,364.6985194887285,377.1985136033443,390.1379525976563,403.50941433323555,417.30444263308107,431.5135542844721,446.1262484165428,461.1310182399868,476.515365130826,492.26581503471266,508.36793716285877,524.8063649453205,541.5648192021184,558.6261334874844,575.9722815574287,593.5844069058674,611.4428543096633,629.5272033182317,647.8163036187623,666.2883122036857,684.9207322627454,703.6904537179355,722.5737953156658,741.5465481867861,760.5840207815937,779.6610850836308,798.7522240030013,817.8315798470555,836.8730037636643,855.850106049911,874.7363072168604,893.5048896991761,912.1290500966863,930.5819518336161,948.8367781200614,966.8667850993983,984.6453550647342,1002.1460496271382,1019.3426627183402,1036.2092733107584,1052.7202977381958,1068.8505415012642,1084.5752504425811,1099.8701611780634,1114.7115506721293,1129.0762848464208,1142.9418661136635,1156.286479730571,1169.0890388662133,1181.329228285017,1192.9875465465761,1204.0453466276322,1214.4848748750387,1224.2893082021524,1233.4427894449339,1241.9304607980785,1249.7384952557086,1256.8541259855565,1263.265673570114,1268.9625710529372,1273.9353867331445,1278.1758446561257,1281.6768427535853,1284.4324685912507,1286.4380126878873,1287.6899793746502,1288.1860951692684,1287.9253146450806,1286.9078237805147,1285.1350407801997,1282.6096143645373,1279.3354195301877,1275.3175507895503,1270.5623129029468,1265.0772091227827,1258.8709269745113,1251.953321604707,1244.335396731973,1236.0292832417397,1227.0482154712504,1217.406505236186,1207.119513655378,1196.20362083497,1184.6761934781312,1172.5555504910399,1159.860926660289,1146.6124344811371,1132.8310242201314,1118.5384422995198,1103.7571880945743,1088.5104692384452,1072.8221555324446,1056.7167315627232,1040.2192481271036,1023.3552725784723,1006.1508381934273,988.6323926770316,970.826745916324,952.7610170968742,934.4625812979771,915.9590156831495,897.2780454034241,878.4474893314361,859.4952057446051,840.4490380756749,821.3367608486556,802.18602591763,783.0243091251065,763.8788574955429,744.7766370783106,725.7442815528066,706.8080417065516,687.9937358950511,669.3267015898239,650.8317481184374,632.5331106975817,614.4544058571526,596.618588350071,579.0479096390673,561.7638780480032,544.787220661405,528.1378470518226,511.83481491039663,495.896297651586,480.3395540584584,465.18090003020654,450.4356824887307,436.1182554961251,422.2419586298205,408.8190976569555,395.8609275442517,383.3776378343129,371.3783404138473,359.8710596938315,348.8627252161216,338.35916669546026,328.3651115002949,318.8841845702374,309.91891076246395,301.4707196138221,293.5399524999325,286.1258721671294,279.22667460771055,272.8395032436733,266.960465378893,261.584650874591,256.70615299792854,252.31809138869437,248.41263708429045,244.98103953862739,242.01365556608494,239.4999801374165,237.4286789503533,235.78762269375687,234.56392292042028,233.74396944009402,233.31346914099663,233.25748614495262,233.5604831984404,234.2063641991607,235.17851775534882,236.4598616728598,238.0328882631534,239.87971036362205,241.98210796028837,244.32157530175158,246.87936839234422,249.6365527518519,252.57405132874484,255.67269245379464,258.91325772107916,262.2765296838204,265.7433392531679,269.29461268899433,272.9114180729681,276.5750111556239,280.2668804708697,283.96879161331447,287.6628305760125,291.3314460486491,294.95749057886724,298.5242605023233,302.0155345501814,305.41561104607115,308.70934360805916,311.8821752749154,314.9201709798521,317.8100482989961,320.53920640610704,323.09575316946257,325.4685303313737,327.6471367154883,329.6219494118509,331.3841428946016,332.9257060322351,334.23945695544336,335.3190557527617,336.1590149694937,336.75470789069465,337.1023745943502,337.19912576624904,337.04294427345263,336.6326844986484,335.9680694430556,335.0496856109171,333.8789756939181,332.4582290791698,330.79057020957885,328.87994483059583,326.73110416235454,324.3495870412055,321.7417000794701,318.9144958969789,315.8757494825619,312.6339327480937,309.1981873420219,305.5782957934259,301.78465106163753,297.8282245702241,293.7205328077474,289.4736025810902,285.0999350103427,280.6124683572164,276.02453978169547,271.3498461241771,266.602403812629,261.79650799635834,256.94669100978456,252.06768027117892,247.17435572264264,242.28170691863244,237.40478987117658,232.55868376042116,227.7584476194618,223.0190771024039,218.35546144437652,213.78234072170082,209.31426351966834,204.96554511435744,200.7502262736354,196.68203278098667,192.7743357840156,189.04011306746372,185.49191134832404,182.14180968813997,179.00138411487035,176.08167354374086,173.39314708337804,170.9456728101291,168.74848808993653,166.81017152337802,165.13861658553492,163.74100702827582,162.62379410825417,161.79267569949923,161.2525773449304,161.00763529642074,161.06118158821914,161.4157311836297,162.072971229813,163.03375245047528,164.29808270103513,165.86512270560223,167.7331839898336,169.89972901838854,172.36137354036555,175.11389114073813,178.15221999045036,181.47047178248357,185.06194283589463,188.91912734454132,193.0337327419843,197.39669714889956,201.99820886423947,206.8277278563892,211.87400920567313,217.12512844476552,222.5685087389184,228.19094984338147,233.97865877099835,239.91728209876504,245.99193983804685,252.1872607892805,258.48741929828407,264.8761733277975,271.3369037545514,277.85265479909845,284.4061754927234,290.9799620831349,297.5563012781897,304.1173142247155,310.6450011175752,317.121286332381,323.52806397384603,329.8472437305578,336.06079692601304,342.1508026550752,348.09949389461644,353.88930347692633,359.5029098145901,364.92328226591565,370.1337260305984,375.11792646624116,379.85999271746385,384.3445005507749,388.5565342900109,392.4817277491008,396.1063040610221,399.4171143042539,402.4016748306476,405.0482032014829,407.34565264160176,409.28374492476564,410.853001606925,412.0447735277763,412.8512685048893,413.2655771487758,413.28169673150074,412.89455304589137,412.1000201969284,410.89493827165495,409.2771288387601,407.2454082339651,404.79959859241126,401.94053659443813,398.6700798963606,394.9911112232272,390.90754010589023,386.4243022501927,381.54735653152306,376.2836796135027,370.64125819507126,364.62907889574217,358.25711579428514,351.53631564155586,344.47858077361354,337.09674975663444,329.40457580041436,321.41670298250864,313.1486403301417,304.6167338120854,295.8381362976132,286.8307755443932,277.6133202818853,268.2051444612668,258.62628974726897,248.8974263315166,239.03981215088777,229.07525059829914,219.02604681688314,208.9149626719555,198.76517049835257,188.60020572371104,178.44391847098626,168.3204242460264,158.25405381831587,148.26930240497063,138.39077826990706,128.64315085158432,119.05109853399563,109.63925617659908,100.43216251958131,91.45420758135111,82.729580165362,74.28221559326772,66.135743781114,58.31343777467737,50.838162859150714,43.73232635731193,37.017828228863095,30.716012582017356,24.847620206488557,19.43274223489658,14.490775037182743,10.04037645001722,6.099423440275814,2.6849712985800807,-0.18678554442760742,-2.5005509899591516,-4.241962945714022,-5.397627121820392,-5.955148870773996,-5.903162998355413,-5.23136147699131,-3.930518997647823,-1.9925163011403129,0.5896387653613147,3.8217925157829313,7.708629060564931,12.253656348796767,17.459194650464383,23.32636750676909,29.85509517100536,37.04409055691241,44.890857705844326,53.39169277847623,62.541687571150305,72.33473555130331,82.76354040084186,93.81962705067895,105.49335518414102,117.77393518140354,130.64944647167295],\"type\":\"scatter\"}],                        {\"template\":{\"data\":{\"histogram2dcontour\":[{\"type\":\"histogram2dcontour\",\"colorbar\":{\"outlinewidth\":0,\"ticks\":\"\"},\"colorscale\":[[0.0,\"#0d0887\"],[0.1111111111111111,\"#46039f\"],[0.2222222222222222,\"#7201a8\"],[0.3333333333333333,\"#9c179e\"],[0.4444444444444444,\"#bd3786\"],[0.5555555555555556,\"#d8576b\"],[0.6666666666666666,\"#ed7953\"],[0.7777777777777778,\"#fb9f3a\"],[0.8888888888888888,\"#fdca26\"],[1.0,\"#f0f921\"]]}],\"choropleth\":[{\"type\":\"choropleth\",\"colorbar\":{\"outlinewidth\":0,\"ticks\":\"\"}}],\"histogram2d\":[{\"type\":\"histogram2d\",\"colorbar\":{\"outlinewidth\":0,\"ticks\":\"\"},\"colorscale\":[[0.0,\"#0d0887\"],[0.1111111111111111,\"#46039f\"],[0.2222222222222222,\"#7201a8\"],[0.3333333333333333,\"#9c179e\"],[0.4444444444444444,\"#bd3786\"],[0.5555555555555556,\"#d8576b\"],[0.6666666666666666,\"#ed7953\"],[0.7777777777777778,\"#fb9f3a\"],[0.8888888888888888,\"#fdca26\"],[1.0,\"#f0f921\"]]}],\"heatmap\":[{\"type\":\"heatmap\",\"colorbar\":{\"outlinewidth\":0,\"ticks\":\"\"},\"colorscale\":[[0.0,\"#0d0887\"],[0.1111111111111111,\"#46039f\"],[0.2222222222222222,\"#7201a8\"],[0.3333333333333333,\"#9c179e\"],[0.4444444444444444,\"#bd3786\"],[0.5555555555555556,\"#d8576b\"],[0.6666666666666666,\"#ed7953\"],[0.7777777777777778,\"#fb9f3a\"],[0.8888888888888888,\"#fdca26\"],[1.0,\"#f0f921\"]]}],\"heatmapgl\":[{\"type\":\"heatmapgl\",\"colorbar\":{\"outlinewidth\":0,\"ticks\":\"\"},\"colorscale\":[[0.0,\"#0d0887\"],[0.1111111111111111,\"#46039f\"],[0.2222222222222222,\"#7201a8\"],[0.3333333333333333,\"#9c179e\"],[0.4444444444444444,\"#bd3786\"],[0.5555555555555556,\"#d8576b\"],[0.6666666666666666,\"#ed7953\"],[0.7777777777777778,\"#fb9f3a\"],[0.8888888888888888,\"#fdca26\"],[1.0,\"#f0f921\"]]}],\"contourcarpet\":[{\"type\":\"contourcarpet\",\"colorbar\":{\"outlinewidth\":0,\"ticks\":\"\"}}],\"contour\":[{\"type\":\"contour\",\"colorbar\":{\"outlinewidth\":0,\"ticks\":\"\"},\"colorscale\":[[0.0,\"#0d0887\"],[0.1111111111111111,\"#46039f\"],[0.2222222222222222,\"#7201a8\"],[0.3333333333333333,\"#9c179e\"],[0.4444444444444444,\"#bd3786\"],[0.5555555555555556,\"#d8576b\"],[0.6666666666666666,\"#ed7953\"],[0.7777777777777778,\"#fb9f3a\"],[0.8888888888888888,\"#fdca26\"],[1.0,\"#f0f921\"]]}],\"surface\":[{\"type\":\"surface\",\"colorbar\":{\"outlinewidth\":0,\"ticks\":\"\"},\"colorscale\":[[0.0,\"#0d0887\"],[0.1111111111111111,\"#46039f\"],[0.2222222222222222,\"#7201a8\"],[0.3333333333333333,\"#9c179e\"],[0.4444444444444444,\"#bd3786\"],[0.5555555555555556,\"#d8576b\"],[0.6666666666666666,\"#ed7953\"],[0.7777777777777778,\"#fb9f3a\"],[0.8888888888888888,\"#fdca26\"],[1.0,\"#f0f921\"]]}],\"mesh3d\":[{\"type\":\"mesh3d\",\"colorbar\":{\"outlinewidth\":0,\"ticks\":\"\"}}],\"scatter\":[{\"fillpattern\":{\"fillmode\":\"overlay\",\"size\":10,\"solidity\":0.2},\"type\":\"scatter\"}],\"parcoords\":[{\"type\":\"parcoords\",\"line\":{\"colorbar\":{\"outlinewidth\":0,\"ticks\":\"\"}}}],\"scatterpolargl\":[{\"type\":\"scatterpolargl\",\"marker\":{\"colorbar\":{\"outlinewidth\":0,\"ticks\":\"\"}}}],\"bar\":[{\"error_x\":{\"color\":\"#2a3f5f\"},\"error_y\":{\"color\":\"#2a3f5f\"},\"marker\":{\"line\":{\"color\":\"#E5ECF6\",\"width\":0.5},\"pattern\":{\"fillmode\":\"overlay\",\"size\":10,\"solidity\":0.2}},\"type\":\"bar\"}],\"scattergeo\":[{\"type\":\"scattergeo\",\"marker\":{\"colorbar\":{\"outlinewidth\":0,\"ticks\":\"\"}}}],\"scatterpolar\":[{\"type\":\"scatterpolar\",\"marker\":{\"colorbar\":{\"outlinewidth\":0,\"ticks\":\"\"}}}],\"histogram\":[{\"marker\":{\"pattern\":{\"fillmode\":\"overlay\",\"size\":10,\"solidity\":0.2}},\"type\":\"histogram\"}],\"scattergl\":[{\"type\":\"scattergl\",\"marker\":{\"colorbar\":{\"outlinewidth\":0,\"ticks\":\"\"}}}],\"scatter3d\":[{\"type\":\"scatter3d\",\"line\":{\"colorbar\":{\"outlinewidth\":0,\"ticks\":\"\"}},\"marker\":{\"colorbar\":{\"outlinewidth\":0,\"ticks\":\"\"}}}],\"scattermapbox\":[{\"type\":\"scattermapbox\",\"marker\":{\"colorbar\":{\"outlinewidth\":0,\"ticks\":\"\"}}}],\"scatterternary\":[{\"type\":\"scatterternary\",\"marker\":{\"colorbar\":{\"outlinewidth\":0,\"ticks\":\"\"}}}],\"scattercarpet\":[{\"type\":\"scattercarpet\",\"marker\":{\"colorbar\":{\"outlinewidth\":0,\"ticks\":\"\"}}}],\"carpet\":[{\"aaxis\":{\"endlinecolor\":\"#2a3f5f\",\"gridcolor\":\"white\",\"linecolor\":\"white\",\"minorgridcolor\":\"white\",\"startlinecolor\":\"#2a3f5f\"},\"baxis\":{\"endlinecolor\":\"#2a3f5f\",\"gridcolor\":\"white\",\"linecolor\":\"white\",\"minorgridcolor\":\"white\",\"startlinecolor\":\"#2a3f5f\"},\"type\":\"carpet\"}],\"table\":[{\"cells\":{\"fill\":{\"color\":\"#EBF0F8\"},\"line\":{\"color\":\"white\"}},\"header\":{\"fill\":{\"color\":\"#C8D4E3\"},\"line\":{\"color\":\"white\"}},\"type\":\"table\"}],\"barpolar\":[{\"marker\":{\"line\":{\"color\":\"#E5ECF6\",\"width\":0.5},\"pattern\":{\"fillmode\":\"overlay\",\"size\":10,\"solidity\":0.2}},\"type\":\"barpolar\"}],\"pie\":[{\"automargin\":true,\"type\":\"pie\"}]},\"layout\":{\"autotypenumbers\":\"strict\",\"colorway\":[\"#636efa\",\"#EF553B\",\"#00cc96\",\"#ab63fa\",\"#FFA15A\",\"#19d3f3\",\"#FF6692\",\"#B6E880\",\"#FF97FF\",\"#FECB52\"],\"font\":{\"color\":\"#2a3f5f\"},\"hovermode\":\"closest\",\"hoverlabel\":{\"align\":\"left\"},\"paper_bgcolor\":\"white\",\"plot_bgcolor\":\"#E5ECF6\",\"polar\":{\"bgcolor\":\"#E5ECF6\",\"angularaxis\":{\"gridcolor\":\"white\",\"linecolor\":\"white\",\"ticks\":\"\"},\"radialaxis\":{\"gridcolor\":\"white\",\"linecolor\":\"white\",\"ticks\":\"\"}},\"ternary\":{\"bgcolor\":\"#E5ECF6\",\"aaxis\":{\"gridcolor\":\"white\",\"linecolor\":\"white\",\"ticks\":\"\"},\"baxis\":{\"gridcolor\":\"white\",\"linecolor\":\"white\",\"ticks\":\"\"},\"caxis\":{\"gridcolor\":\"white\",\"linecolor\":\"white\",\"ticks\":\"\"}},\"coloraxis\":{\"colorbar\":{\"outlinewidth\":0,\"ticks\":\"\"}},\"colorscale\":{\"sequential\":[[0.0,\"#0d0887\"],[0.1111111111111111,\"#46039f\"],[0.2222222222222222,\"#7201a8\"],[0.3333333333333333,\"#9c179e\"],[0.4444444444444444,\"#bd3786\"],[0.5555555555555556,\"#d8576b\"],[0.6666666666666666,\"#ed7953\"],[0.7777777777777778,\"#fb9f3a\"],[0.8888888888888888,\"#fdca26\"],[1.0,\"#f0f921\"]],\"sequentialminus\":[[0.0,\"#0d0887\"],[0.1111111111111111,\"#46039f\"],[0.2222222222222222,\"#7201a8\"],[0.3333333333333333,\"#9c179e\"],[0.4444444444444444,\"#bd3786\"],[0.5555555555555556,\"#d8576b\"],[0.6666666666666666,\"#ed7953\"],[0.7777777777777778,\"#fb9f3a\"],[0.8888888888888888,\"#fdca26\"],[1.0,\"#f0f921\"]],\"diverging\":[[0,\"#8e0152\"],[0.1,\"#c51b7d\"],[0.2,\"#de77ae\"],[0.3,\"#f1b6da\"],[0.4,\"#fde0ef\"],[0.5,\"#f7f7f7\"],[0.6,\"#e6f5d0\"],[0.7,\"#b8e186\"],[0.8,\"#7fbc41\"],[0.9,\"#4d9221\"],[1,\"#276419\"]]},\"xaxis\":{\"gridcolor\":\"white\",\"linecolor\":\"white\",\"ticks\":\"\",\"title\":{\"standoff\":15},\"zerolinecolor\":\"white\",\"automargin\":true,\"zerolinewidth\":2},\"yaxis\":{\"gridcolor\":\"white\",\"linecolor\":\"white\",\"ticks\":\"\",\"title\":{\"standoff\":15},\"zerolinecolor\":\"white\",\"automargin\":true,\"zerolinewidth\":2},\"scene\":{\"xaxis\":{\"backgroundcolor\":\"#E5ECF6\",\"gridcolor\":\"white\",\"linecolor\":\"white\",\"showbackground\":true,\"ticks\":\"\",\"zerolinecolor\":\"white\",\"gridwidth\":2},\"yaxis\":{\"backgroundcolor\":\"#E5ECF6\",\"gridcolor\":\"white\",\"linecolor\":\"white\",\"showbackground\":true,\"ticks\":\"\",\"zerolinecolor\":\"white\",\"gridwidth\":2},\"zaxis\":{\"backgroundcolor\":\"#E5ECF6\",\"gridcolor\":\"white\",\"linecolor\":\"white\",\"showbackground\":true,\"ticks\":\"\",\"zerolinecolor\":\"white\",\"gridwidth\":2}},\"shapedefaults\":{\"line\":{\"color\":\"#2a3f5f\"}},\"annotationdefaults\":{\"arrowcolor\":\"#2a3f5f\",\"arrowhead\":0,\"arrowwidth\":1},\"geo\":{\"bgcolor\":\"white\",\"landcolor\":\"#E5ECF6\",\"subunitcolor\":\"white\",\"showland\":true,\"showlakes\":true,\"lakecolor\":\"white\"},\"title\":{\"x\":0.05},\"mapbox\":{\"style\":\"light\"}}},\"xaxis\":{\"title\":{\"text\":\"Hora del día\"},\"tickmode\":\"array\",\"ticktext\":[\"0–1\",\"1–2\",\"2–3\",\"3–4\",\"4–5\",\"5–6\",\"6–7\",\"7–8\",\"8–9\",\"9–10\",\"10–11\",\"11–12\",\"12–13\",\"13–14\",\"14–15\",\"15–16\",\"16–17\",\"17–18\",\"18–19\",\"19–20\",\"20–21\",\"21–22\",\"22–23\",\"23–0\"],\"tickvals\":[0,1,2,3,4,5,6,7,8,9,10,11,12,13,14,15,16,17,18,19,20,21,22,23]},\"title\":{\"text\":\"Ajuste senoidal de incidentes por hora\"},\"yaxis\":{\"title\":{\"text\":\"Número de incidentes\"}},\"bargap\":0.1},                        {\"responsive\": true}                    ).then(function(){\n",
              "                            \n",
              "var gd = document.getElementById('65e67823-07e6-48b6-86ec-e39783cfbb01');\n",
              "var x = new MutationObserver(function (mutations, observer) {{\n",
              "        var display = window.getComputedStyle(gd).display;\n",
              "        if (!display || display === 'none') {{\n",
              "            console.log([gd, 'removed!']);\n",
              "            Plotly.purge(gd);\n",
              "            observer.disconnect();\n",
              "        }}\n",
              "}});\n",
              "\n",
              "// Listen for the removal of the full notebook cells\n",
              "var notebookContainer = gd.closest('#notebook-container');\n",
              "if (notebookContainer) {{\n",
              "    x.observe(notebookContainer, {childList: true});\n",
              "}}\n",
              "\n",
              "// Listen for the clearing of the current output cell\n",
              "var outputEl = gd.closest('.output');\n",
              "if (outputEl) {{\n",
              "    x.observe(outputEl, {childList: true});\n",
              "}}\n",
              "\n",
              "                        })                };                            </script>        </div>\n",
              "</body>\n",
              "</html>"
            ]
          },
          "metadata": {}
        },
        {
          "output_type": "display_data",
          "data": {
            "text/html": [
              "<html>\n",
              "<head><meta charset=\"utf-8\" /></head>\n",
              "<body>\n",
              "    <div>            <script src=\"https://cdnjs.cloudflare.com/ajax/libs/mathjax/2.7.5/MathJax.js?config=TeX-AMS-MML_SVG\"></script><script type=\"text/javascript\">if (window.MathJax && window.MathJax.Hub && window.MathJax.Hub.Config) {window.MathJax.Hub.Config({SVG: {font: \"STIX-Web\"}});}</script>                <script type=\"text/javascript\">window.PlotlyConfig = {MathJaxConfig: 'local'};</script>\n",
              "        <script charset=\"utf-8\" src=\"https://cdn.plot.ly/plotly-2.35.2.min.js\"></script>                <div id=\"ceec504b-49a5-4466-80c8-1c0ac32ee07b\" class=\"plotly-graph-div\" style=\"height:525px; width:100%;\"></div>            <script type=\"text/javascript\">                                    window.PLOTLYENV=window.PLOTLYENV || {};                                    if (document.getElementById(\"ceec504b-49a5-4466-80c8-1c0ac32ee07b\")) {                    Plotly.newPlot(                        \"ceec504b-49a5-4466-80c8-1c0ac32ee07b\",                        [{\"line\":{\"color\":\"gray\",\"dash\":\"dot\"},\"marker\":{\"color\":\"orange\",\"size\":8},\"mode\":\"markers+lines\",\"name\":\"Residuos\",\"x\":[0,1,2,3,4,5,6,7,8,9,10,11,12,13,14,15,16,17,18,19,20,21,22,23],\"y\":[-68.05012863738762,37.76092927360821,20.03352315940674,38.28440780822734,-3.0967327877490334,-74.78238507341871,-57.77168568451498,59.1383690396608,200.26716345264958,-200.00883271313012,-53.518671711305046,54.431846851204,155.41707121521333,-122.01716423659514,-53.24920984931998,-11.941027813865247,95.42314634112853,19.379500259741036,-14.83709930913551,-6.9749187029661925,-72.08541566589042,33.21559232638418,83.63117051881437,-58.649446471672945],\"type\":\"scatter\"}],                        {\"template\":{\"data\":{\"histogram2dcontour\":[{\"type\":\"histogram2dcontour\",\"colorbar\":{\"outlinewidth\":0,\"ticks\":\"\"},\"colorscale\":[[0.0,\"#0d0887\"],[0.1111111111111111,\"#46039f\"],[0.2222222222222222,\"#7201a8\"],[0.3333333333333333,\"#9c179e\"],[0.4444444444444444,\"#bd3786\"],[0.5555555555555556,\"#d8576b\"],[0.6666666666666666,\"#ed7953\"],[0.7777777777777778,\"#fb9f3a\"],[0.8888888888888888,\"#fdca26\"],[1.0,\"#f0f921\"]]}],\"choropleth\":[{\"type\":\"choropleth\",\"colorbar\":{\"outlinewidth\":0,\"ticks\":\"\"}}],\"histogram2d\":[{\"type\":\"histogram2d\",\"colorbar\":{\"outlinewidth\":0,\"ticks\":\"\"},\"colorscale\":[[0.0,\"#0d0887\"],[0.1111111111111111,\"#46039f\"],[0.2222222222222222,\"#7201a8\"],[0.3333333333333333,\"#9c179e\"],[0.4444444444444444,\"#bd3786\"],[0.5555555555555556,\"#d8576b\"],[0.6666666666666666,\"#ed7953\"],[0.7777777777777778,\"#fb9f3a\"],[0.8888888888888888,\"#fdca26\"],[1.0,\"#f0f921\"]]}],\"heatmap\":[{\"type\":\"heatmap\",\"colorbar\":{\"outlinewidth\":0,\"ticks\":\"\"},\"colorscale\":[[0.0,\"#0d0887\"],[0.1111111111111111,\"#46039f\"],[0.2222222222222222,\"#7201a8\"],[0.3333333333333333,\"#9c179e\"],[0.4444444444444444,\"#bd3786\"],[0.5555555555555556,\"#d8576b\"],[0.6666666666666666,\"#ed7953\"],[0.7777777777777778,\"#fb9f3a\"],[0.8888888888888888,\"#fdca26\"],[1.0,\"#f0f921\"]]}],\"heatmapgl\":[{\"type\":\"heatmapgl\",\"colorbar\":{\"outlinewidth\":0,\"ticks\":\"\"},\"colorscale\":[[0.0,\"#0d0887\"],[0.1111111111111111,\"#46039f\"],[0.2222222222222222,\"#7201a8\"],[0.3333333333333333,\"#9c179e\"],[0.4444444444444444,\"#bd3786\"],[0.5555555555555556,\"#d8576b\"],[0.6666666666666666,\"#ed7953\"],[0.7777777777777778,\"#fb9f3a\"],[0.8888888888888888,\"#fdca26\"],[1.0,\"#f0f921\"]]}],\"contourcarpet\":[{\"type\":\"contourcarpet\",\"colorbar\":{\"outlinewidth\":0,\"ticks\":\"\"}}],\"contour\":[{\"type\":\"contour\",\"colorbar\":{\"outlinewidth\":0,\"ticks\":\"\"},\"colorscale\":[[0.0,\"#0d0887\"],[0.1111111111111111,\"#46039f\"],[0.2222222222222222,\"#7201a8\"],[0.3333333333333333,\"#9c179e\"],[0.4444444444444444,\"#bd3786\"],[0.5555555555555556,\"#d8576b\"],[0.6666666666666666,\"#ed7953\"],[0.7777777777777778,\"#fb9f3a\"],[0.8888888888888888,\"#fdca26\"],[1.0,\"#f0f921\"]]}],\"surface\":[{\"type\":\"surface\",\"colorbar\":{\"outlinewidth\":0,\"ticks\":\"\"},\"colorscale\":[[0.0,\"#0d0887\"],[0.1111111111111111,\"#46039f\"],[0.2222222222222222,\"#7201a8\"],[0.3333333333333333,\"#9c179e\"],[0.4444444444444444,\"#bd3786\"],[0.5555555555555556,\"#d8576b\"],[0.6666666666666666,\"#ed7953\"],[0.7777777777777778,\"#fb9f3a\"],[0.8888888888888888,\"#fdca26\"],[1.0,\"#f0f921\"]]}],\"mesh3d\":[{\"type\":\"mesh3d\",\"colorbar\":{\"outlinewidth\":0,\"ticks\":\"\"}}],\"scatter\":[{\"fillpattern\":{\"fillmode\":\"overlay\",\"size\":10,\"solidity\":0.2},\"type\":\"scatter\"}],\"parcoords\":[{\"type\":\"parcoords\",\"line\":{\"colorbar\":{\"outlinewidth\":0,\"ticks\":\"\"}}}],\"scatterpolargl\":[{\"type\":\"scatterpolargl\",\"marker\":{\"colorbar\":{\"outlinewidth\":0,\"ticks\":\"\"}}}],\"bar\":[{\"error_x\":{\"color\":\"#2a3f5f\"},\"error_y\":{\"color\":\"#2a3f5f\"},\"marker\":{\"line\":{\"color\":\"#E5ECF6\",\"width\":0.5},\"pattern\":{\"fillmode\":\"overlay\",\"size\":10,\"solidity\":0.2}},\"type\":\"bar\"}],\"scattergeo\":[{\"type\":\"scattergeo\",\"marker\":{\"colorbar\":{\"outlinewidth\":0,\"ticks\":\"\"}}}],\"scatterpolar\":[{\"type\":\"scatterpolar\",\"marker\":{\"colorbar\":{\"outlinewidth\":0,\"ticks\":\"\"}}}],\"histogram\":[{\"marker\":{\"pattern\":{\"fillmode\":\"overlay\",\"size\":10,\"solidity\":0.2}},\"type\":\"histogram\"}],\"scattergl\":[{\"type\":\"scattergl\",\"marker\":{\"colorbar\":{\"outlinewidth\":0,\"ticks\":\"\"}}}],\"scatter3d\":[{\"type\":\"scatter3d\",\"line\":{\"colorbar\":{\"outlinewidth\":0,\"ticks\":\"\"}},\"marker\":{\"colorbar\":{\"outlinewidth\":0,\"ticks\":\"\"}}}],\"scattermapbox\":[{\"type\":\"scattermapbox\",\"marker\":{\"colorbar\":{\"outlinewidth\":0,\"ticks\":\"\"}}}],\"scatterternary\":[{\"type\":\"scatterternary\",\"marker\":{\"colorbar\":{\"outlinewidth\":0,\"ticks\":\"\"}}}],\"scattercarpet\":[{\"type\":\"scattercarpet\",\"marker\":{\"colorbar\":{\"outlinewidth\":0,\"ticks\":\"\"}}}],\"carpet\":[{\"aaxis\":{\"endlinecolor\":\"#2a3f5f\",\"gridcolor\":\"white\",\"linecolor\":\"white\",\"minorgridcolor\":\"white\",\"startlinecolor\":\"#2a3f5f\"},\"baxis\":{\"endlinecolor\":\"#2a3f5f\",\"gridcolor\":\"white\",\"linecolor\":\"white\",\"minorgridcolor\":\"white\",\"startlinecolor\":\"#2a3f5f\"},\"type\":\"carpet\"}],\"table\":[{\"cells\":{\"fill\":{\"color\":\"#EBF0F8\"},\"line\":{\"color\":\"white\"}},\"header\":{\"fill\":{\"color\":\"#C8D4E3\"},\"line\":{\"color\":\"white\"}},\"type\":\"table\"}],\"barpolar\":[{\"marker\":{\"line\":{\"color\":\"#E5ECF6\",\"width\":0.5},\"pattern\":{\"fillmode\":\"overlay\",\"size\":10,\"solidity\":0.2}},\"type\":\"barpolar\"}],\"pie\":[{\"automargin\":true,\"type\":\"pie\"}]},\"layout\":{\"autotypenumbers\":\"strict\",\"colorway\":[\"#636efa\",\"#EF553B\",\"#00cc96\",\"#ab63fa\",\"#FFA15A\",\"#19d3f3\",\"#FF6692\",\"#B6E880\",\"#FF97FF\",\"#FECB52\"],\"font\":{\"color\":\"#2a3f5f\"},\"hovermode\":\"closest\",\"hoverlabel\":{\"align\":\"left\"},\"paper_bgcolor\":\"white\",\"plot_bgcolor\":\"#E5ECF6\",\"polar\":{\"bgcolor\":\"#E5ECF6\",\"angularaxis\":{\"gridcolor\":\"white\",\"linecolor\":\"white\",\"ticks\":\"\"},\"radialaxis\":{\"gridcolor\":\"white\",\"linecolor\":\"white\",\"ticks\":\"\"}},\"ternary\":{\"bgcolor\":\"#E5ECF6\",\"aaxis\":{\"gridcolor\":\"white\",\"linecolor\":\"white\",\"ticks\":\"\"},\"baxis\":{\"gridcolor\":\"white\",\"linecolor\":\"white\",\"ticks\":\"\"},\"caxis\":{\"gridcolor\":\"white\",\"linecolor\":\"white\",\"ticks\":\"\"}},\"coloraxis\":{\"colorbar\":{\"outlinewidth\":0,\"ticks\":\"\"}},\"colorscale\":{\"sequential\":[[0.0,\"#0d0887\"],[0.1111111111111111,\"#46039f\"],[0.2222222222222222,\"#7201a8\"],[0.3333333333333333,\"#9c179e\"],[0.4444444444444444,\"#bd3786\"],[0.5555555555555556,\"#d8576b\"],[0.6666666666666666,\"#ed7953\"],[0.7777777777777778,\"#fb9f3a\"],[0.8888888888888888,\"#fdca26\"],[1.0,\"#f0f921\"]],\"sequentialminus\":[[0.0,\"#0d0887\"],[0.1111111111111111,\"#46039f\"],[0.2222222222222222,\"#7201a8\"],[0.3333333333333333,\"#9c179e\"],[0.4444444444444444,\"#bd3786\"],[0.5555555555555556,\"#d8576b\"],[0.6666666666666666,\"#ed7953\"],[0.7777777777777778,\"#fb9f3a\"],[0.8888888888888888,\"#fdca26\"],[1.0,\"#f0f921\"]],\"diverging\":[[0,\"#8e0152\"],[0.1,\"#c51b7d\"],[0.2,\"#de77ae\"],[0.3,\"#f1b6da\"],[0.4,\"#fde0ef\"],[0.5,\"#f7f7f7\"],[0.6,\"#e6f5d0\"],[0.7,\"#b8e186\"],[0.8,\"#7fbc41\"],[0.9,\"#4d9221\"],[1,\"#276419\"]]},\"xaxis\":{\"gridcolor\":\"white\",\"linecolor\":\"white\",\"ticks\":\"\",\"title\":{\"standoff\":15},\"zerolinecolor\":\"white\",\"automargin\":true,\"zerolinewidth\":2},\"yaxis\":{\"gridcolor\":\"white\",\"linecolor\":\"white\",\"ticks\":\"\",\"title\":{\"standoff\":15},\"zerolinecolor\":\"white\",\"automargin\":true,\"zerolinewidth\":2},\"scene\":{\"xaxis\":{\"backgroundcolor\":\"#E5ECF6\",\"gridcolor\":\"white\",\"linecolor\":\"white\",\"showbackground\":true,\"ticks\":\"\",\"zerolinecolor\":\"white\",\"gridwidth\":2},\"yaxis\":{\"backgroundcolor\":\"#E5ECF6\",\"gridcolor\":\"white\",\"linecolor\":\"white\",\"showbackground\":true,\"ticks\":\"\",\"zerolinecolor\":\"white\",\"gridwidth\":2},\"zaxis\":{\"backgroundcolor\":\"#E5ECF6\",\"gridcolor\":\"white\",\"linecolor\":\"white\",\"showbackground\":true,\"ticks\":\"\",\"zerolinecolor\":\"white\",\"gridwidth\":2}},\"shapedefaults\":{\"line\":{\"color\":\"#2a3f5f\"}},\"annotationdefaults\":{\"arrowcolor\":\"#2a3f5f\",\"arrowhead\":0,\"arrowwidth\":1},\"geo\":{\"bgcolor\":\"white\",\"landcolor\":\"#E5ECF6\",\"subunitcolor\":\"white\",\"showland\":true,\"showlakes\":true,\"lakecolor\":\"white\"},\"title\":{\"x\":0.05},\"mapbox\":{\"style\":\"light\"}}},\"shapes\":[{\"line\":{\"color\":\"black\",\"dash\":\"dash\"},\"type\":\"line\",\"x0\":0,\"x1\":1,\"xref\":\"x domain\",\"y0\":0,\"y1\":0,\"yref\":\"y\"}],\"xaxis\":{\"title\":{\"text\":\"Hora del día\"},\"tickmode\":\"array\",\"tickvals\":[0,1,2,3,4,5,6,7,8,9,10,11,12,13,14,15,16,17,18,19,20,21,22,23],\"ticktext\":[\"0–1\",\"1–2\",\"2–3\",\"3–4\",\"4–5\",\"5–6\",\"6–7\",\"7–8\",\"8–9\",\"9–10\",\"10–11\",\"11–12\",\"12–13\",\"13–14\",\"14–15\",\"15–16\",\"16–17\",\"17–18\",\"18–19\",\"19–20\",\"20–21\",\"21–22\",\"22–23\",\"23–0\"]},\"title\":{\"text\":\"Residuos del modelo senoidal\"},\"yaxis\":{\"title\":{\"text\":\"Error (real - predicho)\"}},\"showlegend\":false},                        {\"responsive\": true}                    ).then(function(){\n",
              "                            \n",
              "var gd = document.getElementById('ceec504b-49a5-4466-80c8-1c0ac32ee07b');\n",
              "var x = new MutationObserver(function (mutations, observer) {{\n",
              "        var display = window.getComputedStyle(gd).display;\n",
              "        if (!display || display === 'none') {{\n",
              "            console.log([gd, 'removed!']);\n",
              "            Plotly.purge(gd);\n",
              "            observer.disconnect();\n",
              "        }}\n",
              "}});\n",
              "\n",
              "// Listen for the removal of the full notebook cells\n",
              "var notebookContainer = gd.closest('#notebook-container');\n",
              "if (notebookContainer) {{\n",
              "    x.observe(notebookContainer, {childList: true});\n",
              "}}\n",
              "\n",
              "// Listen for the clearing of the current output cell\n",
              "var outputEl = gd.closest('.output');\n",
              "if (outputEl) {{\n",
              "    x.observe(outputEl, {childList: true});\n",
              "}}\n",
              "\n",
              "                        })                };                            </script>        </div>\n",
              "</body>\n",
              "</html>"
            ]
          },
          "metadata": {}
        },
        {
          "output_type": "stream",
          "name": "stdout",
          "text": [
            "R²:   0.9411\n",
            "RMSE: 85.34\n"
          ]
        }
      ]
    },
    {
      "cell_type": "code",
      "source": [
        "df_full_years = df_m[df_m['year'] != 2025]\n",
        "df_2025 = df_m[df_m['year'] == 2025]\n",
        "\n",
        "# ---- FULL YEARS ----\n",
        "# Calculate average incidents per day-of-month across years (e.g., 1st, 2nd, ..., 31st)\n",
        "daily_avg_full = (\n",
        "    df_full_years.groupby([\"year\", \"day\"])\n",
        "    .size()\n",
        "    .reset_index(name=\"count\")\n",
        ")\n",
        "\n",
        "# ---- 2025 (SCALED) ----\n",
        "# Count incidents per day-of-month in 2025\n",
        "daily_total_2025 = (\n",
        "    df_2025.groupby(\"day\")\n",
        "    .size()\n",
        "    .reset_index(name=\"count\")\n",
        ")\n",
        "\n",
        "# Scale 2025 data: assume similar pattern all year\n",
        "months_2025 = df_2025[\"month\"].nunique()\n",
        "scaling_factor = 12 / months_2025  # e.g., if 2 months -> scale by 6\n",
        "daily_total_2025[\"count\"] = daily_total_2025[\"count\"] * scaling_factor\n",
        "daily_total_2025[\"year\"] = \"2025 (estimado)\"\n",
        "\n",
        "\n",
        "combined_df = pd.concat([daily_avg_full, daily_total_2025], ignore_index=True)\n",
        "\n",
        "# ---- PLOT ----\n",
        "fig = px.line(\n",
        "    combined_df,\n",
        "    x=\"day\",\n",
        "    y=\"count\",\n",
        "    color=\"year\",\n",
        "    markers=True,\n",
        "    title=\"Promedio diario de incidentes por día del mes\",\n",
        "    labels={\"day\": \"Día del mes\", \"count\": \"Incidentes\", \"year\": \"Año\"}\n",
        ")\n",
        "\n",
        "fig.update_layout(\n",
        "    xaxis=dict(tickmode=\"linear\", tick0=1, dtick=1),\n",
        "    height=600,\n",
        "    legend_title_text=\"Año\",\n",
        "    annotations=[\n",
        "        dict(\n",
        "            x=25, y=combined_df[\"count\"].max() * 0.95,\n",
        "            text=\"* 2025 escalado con base en 2 meses de datos\",\n",
        "            showarrow=False,\n",
        "            font=dict(size=12, color=\"gray\")\n",
        "        )\n",
        "    ]\n",
        ")\n",
        "\n",
        "fig.show()"
      ],
      "metadata": {
        "colab": {
          "base_uri": "https://localhost:8080/",
          "height": 617
        },
        "id": "j_qdbNWnjhWM",
        "outputId": "7d3557c6-4e30-4dfe-95a5-5ecf227f59ef"
      },
      "execution_count": 67,
      "outputs": [
        {
          "output_type": "display_data",
          "data": {
            "text/html": [
              "<html>\n",
              "<head><meta charset=\"utf-8\" /></head>\n",
              "<body>\n",
              "    <div>            <script src=\"https://cdnjs.cloudflare.com/ajax/libs/mathjax/2.7.5/MathJax.js?config=TeX-AMS-MML_SVG\"></script><script type=\"text/javascript\">if (window.MathJax && window.MathJax.Hub && window.MathJax.Hub.Config) {window.MathJax.Hub.Config({SVG: {font: \"STIX-Web\"}});}</script>                <script type=\"text/javascript\">window.PlotlyConfig = {MathJaxConfig: 'local'};</script>\n",
              "        <script charset=\"utf-8\" src=\"https://cdn.plot.ly/plotly-2.35.2.min.js\"></script>                <div id=\"a6f94295-c960-4f87-81a7-7fd862641bdf\" class=\"plotly-graph-div\" style=\"height:600px; width:100%;\"></div>            <script type=\"text/javascript\">                                    window.PLOTLYENV=window.PLOTLYENV || {};                                    if (document.getElementById(\"a6f94295-c960-4f87-81a7-7fd862641bdf\")) {                    Plotly.newPlot(                        \"a6f94295-c960-4f87-81a7-7fd862641bdf\",                        [{\"hovertemplate\":\"Año=2020\\u003cbr\\u003eDía del mes=%{x}\\u003cbr\\u003eIncidentes=%{y}\\u003cextra\\u003e\\u003c\\u002fextra\\u003e\",\"legendgroup\":\"2020\",\"line\":{\"color\":\"#636efa\",\"dash\":\"solid\"},\"marker\":{\"symbol\":\"circle\"},\"mode\":\"lines+markers\",\"name\":\"2020\",\"orientation\":\"v\",\"showlegend\":true,\"x\":[1,2,3,4,5,6,7,8,9,10,11,12,13,14,15,16,17,18,19,20,21,22,23,24,25,26,27,28,29,30,31],\"xaxis\":\"x\",\"y\":[40.0,44.0,62.0,50.0,48.0,70.0,60.0,30.0,44.0,62.0,40.0,20.0,56.0,76.0,58.0,32.0,68.0,44.0,40.0,56.0,50.0,34.0,38.0,62.0,54.0,42.0,66.0,40.0,48.0,50.0,18.0],\"yaxis\":\"y\",\"type\":\"scatter\"},{\"hovertemplate\":\"Año=2021\\u003cbr\\u003eDía del mes=%{x}\\u003cbr\\u003eIncidentes=%{y}\\u003cextra\\u003e\\u003c\\u002fextra\\u003e\",\"legendgroup\":\"2021\",\"line\":{\"color\":\"#EF553B\",\"dash\":\"solid\"},\"marker\":{\"symbol\":\"circle\"},\"mode\":\"lines+markers\",\"name\":\"2021\",\"orientation\":\"v\",\"showlegend\":true,\"x\":[1,2,3,4,5,6,7,8,9,10,11,12,13,14,15,16,17,18,19,20,21,22,23,24,25,26,27,28,29,30,31],\"xaxis\":\"x\",\"y\":[76.0,68.0,66.0,52.0,62.0,40.0,70.0,42.0,56.0,70.0,34.0,60.0,42.0,42.0,62.0,78.0,58.0,56.0,40.0,58.0,54.0,54.0,52.0,52.0,38.0,60.0,52.0,42.0,40.0,48.0,26.0],\"yaxis\":\"y\",\"type\":\"scatter\"},{\"hovertemplate\":\"Año=2022\\u003cbr\\u003eDía del mes=%{x}\\u003cbr\\u003eIncidentes=%{y}\\u003cextra\\u003e\\u003c\\u002fextra\\u003e\",\"legendgroup\":\"2022\",\"line\":{\"color\":\"#00cc96\",\"dash\":\"solid\"},\"marker\":{\"symbol\":\"circle\"},\"mode\":\"lines+markers\",\"name\":\"2022\",\"orientation\":\"v\",\"showlegend\":true,\"x\":[1,2,3,4,5,6,7,8,9,10,11,12,13,14,15,16,17,18,19,20,21,22,23,24,25,26,27,28,29,30,31],\"xaxis\":\"x\",\"y\":[72.0,60.0,94.0,72.0,80.0,72.0,78.0,72.0,58.0,100.0,60.0,76.0,62.0,70.0,64.0,64.0,78.0,90.0,98.0,66.0,78.0,88.0,76.0,64.0,74.0,72.0,72.0,94.0,52.0,86.0,26.0],\"yaxis\":\"y\",\"type\":\"scatter\"},{\"hovertemplate\":\"Año=2023\\u003cbr\\u003eDía del mes=%{x}\\u003cbr\\u003eIncidentes=%{y}\\u003cextra\\u003e\\u003c\\u002fextra\\u003e\",\"legendgroup\":\"2023\",\"line\":{\"color\":\"#ab63fa\",\"dash\":\"solid\"},\"marker\":{\"symbol\":\"circle\"},\"mode\":\"lines+markers\",\"name\":\"2023\",\"orientation\":\"v\",\"showlegend\":true,\"x\":[1,2,3,4,5,6,7,8,9,10,11,12,13,14,15,16,17,18,19,20,21,22,23,24,25,26,27,28,29,30,31],\"xaxis\":\"x\",\"y\":[60.0,76.0,58.0,64.0,40.0,70.0,72.0,64.0,56.0,42.0,62.0,52.0,52.0,78.0,58.0,64.0,60.0,52.0,52.0,62.0,64.0,66.0,54.0,64.0,60.0,64.0,68.0,58.0,36.0,40.0,34.0],\"yaxis\":\"y\",\"type\":\"scatter\"},{\"hovertemplate\":\"Año=2024\\u003cbr\\u003eDía del mes=%{x}\\u003cbr\\u003eIncidentes=%{y}\\u003cextra\\u003e\\u003c\\u002fextra\\u003e\",\"legendgroup\":\"2024\",\"line\":{\"color\":\"#FFA15A\",\"dash\":\"solid\"},\"marker\":{\"symbol\":\"circle\"},\"mode\":\"lines+markers\",\"name\":\"2024\",\"orientation\":\"v\",\"showlegend\":true,\"x\":[1,2,3,4,5,6,7,8,9,10,11,12,13,14,15,16,17,18,19,20,21,22,23,24,25,26,27,28,29,30,31],\"xaxis\":\"x\",\"y\":[56.0,80.0,62.0,58.0,56.0,48.0,56.0,70.0,70.0,48.0,58.0,68.0,60.0,72.0,90.0,56.0,82.0,66.0,64.0,64.0,44.0,58.0,82.0,72.0,74.0,84.0,50.0,62.0,60.0,66.0,40.0],\"yaxis\":\"y\",\"type\":\"scatter\"},{\"hovertemplate\":\"Año=2025 (estimado)\\u003cbr\\u003eDía del mes=%{x}\\u003cbr\\u003eIncidentes=%{y}\\u003cextra\\u003e\\u003c\\u002fextra\\u003e\",\"legendgroup\":\"2025 (estimado)\",\"line\":{\"color\":\"#19d3f3\",\"dash\":\"solid\"},\"marker\":{\"symbol\":\"circle\"},\"mode\":\"lines+markers\",\"name\":\"2025 (estimado)\",\"orientation\":\"v\",\"showlegend\":true,\"x\":[1,2,3,4,5,6,7,9,10,11,12,13,14,15,16,17,18,19,20,21,22,23,24,25,26,27,28,29,30,31],\"xaxis\":\"x\",\"y\":[36.0,12.0,48.0,36.0,60.0,60.0,48.0,24.0,84.0,60.0,36.0,84.0,48.0,84.0,24.0,84.0,84.0,72.0,84.0,108.0,36.0,24.0,36.0,24.0,48.0,108.0,48.0,12.0,12.0,48.0],\"yaxis\":\"y\",\"type\":\"scatter\"}],                        {\"template\":{\"data\":{\"histogram2dcontour\":[{\"type\":\"histogram2dcontour\",\"colorbar\":{\"outlinewidth\":0,\"ticks\":\"\"},\"colorscale\":[[0.0,\"#0d0887\"],[0.1111111111111111,\"#46039f\"],[0.2222222222222222,\"#7201a8\"],[0.3333333333333333,\"#9c179e\"],[0.4444444444444444,\"#bd3786\"],[0.5555555555555556,\"#d8576b\"],[0.6666666666666666,\"#ed7953\"],[0.7777777777777778,\"#fb9f3a\"],[0.8888888888888888,\"#fdca26\"],[1.0,\"#f0f921\"]]}],\"choropleth\":[{\"type\":\"choropleth\",\"colorbar\":{\"outlinewidth\":0,\"ticks\":\"\"}}],\"histogram2d\":[{\"type\":\"histogram2d\",\"colorbar\":{\"outlinewidth\":0,\"ticks\":\"\"},\"colorscale\":[[0.0,\"#0d0887\"],[0.1111111111111111,\"#46039f\"],[0.2222222222222222,\"#7201a8\"],[0.3333333333333333,\"#9c179e\"],[0.4444444444444444,\"#bd3786\"],[0.5555555555555556,\"#d8576b\"],[0.6666666666666666,\"#ed7953\"],[0.7777777777777778,\"#fb9f3a\"],[0.8888888888888888,\"#fdca26\"],[1.0,\"#f0f921\"]]}],\"heatmap\":[{\"type\":\"heatmap\",\"colorbar\":{\"outlinewidth\":0,\"ticks\":\"\"},\"colorscale\":[[0.0,\"#0d0887\"],[0.1111111111111111,\"#46039f\"],[0.2222222222222222,\"#7201a8\"],[0.3333333333333333,\"#9c179e\"],[0.4444444444444444,\"#bd3786\"],[0.5555555555555556,\"#d8576b\"],[0.6666666666666666,\"#ed7953\"],[0.7777777777777778,\"#fb9f3a\"],[0.8888888888888888,\"#fdca26\"],[1.0,\"#f0f921\"]]}],\"heatmapgl\":[{\"type\":\"heatmapgl\",\"colorbar\":{\"outlinewidth\":0,\"ticks\":\"\"},\"colorscale\":[[0.0,\"#0d0887\"],[0.1111111111111111,\"#46039f\"],[0.2222222222222222,\"#7201a8\"],[0.3333333333333333,\"#9c179e\"],[0.4444444444444444,\"#bd3786\"],[0.5555555555555556,\"#d8576b\"],[0.6666666666666666,\"#ed7953\"],[0.7777777777777778,\"#fb9f3a\"],[0.8888888888888888,\"#fdca26\"],[1.0,\"#f0f921\"]]}],\"contourcarpet\":[{\"type\":\"contourcarpet\",\"colorbar\":{\"outlinewidth\":0,\"ticks\":\"\"}}],\"contour\":[{\"type\":\"contour\",\"colorbar\":{\"outlinewidth\":0,\"ticks\":\"\"},\"colorscale\":[[0.0,\"#0d0887\"],[0.1111111111111111,\"#46039f\"],[0.2222222222222222,\"#7201a8\"],[0.3333333333333333,\"#9c179e\"],[0.4444444444444444,\"#bd3786\"],[0.5555555555555556,\"#d8576b\"],[0.6666666666666666,\"#ed7953\"],[0.7777777777777778,\"#fb9f3a\"],[0.8888888888888888,\"#fdca26\"],[1.0,\"#f0f921\"]]}],\"surface\":[{\"type\":\"surface\",\"colorbar\":{\"outlinewidth\":0,\"ticks\":\"\"},\"colorscale\":[[0.0,\"#0d0887\"],[0.1111111111111111,\"#46039f\"],[0.2222222222222222,\"#7201a8\"],[0.3333333333333333,\"#9c179e\"],[0.4444444444444444,\"#bd3786\"],[0.5555555555555556,\"#d8576b\"],[0.6666666666666666,\"#ed7953\"],[0.7777777777777778,\"#fb9f3a\"],[0.8888888888888888,\"#fdca26\"],[1.0,\"#f0f921\"]]}],\"mesh3d\":[{\"type\":\"mesh3d\",\"colorbar\":{\"outlinewidth\":0,\"ticks\":\"\"}}],\"scatter\":[{\"fillpattern\":{\"fillmode\":\"overlay\",\"size\":10,\"solidity\":0.2},\"type\":\"scatter\"}],\"parcoords\":[{\"type\":\"parcoords\",\"line\":{\"colorbar\":{\"outlinewidth\":0,\"ticks\":\"\"}}}],\"scatterpolargl\":[{\"type\":\"scatterpolargl\",\"marker\":{\"colorbar\":{\"outlinewidth\":0,\"ticks\":\"\"}}}],\"bar\":[{\"error_x\":{\"color\":\"#2a3f5f\"},\"error_y\":{\"color\":\"#2a3f5f\"},\"marker\":{\"line\":{\"color\":\"#E5ECF6\",\"width\":0.5},\"pattern\":{\"fillmode\":\"overlay\",\"size\":10,\"solidity\":0.2}},\"type\":\"bar\"}],\"scattergeo\":[{\"type\":\"scattergeo\",\"marker\":{\"colorbar\":{\"outlinewidth\":0,\"ticks\":\"\"}}}],\"scatterpolar\":[{\"type\":\"scatterpolar\",\"marker\":{\"colorbar\":{\"outlinewidth\":0,\"ticks\":\"\"}}}],\"histogram\":[{\"marker\":{\"pattern\":{\"fillmode\":\"overlay\",\"size\":10,\"solidity\":0.2}},\"type\":\"histogram\"}],\"scattergl\":[{\"type\":\"scattergl\",\"marker\":{\"colorbar\":{\"outlinewidth\":0,\"ticks\":\"\"}}}],\"scatter3d\":[{\"type\":\"scatter3d\",\"line\":{\"colorbar\":{\"outlinewidth\":0,\"ticks\":\"\"}},\"marker\":{\"colorbar\":{\"outlinewidth\":0,\"ticks\":\"\"}}}],\"scattermapbox\":[{\"type\":\"scattermapbox\",\"marker\":{\"colorbar\":{\"outlinewidth\":0,\"ticks\":\"\"}}}],\"scatterternary\":[{\"type\":\"scatterternary\",\"marker\":{\"colorbar\":{\"outlinewidth\":0,\"ticks\":\"\"}}}],\"scattercarpet\":[{\"type\":\"scattercarpet\",\"marker\":{\"colorbar\":{\"outlinewidth\":0,\"ticks\":\"\"}}}],\"carpet\":[{\"aaxis\":{\"endlinecolor\":\"#2a3f5f\",\"gridcolor\":\"white\",\"linecolor\":\"white\",\"minorgridcolor\":\"white\",\"startlinecolor\":\"#2a3f5f\"},\"baxis\":{\"endlinecolor\":\"#2a3f5f\",\"gridcolor\":\"white\",\"linecolor\":\"white\",\"minorgridcolor\":\"white\",\"startlinecolor\":\"#2a3f5f\"},\"type\":\"carpet\"}],\"table\":[{\"cells\":{\"fill\":{\"color\":\"#EBF0F8\"},\"line\":{\"color\":\"white\"}},\"header\":{\"fill\":{\"color\":\"#C8D4E3\"},\"line\":{\"color\":\"white\"}},\"type\":\"table\"}],\"barpolar\":[{\"marker\":{\"line\":{\"color\":\"#E5ECF6\",\"width\":0.5},\"pattern\":{\"fillmode\":\"overlay\",\"size\":10,\"solidity\":0.2}},\"type\":\"barpolar\"}],\"pie\":[{\"automargin\":true,\"type\":\"pie\"}]},\"layout\":{\"autotypenumbers\":\"strict\",\"colorway\":[\"#636efa\",\"#EF553B\",\"#00cc96\",\"#ab63fa\",\"#FFA15A\",\"#19d3f3\",\"#FF6692\",\"#B6E880\",\"#FF97FF\",\"#FECB52\"],\"font\":{\"color\":\"#2a3f5f\"},\"hovermode\":\"closest\",\"hoverlabel\":{\"align\":\"left\"},\"paper_bgcolor\":\"white\",\"plot_bgcolor\":\"#E5ECF6\",\"polar\":{\"bgcolor\":\"#E5ECF6\",\"angularaxis\":{\"gridcolor\":\"white\",\"linecolor\":\"white\",\"ticks\":\"\"},\"radialaxis\":{\"gridcolor\":\"white\",\"linecolor\":\"white\",\"ticks\":\"\"}},\"ternary\":{\"bgcolor\":\"#E5ECF6\",\"aaxis\":{\"gridcolor\":\"white\",\"linecolor\":\"white\",\"ticks\":\"\"},\"baxis\":{\"gridcolor\":\"white\",\"linecolor\":\"white\",\"ticks\":\"\"},\"caxis\":{\"gridcolor\":\"white\",\"linecolor\":\"white\",\"ticks\":\"\"}},\"coloraxis\":{\"colorbar\":{\"outlinewidth\":0,\"ticks\":\"\"}},\"colorscale\":{\"sequential\":[[0.0,\"#0d0887\"],[0.1111111111111111,\"#46039f\"],[0.2222222222222222,\"#7201a8\"],[0.3333333333333333,\"#9c179e\"],[0.4444444444444444,\"#bd3786\"],[0.5555555555555556,\"#d8576b\"],[0.6666666666666666,\"#ed7953\"],[0.7777777777777778,\"#fb9f3a\"],[0.8888888888888888,\"#fdca26\"],[1.0,\"#f0f921\"]],\"sequentialminus\":[[0.0,\"#0d0887\"],[0.1111111111111111,\"#46039f\"],[0.2222222222222222,\"#7201a8\"],[0.3333333333333333,\"#9c179e\"],[0.4444444444444444,\"#bd3786\"],[0.5555555555555556,\"#d8576b\"],[0.6666666666666666,\"#ed7953\"],[0.7777777777777778,\"#fb9f3a\"],[0.8888888888888888,\"#fdca26\"],[1.0,\"#f0f921\"]],\"diverging\":[[0,\"#8e0152\"],[0.1,\"#c51b7d\"],[0.2,\"#de77ae\"],[0.3,\"#f1b6da\"],[0.4,\"#fde0ef\"],[0.5,\"#f7f7f7\"],[0.6,\"#e6f5d0\"],[0.7,\"#b8e186\"],[0.8,\"#7fbc41\"],[0.9,\"#4d9221\"],[1,\"#276419\"]]},\"xaxis\":{\"gridcolor\":\"white\",\"linecolor\":\"white\",\"ticks\":\"\",\"title\":{\"standoff\":15},\"zerolinecolor\":\"white\",\"automargin\":true,\"zerolinewidth\":2},\"yaxis\":{\"gridcolor\":\"white\",\"linecolor\":\"white\",\"ticks\":\"\",\"title\":{\"standoff\":15},\"zerolinecolor\":\"white\",\"automargin\":true,\"zerolinewidth\":2},\"scene\":{\"xaxis\":{\"backgroundcolor\":\"#E5ECF6\",\"gridcolor\":\"white\",\"linecolor\":\"white\",\"showbackground\":true,\"ticks\":\"\",\"zerolinecolor\":\"white\",\"gridwidth\":2},\"yaxis\":{\"backgroundcolor\":\"#E5ECF6\",\"gridcolor\":\"white\",\"linecolor\":\"white\",\"showbackground\":true,\"ticks\":\"\",\"zerolinecolor\":\"white\",\"gridwidth\":2},\"zaxis\":{\"backgroundcolor\":\"#E5ECF6\",\"gridcolor\":\"white\",\"linecolor\":\"white\",\"showbackground\":true,\"ticks\":\"\",\"zerolinecolor\":\"white\",\"gridwidth\":2}},\"shapedefaults\":{\"line\":{\"color\":\"#2a3f5f\"}},\"annotationdefaults\":{\"arrowcolor\":\"#2a3f5f\",\"arrowhead\":0,\"arrowwidth\":1},\"geo\":{\"bgcolor\":\"white\",\"landcolor\":\"#E5ECF6\",\"subunitcolor\":\"white\",\"showland\":true,\"showlakes\":true,\"lakecolor\":\"white\"},\"title\":{\"x\":0.05},\"mapbox\":{\"style\":\"light\"}}},\"xaxis\":{\"anchor\":\"y\",\"domain\":[0.0,1.0],\"title\":{\"text\":\"Día del mes\"},\"tickmode\":\"linear\",\"tick0\":1,\"dtick\":1},\"yaxis\":{\"anchor\":\"x\",\"domain\":[0.0,1.0],\"title\":{\"text\":\"Incidentes\"}},\"legend\":{\"title\":{\"text\":\"Año\"},\"tracegroupgap\":0},\"title\":{\"text\":\"Promedio diario de incidentes por día del mes\"},\"height\":600,\"annotations\":[{\"font\":{\"color\":\"gray\",\"size\":12},\"showarrow\":false,\"text\":\"* 2025 escalado con base en 2 meses de datos\",\"x\":25,\"y\":102.6}]},                        {\"responsive\": true}                    ).then(function(){\n",
              "                            \n",
              "var gd = document.getElementById('a6f94295-c960-4f87-81a7-7fd862641bdf');\n",
              "var x = new MutationObserver(function (mutations, observer) {{\n",
              "        var display = window.getComputedStyle(gd).display;\n",
              "        if (!display || display === 'none') {{\n",
              "            console.log([gd, 'removed!']);\n",
              "            Plotly.purge(gd);\n",
              "            observer.disconnect();\n",
              "        }}\n",
              "}});\n",
              "\n",
              "// Listen for the removal of the full notebook cells\n",
              "var notebookContainer = gd.closest('#notebook-container');\n",
              "if (notebookContainer) {{\n",
              "    x.observe(notebookContainer, {childList: true});\n",
              "}}\n",
              "\n",
              "// Listen for the clearing of the current output cell\n",
              "var outputEl = gd.closest('.output');\n",
              "if (outputEl) {{\n",
              "    x.observe(outputEl, {childList: true});\n",
              "}}\n",
              "\n",
              "                        })                };                            </script>        </div>\n",
              "</body>\n",
              "</html>"
            ]
          },
          "metadata": {}
        }
      ]
    },
    {
      "cell_type": "code",
      "source": [
        "df_others = df_m[df_m[\"year\"] != 2025]\n",
        "df_2025 = df_m[df_m[\"year\"] == 2025]\n",
        "\n",
        "# Calculate average monthly counts for full years (excluding 2025)\n",
        "monthly_counts_others = df_others.groupby([\"year\", \"month\"]).size().reset_index(name=\"count\")\n",
        "avg_per_month_others = monthly_counts_others.groupby(\"month\")[\"count\"].mean().reset_index(name=\"avg_count\")\n",
        "\n",
        "# Get 2025 monthly counts (only actual data, no averaging needed)\n",
        "monthly_counts_2025 = df_2025.groupby(\"month\").size().reset_index(name=\"count\")\n",
        "\n",
        "# Create figure\n",
        "fig = go.Figure()\n",
        "\n",
        "# Add average per month trace for other years (line)\n",
        "fig.add_trace(go.Scatter(\n",
        "    x=avg_per_month_others[\"month\"],\n",
        "    y=avg_per_month_others[\"avg_count\"],\n",
        "    mode='lines+markers',\n",
        "    name='Promedio mensual (Años completos)',\n",
        "    line=dict(color='blue')\n",
        "))\n",
        "\n",
        "# Add 2025 actual monthly counts trace (markers and dashed line)\n",
        "fig.add_trace(go.Scatter(\n",
        "    x=monthly_counts_2025[\"month\"],\n",
        "    y=monthly_counts_2025[\"count\"],\n",
        "    mode='lines+markers',\n",
        "    name='Datos 2025 (Parciales)',\n",
        "    line=dict(color='red', dash='dash')\n",
        "))\n",
        "\n",
        "# Update layout\n",
        "fig.update_layout(\n",
        "    title=\"Comparación: Promedio mensual años completos vs datos parciales 2025\",\n",
        "    xaxis_title=\"Mes\",\n",
        "    yaxis_title=\"Cantidad de incidentes\",\n",
        "    xaxis=dict(tickmode='linear', tick0=1, dtick=1),\n",
        "    height=600\n",
        ")\n",
        "\n",
        "fig.show()"
      ],
      "metadata": {
        "colab": {
          "base_uri": "https://localhost:8080/",
          "height": 617
        },
        "id": "TdWUpNM6IGPg",
        "outputId": "c16d0c89-c0d6-47ab-c8d7-2b3cc0763587"
      },
      "execution_count": 23,
      "outputs": [
        {
          "output_type": "display_data",
          "data": {
            "text/html": [
              "<html>\n",
              "<head><meta charset=\"utf-8\" /></head>\n",
              "<body>\n",
              "    <div>            <script src=\"https://cdnjs.cloudflare.com/ajax/libs/mathjax/2.7.5/MathJax.js?config=TeX-AMS-MML_SVG\"></script><script type=\"text/javascript\">if (window.MathJax && window.MathJax.Hub && window.MathJax.Hub.Config) {window.MathJax.Hub.Config({SVG: {font: \"STIX-Web\"}});}</script>                <script type=\"text/javascript\">window.PlotlyConfig = {MathJaxConfig: 'local'};</script>\n",
              "        <script charset=\"utf-8\" src=\"https://cdn.plot.ly/plotly-2.35.2.min.js\"></script>                <div id=\"78e24166-c361-41ed-ab24-f93ca91e535a\" class=\"plotly-graph-div\" style=\"height:600px; width:100%;\"></div>            <script type=\"text/javascript\">                                    window.PLOTLYENV=window.PLOTLYENV || {};                                    if (document.getElementById(\"78e24166-c361-41ed-ab24-f93ca91e535a\")) {                    Plotly.newPlot(                        \"78e24166-c361-41ed-ab24-f93ca91e535a\",                        [{\"line\":{\"color\":\"blue\"},\"mode\":\"lines+markers\",\"name\":\"Promedio mensual (Años completos)\",\"x\":[1,2,3,4,5,6,7,8,9,10,11,12],\"y\":[154.4,168.8,173.6,124.8,151.2,134.8,141.6,162.4,140.0,173.2,161.6,153.2],\"type\":\"scatter\"},{\"line\":{\"color\":\"red\",\"dash\":\"dash\"},\"mode\":\"lines+markers\",\"name\":\"Datos 2025 (Parciales)\",\"x\":[1,2],\"y\":[160,102],\"type\":\"scatter\"}],                        {\"template\":{\"data\":{\"histogram2dcontour\":[{\"type\":\"histogram2dcontour\",\"colorbar\":{\"outlinewidth\":0,\"ticks\":\"\"},\"colorscale\":[[0.0,\"#0d0887\"],[0.1111111111111111,\"#46039f\"],[0.2222222222222222,\"#7201a8\"],[0.3333333333333333,\"#9c179e\"],[0.4444444444444444,\"#bd3786\"],[0.5555555555555556,\"#d8576b\"],[0.6666666666666666,\"#ed7953\"],[0.7777777777777778,\"#fb9f3a\"],[0.8888888888888888,\"#fdca26\"],[1.0,\"#f0f921\"]]}],\"choropleth\":[{\"type\":\"choropleth\",\"colorbar\":{\"outlinewidth\":0,\"ticks\":\"\"}}],\"histogram2d\":[{\"type\":\"histogram2d\",\"colorbar\":{\"outlinewidth\":0,\"ticks\":\"\"},\"colorscale\":[[0.0,\"#0d0887\"],[0.1111111111111111,\"#46039f\"],[0.2222222222222222,\"#7201a8\"],[0.3333333333333333,\"#9c179e\"],[0.4444444444444444,\"#bd3786\"],[0.5555555555555556,\"#d8576b\"],[0.6666666666666666,\"#ed7953\"],[0.7777777777777778,\"#fb9f3a\"],[0.8888888888888888,\"#fdca26\"],[1.0,\"#f0f921\"]]}],\"heatmap\":[{\"type\":\"heatmap\",\"colorbar\":{\"outlinewidth\":0,\"ticks\":\"\"},\"colorscale\":[[0.0,\"#0d0887\"],[0.1111111111111111,\"#46039f\"],[0.2222222222222222,\"#7201a8\"],[0.3333333333333333,\"#9c179e\"],[0.4444444444444444,\"#bd3786\"],[0.5555555555555556,\"#d8576b\"],[0.6666666666666666,\"#ed7953\"],[0.7777777777777778,\"#fb9f3a\"],[0.8888888888888888,\"#fdca26\"],[1.0,\"#f0f921\"]]}],\"heatmapgl\":[{\"type\":\"heatmapgl\",\"colorbar\":{\"outlinewidth\":0,\"ticks\":\"\"},\"colorscale\":[[0.0,\"#0d0887\"],[0.1111111111111111,\"#46039f\"],[0.2222222222222222,\"#7201a8\"],[0.3333333333333333,\"#9c179e\"],[0.4444444444444444,\"#bd3786\"],[0.5555555555555556,\"#d8576b\"],[0.6666666666666666,\"#ed7953\"],[0.7777777777777778,\"#fb9f3a\"],[0.8888888888888888,\"#fdca26\"],[1.0,\"#f0f921\"]]}],\"contourcarpet\":[{\"type\":\"contourcarpet\",\"colorbar\":{\"outlinewidth\":0,\"ticks\":\"\"}}],\"contour\":[{\"type\":\"contour\",\"colorbar\":{\"outlinewidth\":0,\"ticks\":\"\"},\"colorscale\":[[0.0,\"#0d0887\"],[0.1111111111111111,\"#46039f\"],[0.2222222222222222,\"#7201a8\"],[0.3333333333333333,\"#9c179e\"],[0.4444444444444444,\"#bd3786\"],[0.5555555555555556,\"#d8576b\"],[0.6666666666666666,\"#ed7953\"],[0.7777777777777778,\"#fb9f3a\"],[0.8888888888888888,\"#fdca26\"],[1.0,\"#f0f921\"]]}],\"surface\":[{\"type\":\"surface\",\"colorbar\":{\"outlinewidth\":0,\"ticks\":\"\"},\"colorscale\":[[0.0,\"#0d0887\"],[0.1111111111111111,\"#46039f\"],[0.2222222222222222,\"#7201a8\"],[0.3333333333333333,\"#9c179e\"],[0.4444444444444444,\"#bd3786\"],[0.5555555555555556,\"#d8576b\"],[0.6666666666666666,\"#ed7953\"],[0.7777777777777778,\"#fb9f3a\"],[0.8888888888888888,\"#fdca26\"],[1.0,\"#f0f921\"]]}],\"mesh3d\":[{\"type\":\"mesh3d\",\"colorbar\":{\"outlinewidth\":0,\"ticks\":\"\"}}],\"scatter\":[{\"fillpattern\":{\"fillmode\":\"overlay\",\"size\":10,\"solidity\":0.2},\"type\":\"scatter\"}],\"parcoords\":[{\"type\":\"parcoords\",\"line\":{\"colorbar\":{\"outlinewidth\":0,\"ticks\":\"\"}}}],\"scatterpolargl\":[{\"type\":\"scatterpolargl\",\"marker\":{\"colorbar\":{\"outlinewidth\":0,\"ticks\":\"\"}}}],\"bar\":[{\"error_x\":{\"color\":\"#2a3f5f\"},\"error_y\":{\"color\":\"#2a3f5f\"},\"marker\":{\"line\":{\"color\":\"#E5ECF6\",\"width\":0.5},\"pattern\":{\"fillmode\":\"overlay\",\"size\":10,\"solidity\":0.2}},\"type\":\"bar\"}],\"scattergeo\":[{\"type\":\"scattergeo\",\"marker\":{\"colorbar\":{\"outlinewidth\":0,\"ticks\":\"\"}}}],\"scatterpolar\":[{\"type\":\"scatterpolar\",\"marker\":{\"colorbar\":{\"outlinewidth\":0,\"ticks\":\"\"}}}],\"histogram\":[{\"marker\":{\"pattern\":{\"fillmode\":\"overlay\",\"size\":10,\"solidity\":0.2}},\"type\":\"histogram\"}],\"scattergl\":[{\"type\":\"scattergl\",\"marker\":{\"colorbar\":{\"outlinewidth\":0,\"ticks\":\"\"}}}],\"scatter3d\":[{\"type\":\"scatter3d\",\"line\":{\"colorbar\":{\"outlinewidth\":0,\"ticks\":\"\"}},\"marker\":{\"colorbar\":{\"outlinewidth\":0,\"ticks\":\"\"}}}],\"scattermapbox\":[{\"type\":\"scattermapbox\",\"marker\":{\"colorbar\":{\"outlinewidth\":0,\"ticks\":\"\"}}}],\"scatterternary\":[{\"type\":\"scatterternary\",\"marker\":{\"colorbar\":{\"outlinewidth\":0,\"ticks\":\"\"}}}],\"scattercarpet\":[{\"type\":\"scattercarpet\",\"marker\":{\"colorbar\":{\"outlinewidth\":0,\"ticks\":\"\"}}}],\"carpet\":[{\"aaxis\":{\"endlinecolor\":\"#2a3f5f\",\"gridcolor\":\"white\",\"linecolor\":\"white\",\"minorgridcolor\":\"white\",\"startlinecolor\":\"#2a3f5f\"},\"baxis\":{\"endlinecolor\":\"#2a3f5f\",\"gridcolor\":\"white\",\"linecolor\":\"white\",\"minorgridcolor\":\"white\",\"startlinecolor\":\"#2a3f5f\"},\"type\":\"carpet\"}],\"table\":[{\"cells\":{\"fill\":{\"color\":\"#EBF0F8\"},\"line\":{\"color\":\"white\"}},\"header\":{\"fill\":{\"color\":\"#C8D4E3\"},\"line\":{\"color\":\"white\"}},\"type\":\"table\"}],\"barpolar\":[{\"marker\":{\"line\":{\"color\":\"#E5ECF6\",\"width\":0.5},\"pattern\":{\"fillmode\":\"overlay\",\"size\":10,\"solidity\":0.2}},\"type\":\"barpolar\"}],\"pie\":[{\"automargin\":true,\"type\":\"pie\"}]},\"layout\":{\"autotypenumbers\":\"strict\",\"colorway\":[\"#636efa\",\"#EF553B\",\"#00cc96\",\"#ab63fa\",\"#FFA15A\",\"#19d3f3\",\"#FF6692\",\"#B6E880\",\"#FF97FF\",\"#FECB52\"],\"font\":{\"color\":\"#2a3f5f\"},\"hovermode\":\"closest\",\"hoverlabel\":{\"align\":\"left\"},\"paper_bgcolor\":\"white\",\"plot_bgcolor\":\"#E5ECF6\",\"polar\":{\"bgcolor\":\"#E5ECF6\",\"angularaxis\":{\"gridcolor\":\"white\",\"linecolor\":\"white\",\"ticks\":\"\"},\"radialaxis\":{\"gridcolor\":\"white\",\"linecolor\":\"white\",\"ticks\":\"\"}},\"ternary\":{\"bgcolor\":\"#E5ECF6\",\"aaxis\":{\"gridcolor\":\"white\",\"linecolor\":\"white\",\"ticks\":\"\"},\"baxis\":{\"gridcolor\":\"white\",\"linecolor\":\"white\",\"ticks\":\"\"},\"caxis\":{\"gridcolor\":\"white\",\"linecolor\":\"white\",\"ticks\":\"\"}},\"coloraxis\":{\"colorbar\":{\"outlinewidth\":0,\"ticks\":\"\"}},\"colorscale\":{\"sequential\":[[0.0,\"#0d0887\"],[0.1111111111111111,\"#46039f\"],[0.2222222222222222,\"#7201a8\"],[0.3333333333333333,\"#9c179e\"],[0.4444444444444444,\"#bd3786\"],[0.5555555555555556,\"#d8576b\"],[0.6666666666666666,\"#ed7953\"],[0.7777777777777778,\"#fb9f3a\"],[0.8888888888888888,\"#fdca26\"],[1.0,\"#f0f921\"]],\"sequentialminus\":[[0.0,\"#0d0887\"],[0.1111111111111111,\"#46039f\"],[0.2222222222222222,\"#7201a8\"],[0.3333333333333333,\"#9c179e\"],[0.4444444444444444,\"#bd3786\"],[0.5555555555555556,\"#d8576b\"],[0.6666666666666666,\"#ed7953\"],[0.7777777777777778,\"#fb9f3a\"],[0.8888888888888888,\"#fdca26\"],[1.0,\"#f0f921\"]],\"diverging\":[[0,\"#8e0152\"],[0.1,\"#c51b7d\"],[0.2,\"#de77ae\"],[0.3,\"#f1b6da\"],[0.4,\"#fde0ef\"],[0.5,\"#f7f7f7\"],[0.6,\"#e6f5d0\"],[0.7,\"#b8e186\"],[0.8,\"#7fbc41\"],[0.9,\"#4d9221\"],[1,\"#276419\"]]},\"xaxis\":{\"gridcolor\":\"white\",\"linecolor\":\"white\",\"ticks\":\"\",\"title\":{\"standoff\":15},\"zerolinecolor\":\"white\",\"automargin\":true,\"zerolinewidth\":2},\"yaxis\":{\"gridcolor\":\"white\",\"linecolor\":\"white\",\"ticks\":\"\",\"title\":{\"standoff\":15},\"zerolinecolor\":\"white\",\"automargin\":true,\"zerolinewidth\":2},\"scene\":{\"xaxis\":{\"backgroundcolor\":\"#E5ECF6\",\"gridcolor\":\"white\",\"linecolor\":\"white\",\"showbackground\":true,\"ticks\":\"\",\"zerolinecolor\":\"white\",\"gridwidth\":2},\"yaxis\":{\"backgroundcolor\":\"#E5ECF6\",\"gridcolor\":\"white\",\"linecolor\":\"white\",\"showbackground\":true,\"ticks\":\"\",\"zerolinecolor\":\"white\",\"gridwidth\":2},\"zaxis\":{\"backgroundcolor\":\"#E5ECF6\",\"gridcolor\":\"white\",\"linecolor\":\"white\",\"showbackground\":true,\"ticks\":\"\",\"zerolinecolor\":\"white\",\"gridwidth\":2}},\"shapedefaults\":{\"line\":{\"color\":\"#2a3f5f\"}},\"annotationdefaults\":{\"arrowcolor\":\"#2a3f5f\",\"arrowhead\":0,\"arrowwidth\":1},\"geo\":{\"bgcolor\":\"white\",\"landcolor\":\"#E5ECF6\",\"subunitcolor\":\"white\",\"showland\":true,\"showlakes\":true,\"lakecolor\":\"white\"},\"title\":{\"x\":0.05},\"mapbox\":{\"style\":\"light\"}}},\"xaxis\":{\"title\":{\"text\":\"Mes\"},\"tickmode\":\"linear\",\"tick0\":1,\"dtick\":1},\"title\":{\"text\":\"Comparación: Promedio mensual años completos vs datos parciales 2025\"},\"yaxis\":{\"title\":{\"text\":\"Cantidad de incidentes\"}},\"height\":600},                        {\"responsive\": true}                    ).then(function(){\n",
              "                            \n",
              "var gd = document.getElementById('78e24166-c361-41ed-ab24-f93ca91e535a');\n",
              "var x = new MutationObserver(function (mutations, observer) {{\n",
              "        var display = window.getComputedStyle(gd).display;\n",
              "        if (!display || display === 'none') {{\n",
              "            console.log([gd, 'removed!']);\n",
              "            Plotly.purge(gd);\n",
              "            observer.disconnect();\n",
              "        }}\n",
              "}});\n",
              "\n",
              "// Listen for the removal of the full notebook cells\n",
              "var notebookContainer = gd.closest('#notebook-container');\n",
              "if (notebookContainer) {{\n",
              "    x.observe(notebookContainer, {childList: true});\n",
              "}}\n",
              "\n",
              "// Listen for the clearing of the current output cell\n",
              "var outputEl = gd.closest('.output');\n",
              "if (outputEl) {{\n",
              "    x.observe(outputEl, {childList: true});\n",
              "}}\n",
              "\n",
              "                        })                };                            </script>        </div>\n",
              "</body>\n",
              "</html>"
            ]
          },
          "metadata": {}
        }
      ]
    }
  ]
}